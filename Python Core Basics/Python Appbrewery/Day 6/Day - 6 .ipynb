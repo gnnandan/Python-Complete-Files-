{
 "cells": [
  {
   "cell_type": "markdown",
   "id": "96586e4e",
   "metadata": {},
   "source": [
    "### Functions \n",
    "https://docs.python.org/3/library/functions.html"
   ]
  },
  {
   "cell_type": "markdown",
   "id": "2ba2bb11",
   "metadata": {},
   "source": [
    "#### __<span class=\"mark\">Defining a function</span>__"
   ]
  },
  {
   "cell_type": "code",
   "execution_count": 3,
   "id": "a7197ba9",
   "metadata": {
    "ExecuteTime": {
     "end_time": "2021-08-12T02:43:25.651386Z",
     "start_time": "2021-08-12T02:43:25.643384Z"
    }
   },
   "outputs": [],
   "source": [
    "def my_func():\n",
    "    print(\"Hello\")\n",
    "    print(\"This is Inside the function\")"
   ]
  },
  {
   "cell_type": "markdown",
   "id": "d389bf4c",
   "metadata": {},
   "source": [
    "####  __<span class=\"mark\">Calling a function</span>__"
   ]
  },
  {
   "cell_type": "code",
   "execution_count": 4,
   "id": "1bdb88c1",
   "metadata": {
    "ExecuteTime": {
     "end_time": "2021-08-12T02:43:27.605882Z",
     "start_time": "2021-08-12T02:43:27.593621Z"
    }
   },
   "outputs": [
    {
     "name": "stdout",
     "output_type": "stream",
     "text": [
      "Hello\n",
      "This is Inside the function\n"
     ]
    }
   ],
   "source": [
    "my_func()"
   ]
  },
  {
   "cell_type": "markdown",
   "id": "6c507f5e",
   "metadata": {},
   "source": [
    "### Indentation in functions"
   ]
  },
  {
   "cell_type": "code",
   "execution_count": 6,
   "id": "b8c24dbd",
   "metadata": {
    "ExecuteTime": {
     "end_time": "2021-08-12T03:01:48.391055Z",
     "start_time": "2021-08-12T03:01:48.379065Z"
    },
    "scrolled": true
   },
   "outputs": [
    {
     "name": "stdout",
     "output_type": "stream",
     "text": [
      "I'm outside the function\n",
      "Hello\n",
      "I'm inside the function\n"
     ]
    }
   ],
   "source": [
    "def my_func():\n",
    "    print(\"Hello\")\n",
    "    print(\"I'm inside the function\")\n",
    "print(\"I\\'m outside the function\")\n",
    "\n",
    "\n",
    "my_func()"
   ]
  },
  {
   "cell_type": "markdown",
   "id": "32765c87",
   "metadata": {},
   "source": [
    "### While loop\n",
    "\n",
    "```\n",
    "while some_thing_true:\n",
    "    do repeatedly \n",
    "```\n",
    "\n",
    "- __for --------> iteration over__\n",
    "- __while ------> used to do repeated task__"
   ]
  },
  {
   "cell_type": "code",
   "execution_count": 1,
   "id": "938c60d5",
   "metadata": {
    "ExecuteTime": {
     "end_time": "2021-08-12T05:07:12.497103Z",
     "start_time": "2021-08-12T05:07:12.472957Z"
    }
   },
   "outputs": [
    {
     "name": "stdout",
     "output_type": "stream",
     "text": [
      "Number: 20\n",
      "Number: 19\n",
      "Number: 18\n",
      "Number: 17\n",
      "Number: 16\n",
      "Number: 15\n",
      "Number: 14\n",
      "Number: 13\n",
      "Number: 12\n",
      "Number: 11\n",
      "Number: 10\n",
      "Number: 9\n",
      "Number: 8\n",
      "Number: 7\n",
      "Number: 6\n",
      "Number: 5\n",
      "Number: 4\n",
      "Number: 3\n",
      "Number: 2\n",
      "Number: 1\n",
      "Done\n"
     ]
    }
   ],
   "source": [
    "num=20\n",
    "while num > 0:\n",
    "    print(f\"Number: {num}\")\n",
    "    num -= 1 # important if we won't use this means it will go infinate loop\n",
    "print(\"Done\")"
   ]
  }
 ],
 "metadata": {
  "kernelspec": {
   "display_name": "Python 3",
   "language": "python",
   "name": "python3"
  },
  "language_info": {
   "codemirror_mode": {
    "name": "ipython",
    "version": 3
   },
   "file_extension": ".py",
   "mimetype": "text/x-python",
   "name": "python",
   "nbconvert_exporter": "python",
   "pygments_lexer": "ipython3",
   "version": "3.8.10"
  },
  "toc": {
   "base_numbering": 1,
   "nav_menu": {},
   "number_sections": true,
   "sideBar": true,
   "skip_h1_title": false,
   "title_cell": "Table of Contents",
   "title_sidebar": "Contents",
   "toc_cell": false,
   "toc_position": {
    "height": "calc(100% - 180px)",
    "left": "10px",
    "top": "150px",
    "width": "256px"
   },
   "toc_section_display": true,
   "toc_window_display": true
  },
  "varInspector": {
   "cols": {
    "lenName": 16,
    "lenType": 16,
    "lenVar": 40
   },
   "kernels_config": {
    "python": {
     "delete_cmd_postfix": "",
     "delete_cmd_prefix": "del ",
     "library": "var_list.py",
     "varRefreshCmd": "print(var_dic_list())"
    },
    "r": {
     "delete_cmd_postfix": ") ",
     "delete_cmd_prefix": "rm(",
     "library": "var_list.r",
     "varRefreshCmd": "cat(var_dic_list()) "
    }
   },
   "types_to_exclude": [
    "module",
    "function",
    "builtin_function_or_method",
    "instance",
    "_Feature"
   ],
   "window_display": false
  }
 },
 "nbformat": 4,
 "nbformat_minor": 5
}
