{
 "cells": [
  {
   "cell_type": "code",
   "execution_count": 35,
   "id": "38f99ed7",
   "metadata": {
    "ExecuteTime": {
     "end_time": "2021-08-07T06:03:53.786793Z",
     "start_time": "2021-08-07T06:03:51.486979Z"
    }
   },
   "outputs": [
    {
     "name": "stdout",
     "output_type": "stream",
     "text": [
      "What do you chose? Type 0 for Rock, Type 1 for Paper or 2 for Scissors:1\n",
      "Your_choice >>> 1\n",
      "\n",
      "    _______\n",
      "---'   ____)____\n",
      "          ______)\n",
      "          _______)\n",
      "         _______)\n",
      "---.__________)\n",
      "\n",
      "Computer_choice >>> 1\n",
      "\n",
      "    _______\n",
      "---'   ____)____\n",
      "          ______)\n",
      "          _______)\n",
      "         _______)\n",
      "---.__________)\n",
      "\n",
      "Result: >>>> You win!\n"
     ]
    }
   ],
   "source": [
    "rock = '''\n",
    "    _______\n",
    "---'   ____)\n",
    "      (_____)\n",
    "      (_____)\n",
    "      (____)\n",
    "---.__(___)\n",
    "'''\n",
    "\n",
    "paper = '''\n",
    "    _______\n",
    "---'   ____)____\n",
    "          ______)\n",
    "          _______)\n",
    "         _______)\n",
    "---.__________)\n",
    "'''\n",
    "\n",
    "scissors = '''\n",
    "    _______\n",
    "---'   ____)____\n",
    "          ______)\n",
    "       __________)\n",
    "      (____)\n",
    "---.__(___)\n",
    "'''\n",
    "\n",
    "#  code\n",
    "import random as r\n",
    "\n",
    "game_images=[rock, paper, scissors]\n",
    "\n",
    "Your_choice=int(input(\"What do you chose? Type 0 for Rock, Type 1 for Paper or 2 for Scissors:\"))\n",
    "Computer_choice=r.randint(0,2)\n",
    "\n",
    "\n",
    "if Your_choice >=3 or Your_choice < 0:\n",
    "    print(\"It is invalid option Try again\")\n",
    "else:\n",
    "    print(f\"Your_choice >>> {Your_choice}\")\n",
    "    print(game_images[Your_choice])\n",
    "    print(f\"Computer_choice >>> {Computer_choice}\")\n",
    "    print(game_images[Computer_choice])\n",
    "    if Your_choice == 0 and Computer_choice == 2:    \n",
    "        print(\"Result: >>>> You win!\")\n",
    "\n",
    "    elif Computer_choice == 0 and Your_choice == 2:\n",
    "        print(\"Result: >>>> You lose!\") \n",
    "\n",
    "    elif Computer_choice > Your_choice:\n",
    "        print(\"Result: >>>> You loose\")\n",
    "\n",
    "\n",
    "    elif user_choice > computer_choice:\n",
    "        print(\"Result: >>>> You win!\")\n",
    "\n",
    "    elif user_choice ==  computer_choice:\n",
    "        print(\"Result: >>>> Its a draw\")\n"
   ]
  },
  {
   "cell_type": "code",
   "execution_count": 23,
   "id": "4b6017c1",
   "metadata": {
    "ExecuteTime": {
     "end_time": "2021-08-07T04:47:51.128938Z",
     "start_time": "2021-08-07T04:47:51.112994Z"
    }
   },
   "outputs": [
    {
     "data": {
      "text/plain": [
       "['BPF',\n",
       " 'LOG4',\n",
       " 'NV_MAGICCONST',\n",
       " 'RECIP_BPF',\n",
       " 'Random',\n",
       " 'SG_MAGICCONST',\n",
       " 'SystemRandom',\n",
       " 'TWOPI',\n",
       " '_Sequence',\n",
       " '_Set',\n",
       " '__all__',\n",
       " '__builtins__',\n",
       " '__cached__',\n",
       " '__doc__',\n",
       " '__file__',\n",
       " '__loader__',\n",
       " '__name__',\n",
       " '__package__',\n",
       " '__spec__',\n",
       " '_accumulate',\n",
       " '_acos',\n",
       " '_bisect',\n",
       " '_ceil',\n",
       " '_cos',\n",
       " '_e',\n",
       " '_exp',\n",
       " '_inst',\n",
       " '_log',\n",
       " '_os',\n",
       " '_pi',\n",
       " '_random',\n",
       " '_repeat',\n",
       " '_sha512',\n",
       " '_sin',\n",
       " '_sqrt',\n",
       " '_test',\n",
       " '_test_generator',\n",
       " '_urandom',\n",
       " '_warn',\n",
       " 'betavariate',\n",
       " 'choice',\n",
       " 'choices',\n",
       " 'expovariate',\n",
       " 'gammavariate',\n",
       " 'gauss',\n",
       " 'getrandbits',\n",
       " 'getstate',\n",
       " 'lognormvariate',\n",
       " 'normalvariate',\n",
       " 'paretovariate',\n",
       " 'randint',\n",
       " 'random',\n",
       " 'randrange',\n",
       " 'sample',\n",
       " 'seed',\n",
       " 'setstate',\n",
       " 'shuffle',\n",
       " 'triangular',\n",
       " 'uniform',\n",
       " 'vonmisesvariate',\n",
       " 'weibullvariate']"
      ]
     },
     "execution_count": 23,
     "metadata": {},
     "output_type": "execute_result"
    }
   ],
   "source": [
    "dir(r)"
   ]
  }
 ],
 "metadata": {
  "kernelspec": {
   "display_name": "Python 3",
   "language": "python",
   "name": "python3"
  },
  "language_info": {
   "codemirror_mode": {
    "name": "ipython",
    "version": 3
   },
   "file_extension": ".py",
   "mimetype": "text/x-python",
   "name": "python",
   "nbconvert_exporter": "python",
   "pygments_lexer": "ipython3",
   "version": "3.8.10"
  },
  "toc": {
   "base_numbering": 1,
   "nav_menu": {},
   "number_sections": true,
   "sideBar": true,
   "skip_h1_title": false,
   "title_cell": "Table of Contents",
   "title_sidebar": "Contents",
   "toc_cell": false,
   "toc_position": {},
   "toc_section_display": true,
   "toc_window_display": false
  },
  "varInspector": {
   "cols": {
    "lenName": 16,
    "lenType": 16,
    "lenVar": 40
   },
   "kernels_config": {
    "python": {
     "delete_cmd_postfix": "",
     "delete_cmd_prefix": "del ",
     "library": "var_list.py",
     "varRefreshCmd": "print(var_dic_list())"
    },
    "r": {
     "delete_cmd_postfix": ") ",
     "delete_cmd_prefix": "rm(",
     "library": "var_list.r",
     "varRefreshCmd": "cat(var_dic_list()) "
    }
   },
   "position": {
    "height": "144.667px",
    "left": "854px",
    "right": "20px",
    "top": "117px",
    "width": "350px"
   },
   "types_to_exclude": [
    "module",
    "function",
    "builtin_function_or_method",
    "instance",
    "_Feature"
   ],
   "window_display": false
  }
 },
 "nbformat": 4,
 "nbformat_minor": 5
}
