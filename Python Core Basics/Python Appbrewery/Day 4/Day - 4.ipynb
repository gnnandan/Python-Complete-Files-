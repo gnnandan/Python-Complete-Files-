{
 "cells": [
  {
   "cell_type": "markdown",
   "id": "c5ab7f24",
   "metadata": {},
   "source": [
    "## Day - 4"
   ]
  },
  {
   "cell_type": "markdown",
   "id": "b326e1b1",
   "metadata": {},
   "source": [
    "### Random Module "
   ]
  },
  {
   "cell_type": "markdown",
   "id": "ccf40872",
   "metadata": {},
   "source": [
    "#### random for int "
   ]
  },
  {
   "cell_type": "code",
   "execution_count": 3,
   "id": "cc5626e2",
   "metadata": {
    "ExecuteTime": {
     "end_time": "2021-08-06T04:49:50.860268Z",
     "start_time": "2021-08-06T04:49:50.841343Z"
    }
   },
   "outputs": [
    {
     "name": "stdout",
     "output_type": "stream",
     "text": [
      "The random number is 2\n"
     ]
    }
   ],
   "source": [
    "import random\n",
    "\n",
    "# random.randint(a, b)\n",
    "random_int=random.randint(1,10)\n",
    "print(f\"The random number is {random_int}\")"
   ]
  },
  {
   "cell_type": "markdown",
   "id": "c8da8295",
   "metadata": {
    "ExecuteTime": {
     "end_time": "2021-08-06T04:52:10.187297Z",
     "start_time": "2021-08-06T04:52:10.180309Z"
    }
   },
   "source": [
    "### Creating our own module \n",
    "1. create a file in the current folder with the extention \n",
    "2. import the module \n",
    "3. access it when ever you want"
   ]
  },
  {
   "cell_type": "code",
   "execution_count": 16,
   "id": "20c8ee97",
   "metadata": {
    "ExecuteTime": {
     "end_time": "2021-08-06T05:02:14.438036Z",
     "start_time": "2021-08-06T05:02:14.434037Z"
    }
   },
   "outputs": [
    {
     "name": "stdout",
     "output_type": "stream",
     "text": [
      "3.14\n"
     ]
    }
   ],
   "source": [
    "import module as m\n",
    "print(m.pi)"
   ]
  },
  {
   "cell_type": "markdown",
   "id": "7e2e6eff",
   "metadata": {},
   "source": [
    "#### random for float"
   ]
  },
  {
   "cell_type": "code",
   "execution_count": 22,
   "id": "5704358d",
   "metadata": {
    "ExecuteTime": {
     "end_time": "2021-08-06T05:16:39.902863Z",
     "start_time": "2021-08-06T05:16:39.893333Z"
    }
   },
   "outputs": [
    {
     "name": "stdout",
     "output_type": "stream",
     "text": [
      "0.1753665970415369\n"
     ]
    }
   ],
   "source": [
    "import random as r\n",
    "random_float=r.random()\n",
    "print(random_float)"
   ]
  },
  {
   "cell_type": "markdown",
   "id": "5aff51d9",
   "metadata": {},
   "source": [
    "### using both random int and float"
   ]
  },
  {
   "cell_type": "code",
   "execution_count": 23,
   "id": "e9143625",
   "metadata": {
    "ExecuteTime": {
     "end_time": "2021-08-06T05:19:43.536012Z",
     "start_time": "2021-08-06T05:19:43.530060Z"
    }
   },
   "outputs": [
    {
     "name": "stdout",
     "output_type": "stream",
     "text": [
      "Random INT >>> 97\n",
      "Random FLOAT >>> 0.554884730952127\n"
     ]
    }
   ],
   "source": [
    "import random as r\n",
    "\n",
    "random_int=r.randint(0,100)\n",
    "random_float= r.random()\n",
    "print(f\"Random INT >>> {random_int}\")\n",
    "print(f\"Random FLOAT >>> {random_float}\")"
   ]
  },
  {
   "cell_type": "markdown",
   "id": "d2eba573",
   "metadata": {},
   "source": [
    "#### Love Calculator"
   ]
  },
  {
   "cell_type": "code",
   "execution_count": 27,
   "id": "8ba02f33",
   "metadata": {
    "ExecuteTime": {
     "end_time": "2021-08-06T05:25:50.792371Z",
     "start_time": "2021-08-06T05:25:50.781341Z"
    }
   },
   "outputs": [
    {
     "name": "stdout",
     "output_type": "stream",
     "text": [
      "Your love_score is >>> 75%, which is Great\n"
     ]
    }
   ],
   "source": [
    "import random as r \n",
    "\n",
    "love_score=r.randint(0,100)\n",
    "\n",
    "if love_score < 10 and  love_score > 90:\n",
    "    print(f\"Your love_score is >>> {love_score}%, which is too bad or too good\")\n",
    "elif love_score > 10 and  love_score < 50:\n",
    "    print(f\"Your love_score is >>> {love_score}%, which is allright\")   \n",
    "elif love_score > 50 and  love_score < 90:\n",
    "    print(f\"Your love_score is >>> {love_score}%, which is Great\")\n",
    "else:\n",
    "    print(\"Not Valid\")"
   ]
  },
  {
   "cell_type": "markdown",
   "id": "cb31e152",
   "metadata": {},
   "source": [
    "#### <span class=\"mark\">__Head or Tails__</span>"
   ]
  },
  {
   "cell_type": "code",
   "execution_count": 57,
   "id": "1d3cefe0",
   "metadata": {
    "ExecuteTime": {
     "end_time": "2021-08-06T05:47:24.295190Z",
     "start_time": "2021-08-06T05:47:24.287190Z"
    },
    "code_folding": []
   },
   "outputs": [
    {
     "name": "stdout",
     "output_type": "stream",
     "text": [
      "Welcome to coin flip challenge\n",
      "Heads\n"
     ]
    }
   ],
   "source": [
    "import random as r\n",
    "print(\"Welcome to coin flip challenge\")\n",
    "coin = r.randint(0, 1)\n",
    "\n",
    "if coin == 0:\n",
    "    print(\"Tails\")\n",
    "else:\n",
    "    print(\"Heads\")"
   ]
  },
  {
   "cell_type": "markdown",
   "id": "1eb075f9",
   "metadata": {},
   "source": [
    "### Python List"
   ]
  },
  {
   "cell_type": "code",
   "execution_count": 74,
   "id": "e2da548f",
   "metadata": {
    "ExecuteTime": {
     "end_time": "2021-08-06T06:03:26.177568Z",
     "start_time": "2021-08-06T06:03:26.152078Z"
    }
   },
   "outputs": [
    {
     "name": "stdout",
     "output_type": "stream",
     "text": [
      "States in List format:>>> ['Karnataka', 'Goa', 'Andrapradesh', 'Tamilnadu'] \n",
      "\n",
      "0th position is element >>> Karnataka\n",
      "0th and 2nd position element is >>> ['Karnataka', 'Goa', 'Andrapradesh']\n",
      "\n",
      "at -1 from last >>> Tamilnadu\n",
      "\n",
      "before altering the list >>> ['Karnataka', 'Goa', 'Andrapradesh', 'Tamilnadu']\n",
      "after altering the list >>> ['KARNATAKA', 'Goa', 'Andrapradesh', 'Tamilnadu']\n",
      "\n",
      "Adding Madhyapradesh to State List: >>> ['KARNATAKA', 'Goa', 'Andrapradesh', 'Tamilnadu', 'Madhyapradesh']\n"
     ]
    }
   ],
   "source": [
    "state=['Karnataka','Goa','Andrapradesh','Tamilnadu']\n",
    "print(f\"States in List format:>>> {state} \")\n",
    "\n",
    "print()\n",
    "# accessing the list data\n",
    "print(\"0th position is element >>>\",state[0])\n",
    "print(\"0th and 2nd position element is >>>\",state[0:3]) # 3-1 \n",
    "\n",
    "print()\n",
    "# we can also access using negative index\n",
    "print(f\"at -1 from last >>> {state[-1]}\")\n",
    "\n",
    "print()\n",
    "\n",
    "# we can also alter the items of the list\n",
    "print(f\"before altering the list >>> {state}\")\n",
    "state[0]=\"KARNATAKA\"\n",
    "print(f\"after altering the list >>> {state}\")\n",
    "\n",
    "print()\n",
    "\n",
    "# we can also add item to list\n",
    "state.append('Madhyapradesh')\n",
    "print(f\"Adding Madhyapradesh to State List: >>>\", state)"
   ]
  },
  {
   "cell_type": "markdown",
   "id": "f4180f68",
   "metadata": {},
   "source": [
    "visit for more operations: https://docs.python.org/3/tutorial/datastructures.html"
   ]
  },
  {
   "cell_type": "markdown",
   "id": "5dac9f05",
   "metadata": {},
   "source": [
    "#### <div class=\"mark\">__Banker Roulette - Who will pay the bill ?__</div>\n",
    "- without using random.choice()"
   ]
  },
  {
   "cell_type": "code",
   "execution_count": 6,
   "id": "303d2c5c",
   "metadata": {
    "ExecuteTime": {
     "end_time": "2021-08-06T13:25:03.993664Z",
     "start_time": "2021-08-06T13:25:02.828262Z"
    }
   },
   "outputs": [
    {
     "name": "stdout",
     "output_type": "stream",
     "text": [
      "Give me everybody's names, separated by a comma. >>> Nandan, Yashas, Ganesh, Pavan\n",
      "Pavan is going to buy the meal today!\n"
     ]
    }
   ],
   "source": [
    "import random as r\n",
    "\n",
    "# input the total members and splitting it with ', '\n",
    "names_string = input(\"Give me everybody's names, separated by a comma. >>> \")\n",
    "names = names_string.split(\", \")\n",
    "\n",
    "# check the len() of names \n",
    "members = len(names)\n",
    "\n",
    "# choosing their random index from the give inputs\n",
    "random_choice = r.randint(0, members - 1)\n",
    "\n",
    "# seeing the actual name of their index \n",
    "bill = names[random_choice]\n",
    "\n",
    "# printing the name of that person\n",
    "print(bill, \"is going to buy the meal today!\")"
   ]
  },
  {
   "cell_type": "markdown",
   "id": "42793154",
   "metadata": {
    "ExecuteTime": {
     "end_time": "2021-08-06T13:27:30.011208Z",
     "start_time": "2021-08-06T13:27:30.000814Z"
    }
   },
   "source": [
    "#### <div class=\"mark\">__Banker Roulette - Who will pay the bill ?__</div>\n",
    "- with using random.choice()"
   ]
  },
  {
   "cell_type": "code",
   "execution_count": 17,
   "id": "f912eda8",
   "metadata": {
    "ExecuteTime": {
     "end_time": "2021-08-06T13:33:14.480724Z",
     "start_time": "2021-08-06T13:33:12.541470Z"
    }
   },
   "outputs": [
    {
     "name": "stdout",
     "output_type": "stream",
     "text": [
      "Give me everybody's names, separated by a comma. >>> Nandan, Yashas, Ganesh, Pavan\n",
      "Yashas is going to buy the meal today!\n"
     ]
    }
   ],
   "source": [
    "import random as r \n",
    "names_string = input(\"Give me everybody's names, separated by a comma. >>> \")\n",
    "names = names_string.split(\", \")\n",
    "\n",
    "bill=r.choice(names) # using the random.choice()\n",
    "print(bill,\"is going to buy the meal today!\")"
   ]
  },
  {
   "cell_type": "code",
   "execution_count": 28,
   "id": "81386b44",
   "metadata": {
    "ExecuteTime": {
     "end_time": "2021-08-06T13:49:01.333175Z",
     "start_time": "2021-08-06T13:49:01.316742Z"
    }
   },
   "outputs": [
    {
     "name": "stdout",
     "output_type": "stream",
     "text": [
      "Broccoli\n"
     ]
    }
   ],
   "source": [
    "data = [\"Avocados\",\"Sweet corn\",\"Pineapples\",\"Cabbages\",\"Onions\",\"Sweet peas (frozen)\",\"Papayas\",\"Asparagus\",\"Mangoes\",\"Eggplants\",\"Honeydew melons\",\"Kiwis\",\"Cantaloupes\",\"Cauliflower\",\"Broccoli\"]\n",
    "list_data = len(data)\n",
    "# print(data[list_data]) >>> this will rise the error so use like this \n",
    "print(data[list_data-1])\n"
   ]
  },
  {
   "cell_type": "markdown",
   "id": "ab175a85",
   "metadata": {},
   "source": [
    "#### <div class=\"mark\">__Treasure Map__</div>\n",
    "\n",
    "__Question__\n",
    "\n",
    "- You are going to write a program which will mark a spot with an X.\n",
    "- This ```map``` contains a nested list.\n",
    "- When ```map``` is printed this is what the nested list looks like:\n",
    "```\n",
    "['⬜️', '⬜️', '⬜️'],['⬜️', '⬜️', '⬜️'],['⬜️', '⬜️', '⬜️']\n",
    "```\n",
    "In the starting code, we have used new lines (```\\n```) to format the three rows into a square, like this:\n",
    "```\n",
    "['⬜️', '⬜️', '⬜️']\n",
    "['⬜️', '⬜️', '⬜️']\n",
    "['⬜️', '⬜️', '⬜️']\n",
    "```\n",
    "This is to try and simulate the coordinates on a real map. \n",
    "\n",
    "![](https://res.cloudinary.com/dk-find-out/image/upload/q_80,w_1440,f_auto/Co-ordinates_oggjzg.jpg)\n",
    "\n",
    "Your job is to write a program that allows you to mark a square on the map using a two-digit system. The first digit is the vertical column number and the second digit is the horizontal row number. e.g.:\n",
    "\n",
    "![](https://cdn.fs.teachablecdn.com/2vnboIYTFFruvl9FJ2w5)\n",
    "\n",
    "\n",
    "__#Example Input 1__\n",
    "\n",
    "column 2, row 3 would be entered as:\n",
    "\n",
    "```\n",
    "23\n",
    "```\n",
    "\n",
    "__#Example Output 1__\n",
    "\n",
    "```\n",
    "['⬜️', '⬜️', '⬜️']\n",
    "\n",
    "['⬜️', '⬜️', '⬜️']\n",
    "\n",
    "['⬜️', 'X', '⬜️']\n",
    "```\n",
    "\n",
    "__#Example Input 2__\n",
    "\n",
    "column 3, row 1 would be entered as:\n",
    "\n",
    "```\n",
    "31\n",
    "```\n",
    "\n",
    "__#Example Output 2__\n",
    "\n",
    "```\n",
    "['⬜️', '⬜️', 'X']\n",
    "\n",
    "['⬜️', '⬜️', '⬜️']\n",
    "\n",
    "['⬜️', '⬜️', '⬜️']\n",
    "```\n",
    "\n",
    "e.g. When you hit **run**, this is what should happen: \n",
    "\n",
    "![](https://cdn.fs.teachablecdn.com/5hliFjyIR96LdestyfPd)\n",
    "\n",
    "\n",
    "- First your program must take the user input and convert it to a usable format. \n",
    "\n",
    "- Next, you need to use it to update your nested list with an \"x\". \n",
    "\n",
    "\n",
    "__#Hint__\n",
    "\n",
    "1. Remember that Lists start at index 0!\n",
    "2. ```map``` is just a variable that contains a nested list. It's not related to the map function in Python.\n"
   ]
  },
  {
   "cell_type": "code",
   "execution_count": 74,
   "id": "6cf1858f",
   "metadata": {
    "ExecuteTime": {
     "end_time": "2021-08-06T14:41:34.399267Z",
     "start_time": "2021-08-06T14:41:33.004591Z"
    }
   },
   "outputs": [
    {
     "name": "stdout",
     "output_type": "stream",
     "text": [
      "['⬜️', '⬜️', '⬜️']\n",
      "['⬜️', '⬜️', '⬜️']\n",
      "['⬜️', '⬜️', '⬜️']\n",
      "Where do you want to put the treasure? 11\n",
      "['X', '⬜️', '⬜️']\n",
      "['⬜️', '⬜️', '⬜️']\n",
      "['⬜️', '⬜️', '⬜️']\n"
     ]
    }
   ],
   "source": [
    "# Treasure Map Program\n",
    "\n",
    "# given\n",
    "row1 = [\"⬜️\",\"⬜️\",\"⬜️\"]\n",
    "row2 = [\"⬜️\",\"⬜️\",\"⬜️\"]\n",
    "row3 = [\"⬜️\",\"⬜️\",\"⬜️\"]\n",
    "map = [row1, row2, row3]\n",
    "print(f\"{row1}\\n{row2}\\n{row3}\")\n",
    "position = input(\"Where do you want to put the treasure? \")\n",
    "\n",
    "# our code here 👇\n",
    "\n",
    "column = int(position[0]) # specifying column\n",
    "row = int(position[1]) # specifying row\n",
    "\n",
    "# print(map) content of map\n",
    "\n",
    "map[row - 1][column - 1] = \"X\"\n",
    "\n",
    "# our code here 👆\n",
    "# given\n",
    "print(f\"{row1}\\n{row2}\\n{row3}\")"
   ]
  }
 ],
 "metadata": {
  "kernelspec": {
   "display_name": "Python 3",
   "language": "python",
   "name": "python3"
  },
  "language_info": {
   "codemirror_mode": {
    "name": "ipython",
    "version": 3
   },
   "file_extension": ".py",
   "mimetype": "text/x-python",
   "name": "python",
   "nbconvert_exporter": "python",
   "pygments_lexer": "ipython3",
   "version": "3.8.10"
  },
  "toc": {
   "base_numbering": 1,
   "nav_menu": {},
   "number_sections": true,
   "sideBar": true,
   "skip_h1_title": false,
   "title_cell": "Table of Contents",
   "title_sidebar": "Contents",
   "toc_cell": false,
   "toc_position": {
    "height": "calc(100% - 180px)",
    "left": "10px",
    "top": "150px",
    "width": "256px"
   },
   "toc_section_display": true,
   "toc_window_display": false
  },
  "varInspector": {
   "cols": {
    "lenName": 16,
    "lenType": 16,
    "lenVar": 40
   },
   "kernels_config": {
    "python": {
     "delete_cmd_postfix": "",
     "delete_cmd_prefix": "del ",
     "library": "var_list.py",
     "varRefreshCmd": "print(var_dic_list())"
    },
    "r": {
     "delete_cmd_postfix": ") ",
     "delete_cmd_prefix": "rm(",
     "library": "var_list.r",
     "varRefreshCmd": "cat(var_dic_list()) "
    }
   },
   "types_to_exclude": [
    "module",
    "function",
    "builtin_function_or_method",
    "instance",
    "_Feature"
   ],
   "window_display": false
  }
 },
 "nbformat": 4,
 "nbformat_minor": 5
}
