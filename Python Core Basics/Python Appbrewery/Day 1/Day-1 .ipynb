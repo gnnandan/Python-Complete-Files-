{
 "cells": [
  {
   "cell_type": "markdown",
   "source": [
    "## Day - one"
   ],
   "metadata": {}
  },
  {
   "cell_type": "markdown",
   "source": [
    "### print() and other useful techniques"
   ],
   "metadata": {}
  },
  {
   "cell_type": "code",
   "execution_count": 6,
   "source": [
    "print(\"Hello World!\") "
   ],
   "outputs": [
    {
     "output_type": "stream",
     "name": "stdout",
     "text": [
      "Hello World!\n"
     ]
    }
   ],
   "metadata": {}
  },
  {
   "cell_type": "markdown",
   "source": [
    "### Day- one Exercise"
   ],
   "metadata": {}
  },
  {
   "cell_type": "raw",
   "source": [
    "Expected output\r\n",
    "\r\n",
    "```\r\n",
    "Day 1 - Python Print Function\r\n",
    "```\r\n",
    "\r\n",
    "```\r\n",
    "The function is declared like this:\r\n",
    "```\r\n",
    "\r\n",
    "```\r\n",
    "print('what to print')\r\n",
    "```"
   ],
   "metadata": {}
  },
  {
   "cell_type": "code",
   "execution_count": 1,
   "source": [
    "print(\"Day 1 - Python Print Function\")\r\n",
    "print(\"The function is declared like this:\")\r\n",
    "print(\"print('what to print')\")"
   ],
   "outputs": [
    {
     "output_type": "stream",
     "name": "stdout",
     "text": [
      "Day 1 - Python Print Function\n",
      "The function is declared like this:\n",
      "print('what to print')\n"
     ]
    }
   ],
   "metadata": {}
  },
  {
   "cell_type": "markdown",
   "source": [
    "### String and String Manipulation"
   ],
   "metadata": {}
  },
  {
   "cell_type": "raw",
   "source": [
    "# using new \\n"
   ],
   "metadata": {}
  },
  {
   "cell_type": "code",
   "execution_count": 12,
   "source": [
    "print(\"Hello World!\\nHello World!\")"
   ],
   "outputs": [
    {
     "output_type": "stream",
     "name": "stdout",
     "text": [
      "Hello World!\n",
      "Hello World!\n"
     ]
    }
   ],
   "metadata": {}
  },
  {
   "cell_type": "raw",
   "source": [
    "concatenating string"
   ],
   "metadata": {}
  },
  {
   "cell_type": "code",
   "execution_count": 13,
   "source": [
    "print(\"Hello\"+\" World!\")"
   ],
   "outputs": [
    {
     "output_type": "stream",
     "name": "stdout",
     "text": [
      "Hello World!\n"
     ]
    }
   ],
   "metadata": {
    "scrolled": true
   }
  },
  {
   "cell_type": "markdown",
   "source": [
    "#### String Manipulation Excercise and Debugging the code"
   ],
   "metadata": {}
  },
  {
   "cell_type": "markdown",
   "source": [
    "__Question__\n",
    "\n",
    "debugging tool https://thonny.org/\n",
    "\n",
    "<code>print(Day 1 - String Manipulation\")\n",
    "print(\"String Concatenation is done with the \"+\" sign.\")\n",
    "  print('e.g. print(\"Hello \" + \"world\")')\n",
    "print((\"New lines can be created with a backslash and n.\")\n",
    "</code>\n",
    "\n",
    "__Actual Output__\n",
    "\n",
    "<br>\n",
    "<code>Day 1 - String Manipulation\n",
    "String Concatenation is done with the \"+\" sign.\n",
    "e.g. print(\"Hello \" + \"world\")\n",
    "New lines can be created with a backslash and n.</code>\n"
   ],
   "metadata": {}
  },
  {
   "cell_type": "code",
   "execution_count": 19,
   "source": [
    "# debugged \n",
    "print(\"Day 1 - String Manipulation\")\n",
    "print('String Concatenation is done with the \"+\" sign.')\n",
    "print('e.g. print(\"Hello \" + \"world\")')\n",
    "print((\"New lines can be created with a backslash and n.\"))"
   ],
   "outputs": [
    {
     "output_type": "stream",
     "name": "stdout",
     "text": [
      "Day 1 - String Manipulation\n",
      "String Concatenation is done with the \"+\" sign.\n",
      "e.g. print(\"Hello \" + \"world\")\n",
      "New lines can be created with a backslash and n.\n"
     ]
    }
   ],
   "metadata": {}
  },
  {
   "cell_type": "markdown",
   "source": [
    "### input() function"
   ],
   "metadata": {}
  },
  {
   "cell_type": "code",
   "execution_count": 26,
   "source": [
    "# can be see the debugging using thomny.org and http://pythontutor.com/\n",
    "prompt=input(\"What is your name >>\")\n",
    "print(prompt)\n",
    "\n",
    "print(\"Hello \"+input(\"What is your friend name:\"))"
   ],
   "outputs": [
    {
     "output_type": "stream",
     "name": "stdout",
     "text": [
      "What is your name >>Nandan\n",
      "Nandan\n",
      "What is your friend name:Yashas\n",
      "Hello Yashas\n"
     ]
    }
   ],
   "metadata": {
    "scrolled": true
   }
  },
  {
   "cell_type": "markdown",
   "source": [
    "#### input() function exercise\n",
    "\n",
    "__Expected Output__\n",
    "\n",
    "<code>\n",
    "__Example Input__\n",
    "```\n",
    "Angela\n",
    "```\n",
    "__Example Output__\n",
    "```\n",
    "6\n",
    "```\n",
    "</code>"
   ],
   "metadata": {}
  },
  {
   "cell_type": "code",
   "execution_count": 25,
   "source": [
    "prompt=input(\"Enter the name:\")\n",
    "print(len(prompt))\n",
    "\n",
    "# or \n",
    "\n",
    "print(len(input(\"Enter the name:\")))"
   ],
   "outputs": [
    {
     "output_type": "stream",
     "name": "stdout",
     "text": [
      "Enter the name:Nandan\n",
      "6\n",
      "Enter the name:Nandan\n",
      "6\n"
     ]
    }
   ],
   "metadata": {}
  },
  {
   "cell_type": "markdown",
   "source": [
    "### Python Variables \n"
   ],
   "metadata": {}
  },
  {
   "cell_type": "code",
   "execution_count": 34,
   "source": [
    "input(\"What is your name?\") # we need to store it somewhere so we use variable \n",
    "\n",
    "print(\"-------\")\n",
    "name=input(\"What is your name?\") # Now input is stored in a variable called name \n",
    "print(\"Your Name:\",name)\n",
    "\n",
    "print(\"-------\")\n",
    "name=input(\"What is your friend name:\") # Now name variable can be used again\n",
    "print(\"Your Friend Name:\",name)\n",
    "\n",
    "print(\"------\")\n",
    "print(len(name))"
   ],
   "outputs": [
    {
     "output_type": "stream",
     "name": "stdout",
     "text": [
      "What is your name?Nandan\n",
      "-------\n",
      "What is your name?Nandan\n",
      "Your Name: Nandan\n",
      "-------\n",
      "What is your friend name:Yashas\n",
      "Your Friend Name: Yashas\n",
      "------\n",
      "6\n"
     ]
    }
   ],
   "metadata": {}
  },
  {
   "cell_type": "markdown",
   "source": [
    "#### Python variable  exercise\n",
    "\n",
    "\n",
    "\n",
    "<code>\n",
    "__actual output__\n",
    "# Example Input\n",
    "```\n",
    "a: 3\n",
    "```\n",
    "```\n",
    "b: 5\n",
    "```\n",
    "# Example Output\n",
    "```\n",
    "a: 5\n",
    "```\n",
    "```\n",
    "b: 3\n",
    "```\n",
    "</code>\n"
   ],
   "metadata": {}
  },
  {
   "cell_type": "code",
   "execution_count": 2,
   "source": [
    "a = int(input(\"Enter a:\"))\n",
    "b = int(input(\"Enter b:\"))\n",
    "\n",
    "temp = a\n",
    "a = b\n",
    "b = temp\n",
    "\n",
    "print(\"a:\", a)\n",
    "print(\"b:\", b)"
   ],
   "outputs": [
    {
     "output_type": "stream",
     "name": "stdout",
     "text": [
      "Enter a:1\n",
      "Enter b:2\n",
      "a: 2\n",
      "b: 1\n"
     ]
    }
   ],
   "metadata": {}
  },
  {
   "cell_type": "markdown",
   "source": [
    "### Variable naming\n",
    "- <span class=\"mark\">readable</span>, <span class=\"mark\">understandable</span> "
   ],
   "metadata": {}
  },
  {
   "cell_type": "code",
   "execution_count": 1,
   "source": [
    "user_name = input(\"Enter your Name >>\")\n",
    "roll_num = input(\"Enter your Roll Number >>\")\n",
    "print(f\"My is name:{user_name} and my roll number:{roll_num}\")"
   ],
   "outputs": [
    {
     "output_type": "stream",
     "name": "stdout",
     "text": [
      "Enter your Name >>Nandan\n",
      "Enter your Roll Number >>41\n",
      "My is name:Nandan and my roll number:41\n"
     ]
    }
   ],
   "metadata": {}
  }
 ],
 "metadata": {
  "kernelspec": {
   "name": "python3",
   "display_name": "Python 3.8.10 64-bit ('base': conda)"
  },
  "language_info": {
   "codemirror_mode": {
    "name": "ipython",
    "version": 3
   },
   "file_extension": ".py",
   "mimetype": "text/x-python",
   "name": "python",
   "nbconvert_exporter": "python",
   "pygments_lexer": "ipython3",
   "version": "3.8.10"
  },
  "toc": {
   "base_numbering": 1,
   "nav_menu": {
    "height": "226px",
    "width": "266px"
   },
   "number_sections": true,
   "sideBar": true,
   "skip_h1_title": false,
   "title_cell": "Table of Contents",
   "title_sidebar": "Contents",
   "toc_cell": false,
   "toc_position": {
    "height": "calc(100% - 180px)",
    "left": "10px",
    "top": "150px",
    "width": "256px"
   },
   "toc_section_display": true,
   "toc_window_display": true
  },
  "interpreter": {
   "hash": "ed225720166559e7176d3793db16a2fd8d295f725007103b21ac3099d2a89ee8"
  }
 },
 "nbformat": 4,
 "nbformat_minor": 5
}