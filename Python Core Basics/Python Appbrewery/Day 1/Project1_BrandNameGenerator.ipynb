{
 "cells": [
  {
   "cell_type": "markdown",
   "id": "a0a9b124",
   "metadata": {},
   "source": [
    "### <span class=\"mark\">Project Description</span> \n",
    "#1. Create a greeting for your program.\n",
    "\n",
    "#2. Ask the user for the city that they grew up in.\n",
    "\n",
    "#3. Ask the user for the name of a pet.\n",
    "\n",
    "#4. Combine the name of their city and pet and show them their band name.\n",
    "\n",
    "#5. Make sure the input cursor shows on a new line, see the example at:\n",
    "https://band-name-generator-end.appbrewery.repl.run/"
   ]
  },
  {
   "cell_type": "markdown",
   "id": "dce01cdb",
   "metadata": {},
   "source": [
    "\n",
    "<span class=\"mark\">__actual output__</span>\n",
    "- Welcome to the Band Name Generator.\n",
    "- What's name of the city you grew up in?\n",
    "- Shivamogga\n",
    "- What's your pet's name?\n",
    "- Chinnu\n",
    "- Your band name could be Shivamogga Chinnu</div>"
   ]
  },
  {
   "cell_type": "raw",
   "id": "f1217e0a",
   "metadata": {},
   "source": [
    "#1 Create a greeting for your program."
   ]
  },
  {
   "cell_type": "code",
   "execution_count": 1,
   "id": "5fd21a18",
   "metadata": {},
   "outputs": [
    {
     "name": "stdout",
     "output_type": "stream",
     "text": [
      "Welcome to Band Name Generator Project\n"
     ]
    }
   ],
   "source": [
    "print(\"Welcome to Band Name Generator Project\")"
   ]
  },
  {
   "cell_type": "raw",
   "id": "a4587ad8",
   "metadata": {},
   "source": [
    "#2. Ask the user for the city that they grew up in.\n",
    "#3. Ask the user for the name of a pet."
   ]
  },
  {
   "cell_type": "code",
   "execution_count": 6,
   "id": "df0e7446",
   "metadata": {},
   "outputs": [
    {
     "name": "stdout",
     "output_type": "stream",
     "text": [
      "Welcome to Band Name Generator Project\n",
      "Enter the place where you grew up:\n",
      "Shivamogga\n",
      "Enter your pet name:\n",
      "Chinnu\n",
      "Your band name can be: Shivamogga Chinnu\n"
     ]
    }
   ],
   "source": [
    "print(\"Welcome to Band Name Generator Project\")\n",
    "grew_up_City = input(\"Enter the place where you grew up:\\n\")\n",
    "pet_name = input('Enter your pet name:\\n')\n",
    "band_name = grew_up_City + \" \" + pet_name\n",
    "print(\"Your band name can be:\", band_name)"
   ]
  }
 ],
 "metadata": {
  "kernelspec": {
   "display_name": "Python 3",
   "language": "python",
   "name": "python3"
  },
  "language_info": {
   "codemirror_mode": {
    "name": "ipython",
    "version": 3
   },
   "file_extension": ".py",
   "mimetype": "text/x-python",
   "name": "python",
   "nbconvert_exporter": "python",
   "pygments_lexer": "ipython3",
   "version": "3.8.10"
  },
  "toc": {
   "base_numbering": 1,
   "nav_menu": {},
   "number_sections": true,
   "sideBar": true,
   "skip_h1_title": false,
   "title_cell": "Table of Contents",
   "title_sidebar": "Contents",
   "toc_cell": false,
   "toc_position": {},
   "toc_section_display": true,
   "toc_window_display": false
  }
 },
 "nbformat": 4,
 "nbformat_minor": 5
}
