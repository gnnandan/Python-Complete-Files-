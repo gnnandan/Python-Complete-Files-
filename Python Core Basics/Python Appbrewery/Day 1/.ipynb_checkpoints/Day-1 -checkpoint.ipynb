{
 "cells": [
  {
   "cell_type": "markdown",
   "id": "6d70eaa3",
   "metadata": {},
   "source": [
    "## Day - one"
   ]
  },
  {
   "cell_type": "markdown",
   "id": "0b42ee5e",
   "metadata": {},
   "source": [
    "### print() and other useful techniques"
   ]
  },
  {
   "cell_type": "code",
   "execution_count": 6,
   "id": "52107195",
   "metadata": {},
   "outputs": [
    {
     "name": "stdout",
     "output_type": "stream",
     "text": [
      "Hello World!\n"
     ]
    }
   ],
   "source": [
    "print(\"Hello World!\")"
   ]
  },
  {
   "cell_type": "markdown",
   "id": "f0eb2350",
   "metadata": {},
   "source": [
    "### Day- one Exercise"
   ]
  },
  {
   "cell_type": "raw",
   "id": "55bebc8f",
   "metadata": {},
   "source": [
    "Expected output\n",
    "\n",
    "```\n",
    "Day 1 - Python Print Function\n",
    "```\n",
    "\n",
    "```\n",
    "The function is declared like this:\n",
    "```\n",
    "\n",
    "```\n",
    "print('what to print')\n",
    "```"
   ]
  },
  {
   "cell_type": "code",
   "execution_count": 10,
   "id": "9ef86e13",
   "metadata": {},
   "outputs": [
    {
     "name": "stdout",
     "output_type": "stream",
     "text": [
      "Day 1 - Python Print Function\n",
      "The function is declared like this:\n",
      "print('what to print')\n"
     ]
    }
   ],
   "source": [
    "print(\"Day 1 - Python Print Function\")\n",
    "print(\"The function is declared like this:\")\n",
    "print(\"print('what to print')\")"
   ]
  },
  {
   "cell_type": "markdown",
   "id": "dc0c8361",
   "metadata": {},
   "source": [
    "### String and String Manipulation"
   ]
  },
  {
   "cell_type": "raw",
   "id": "9133d192",
   "metadata": {},
   "source": [
    "# using new \\n"
   ]
  },
  {
   "cell_type": "code",
   "execution_count": 12,
   "id": "b21ff002",
   "metadata": {},
   "outputs": [
    {
     "name": "stdout",
     "output_type": "stream",
     "text": [
      "Hello World!\n",
      "Hello World!\n"
     ]
    }
   ],
   "source": [
    "print(\"Hello World!\\nHello World!\")"
   ]
  },
  {
   "cell_type": "raw",
   "id": "325aac79",
   "metadata": {},
   "source": [
    "concatenating string"
   ]
  },
  {
   "cell_type": "code",
   "execution_count": 13,
   "id": "e42994df",
   "metadata": {
    "scrolled": true
   },
   "outputs": [
    {
     "name": "stdout",
     "output_type": "stream",
     "text": [
      "Hello World!\n"
     ]
    }
   ],
   "source": [
    "print(\"Hello\"+\" World!\")"
   ]
  },
  {
   "cell_type": "markdown",
   "id": "cd997f21",
   "metadata": {},
   "source": [
    "#### String Manipulation Excercise and Debugging the code"
   ]
  },
  {
   "cell_type": "markdown",
   "id": "313be8b6",
   "metadata": {},
   "source": [
    "__Question__\n",
    "\n",
    "debugging tool https://thonny.org/\n",
    "\n",
    "<code>print(Day 1 - String Manipulation\")\n",
    "print(\"String Concatenation is done with the \"+\" sign.\")\n",
    "  print('e.g. print(\"Hello \" + \"world\")')\n",
    "print((\"New lines can be created with a backslash and n.\")\n",
    "</code>\n",
    "\n",
    "__Actual Output__\n",
    "\n",
    "<br>\n",
    "<code>Day 1 - String Manipulation\n",
    "String Concatenation is done with the \"+\" sign.\n",
    "e.g. print(\"Hello \" + \"world\")\n",
    "New lines can be created with a backslash and n.</code>\n"
   ]
  },
  {
   "cell_type": "code",
   "execution_count": 19,
   "id": "fa5a1e11",
   "metadata": {},
   "outputs": [
    {
     "name": "stdout",
     "output_type": "stream",
     "text": [
      "Day 1 - String Manipulation\n",
      "String Concatenation is done with the \"+\" sign.\n",
      "e.g. print(\"Hello \" + \"world\")\n",
      "New lines can be created with a backslash and n.\n"
     ]
    }
   ],
   "source": [
    "# debugged \n",
    "print(\"Day 1 - String Manipulation\")\n",
    "print('String Concatenation is done with the \"+\" sign.')\n",
    "print('e.g. print(\"Hello \" + \"world\")')\n",
    "print((\"New lines can be created with a backslash and n.\"))"
   ]
  },
  {
   "cell_type": "markdown",
   "id": "73b4413a",
   "metadata": {},
   "source": [
    "### input() function"
   ]
  },
  {
   "cell_type": "code",
   "execution_count": 26,
   "id": "0dc31483",
   "metadata": {
    "scrolled": true
   },
   "outputs": [
    {
     "name": "stdout",
     "output_type": "stream",
     "text": [
      "What is your name >>Nandan\n",
      "Nandan\n",
      "What is your friend name:Yashas\n",
      "Hello Yashas\n"
     ]
    }
   ],
   "source": [
    "# can be see the debugging using thomny.org and http://pythontutor.com/\n",
    "prompt=input(\"What is your name >>\")\n",
    "print(prompt)\n",
    "\n",
    "print(\"Hello \"+input(\"What is your friend name:\"))"
   ]
  },
  {
   "cell_type": "markdown",
   "id": "11d467f8",
   "metadata": {},
   "source": [
    "#### input() function exercise\n",
    "\n",
    "__Expected Output__\n",
    "\n",
    "<code>\n",
    "__Example Input__\n",
    "```\n",
    "Angela\n",
    "```\n",
    "__Example Output__\n",
    "```\n",
    "6\n",
    "```\n",
    "</code>"
   ]
  },
  {
   "cell_type": "code",
   "execution_count": 25,
   "id": "ae18822f",
   "metadata": {},
   "outputs": [
    {
     "name": "stdout",
     "output_type": "stream",
     "text": [
      "Enter the name:Nandan\n",
      "6\n",
      "Enter the name:Nandan\n",
      "6\n"
     ]
    }
   ],
   "source": [
    "prompt=input(\"Enter the name:\")\n",
    "print(len(prompt))\n",
    "\n",
    "# or \n",
    "\n",
    "print(len(input(\"Enter the name:\")))"
   ]
  },
  {
   "cell_type": "markdown",
   "id": "f132c787",
   "metadata": {},
   "source": [
    "### Python Variables \n"
   ]
  },
  {
   "cell_type": "code",
   "execution_count": 34,
   "id": "9b5a1885",
   "metadata": {},
   "outputs": [
    {
     "name": "stdout",
     "output_type": "stream",
     "text": [
      "What is your name?Nandan\n",
      "-------\n",
      "What is your name?Nandan\n",
      "Your Name: Nandan\n",
      "-------\n",
      "What is your friend name:Yashas\n",
      "Your Friend Name: Yashas\n",
      "------\n",
      "6\n"
     ]
    }
   ],
   "source": [
    "input(\"What is your name?\") # we need to store it somewhere so we use variable \n",
    "\n",
    "print(\"-------\")\n",
    "name=input(\"What is your name?\") # Now input is stored in a variable called name \n",
    "print(\"Your Name:\",name)\n",
    "\n",
    "print(\"-------\")\n",
    "name=input(\"What is your friend name:\") # Now name variable can be used again\n",
    "print(\"Your Friend Name:\",name)\n",
    "\n",
    "print(\"------\")\n",
    "print(len(name))"
   ]
  },
  {
   "cell_type": "markdown",
   "id": "b4ae08b8",
   "metadata": {},
   "source": [
    "#### Python variable  exercise\n",
    "\n",
    "\n",
    "\n",
    "<code>\n",
    "__actual output__\n",
    "# Example Input\n",
    "```\n",
    "a: 3\n",
    "```\n",
    "```\n",
    "b: 5\n",
    "```\n",
    "# Example Output\n",
    "```\n",
    "a: 5\n",
    "```\n",
    "```\n",
    "b: 3\n",
    "```\n",
    "</code>\n"
   ]
  },
  {
   "cell_type": "code",
   "execution_count": 2,
   "id": "e4f5f4ce",
   "metadata": {},
   "outputs": [
    {
     "name": "stdout",
     "output_type": "stream",
     "text": [
      "Enter a:1\n",
      "Enter b:2\n",
      "a: 2\n",
      "b: 1\n"
     ]
    }
   ],
   "source": [
    "a = int(input(\"Enter a:\"))\n",
    "b = int(input(\"Enter b:\"))\n",
    "\n",
    "temp = a\n",
    "a = b\n",
    "b = temp\n",
    "\n",
    "print(\"a:\", a)\n",
    "print(\"b:\", b)"
   ]
  },
  {
   "cell_type": "markdown",
   "id": "1d99261b",
   "metadata": {},
   "source": [
    "### Variable naming\n",
    "- <span class=\"mark\">readable</span>, <span class=\"mark\">understandable</span> "
   ]
  },
  {
   "cell_type": "code",
   "execution_count": 1,
   "id": "49445f7e",
   "metadata": {},
   "outputs": [
    {
     "name": "stdout",
     "output_type": "stream",
     "text": [
      "Enter your Name >>Nandan\n",
      "Enter your Roll Number >>41\n",
      "My is name:Nandan and my roll number:41\n"
     ]
    }
   ],
   "source": [
    "user_name = input(\"Enter your Name >>\")\n",
    "roll_num = input(\"Enter your Roll Number >>\")\n",
    "print(f\"My is name:{user_name} and my roll number:{roll_num}\")"
   ]
  }
 ],
 "metadata": {
  "kernelspec": {
   "display_name": "Python 3",
   "language": "python",
   "name": "python3"
  },
  "language_info": {
   "codemirror_mode": {
    "name": "ipython",
    "version": 3
   },
   "file_extension": ".py",
   "mimetype": "text/x-python",
   "name": "python",
   "nbconvert_exporter": "python",
   "pygments_lexer": "ipython3",
   "version": "3.8.10"
  },
  "toc": {
   "base_numbering": 1,
   "nav_menu": {
    "height": "226px",
    "width": "266px"
   },
   "number_sections": true,
   "sideBar": true,
   "skip_h1_title": false,
   "title_cell": "Table of Contents",
   "title_sidebar": "Contents",
   "toc_cell": false,
   "toc_position": {
    "height": "calc(100% - 180px)",
    "left": "10px",
    "top": "150px",
    "width": "256px"
   },
   "toc_section_display": true,
   "toc_window_display": true
  }
 },
 "nbformat": 4,
 "nbformat_minor": 5
}
