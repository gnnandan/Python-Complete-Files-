{
 "cells": [
  {
   "cell_type": "markdown",
   "id": "162bf231",
   "metadata": {},
   "source": [
    "## Loops"
   ]
  },
  {
   "cell_type": "markdown",
   "id": "fde702ca",
   "metadata": {},
   "source": [
    "### for loop\n",
    "\n",
    "```for item in list_of_items:```"
   ]
  },
  {
   "cell_type": "markdown",
   "id": "25228fc0",
   "metadata": {},
   "source": [
    "#### For loop iteration"
   ]
  },
  {
   "cell_type": "code",
   "execution_count": 1,
   "id": "2a153aa5",
   "metadata": {
    "ExecuteTime": {
     "end_time": "2021-08-10T04:49:39.979136Z",
     "start_time": "2021-08-10T04:49:39.967134Z"
    },
    "code_folding": []
   },
   "outputs": [
    {
     "name": "stdout",
     "output_type": "stream",
     "text": [
      "Apple\n",
      "Apple Mango\n",
      "Orange\n",
      "Orange Mango\n",
      "Watermelon\n",
      "Watermelon Mango\n"
     ]
    }
   ],
   "source": [
    " fruits = ['Apple', 'Orange', 'Watermelon']\n",
    "for fruit in fruits:\n",
    "    print(fruit)\n",
    "#     adding the element \n",
    "    print(fruit + \" Mango\")"
   ]
  },
  {
   "cell_type": "markdown",
   "id": "c036d23e",
   "metadata": {},
   "source": [
    "#### inside and outside forloop\n",
    "- __inside_forloop__: the operation will run as many times as we specified.\n",
    "- __outside_forloop__:the operation will only run one time where we specified."
   ]
  },
  {
   "cell_type": "code",
   "execution_count": 2,
   "id": "65baecfe",
   "metadata": {
    "ExecuteTime": {
     "end_time": "2021-08-10T04:49:41.337878Z",
     "start_time": "2021-08-10T04:49:41.323881Z"
    }
   },
   "outputs": [
    {
     "name": "stdout",
     "output_type": "stream",
     "text": [
      "Apple\n",
      "Apple Mango\n",
      ">>> Inside forloop <<<\n",
      "Orange\n",
      "Orange Mango\n",
      ">>> Inside forloop <<<\n",
      "Watermelon\n",
      "Watermelon Mango\n",
      ">>> Inside forloop <<<\n"
     ]
    }
   ],
   "source": [
    "fruits = ['Apple', 'Orange', 'Watermelon']\n",
    "for fruit in fruits:\n",
    "    print(fruit)\n",
    "#     adding the element \n",
    "    print(fruit + \" Mango\")\n",
    "    print(\">>> Inside forloop <<<\")"
   ]
  },
  {
   "cell_type": "code",
   "execution_count": 3,
   "id": "8623639d",
   "metadata": {
    "ExecuteTime": {
     "end_time": "2021-08-10T04:49:41.901519Z",
     "start_time": "2021-08-10T04:49:41.891527Z"
    }
   },
   "outputs": [
    {
     "name": "stdout",
     "output_type": "stream",
     "text": [
      "Apple\n",
      "Apple Mango\n",
      "Orange\n",
      "Orange Mango\n",
      "Watermelon\n",
      "Watermelon Mango\n",
      ">>> Outside forloop <<<\n"
     ]
    }
   ],
   "source": [
    "fruits = ['Apple', 'Orange', 'Watermelon']\n",
    "for fruit in fruits:\n",
    "    print(fruit)\n",
    "#     adding the element \n",
    "    print(fruit + \" Mango\")\n",
    "print(\">>> Outside forloop <<<\")"
   ]
  },
  {
   "cell_type": "markdown",
   "id": "248a23e3",
   "metadata": {},
   "source": [
    "### <span class=\"mark\">__Average Height__</span>\n",
    "\n",
    "__Instructions__\n",
    "You are going to write a program that calculates the average student height from a List of heights. \n",
    "\n",
    "e.g. `student_heights = [180, 124, 165, 173, 189, 169, 146]`\n",
    "\n",
    "The average height can be calculated by adding all the heights together and dividing by the total number of heights.\n",
    "\n",
    "e.g.\n",
    "\n",
    "180 + 124 + 165 + 173 + 189 + 169 + 146 = **1146**\n",
    "\n",
    "There are a total of **7** heights in `student_heights`\n",
    "\n",
    "1146 ÷ 7 = **163.71428571428572**\n",
    "\n",
    "Average height rounded to the nearest whole number = **164**\n",
    "\n",
    "__Example Input __\n",
    "\n",
    "```\n",
    "156 178 165 171 187\n",
    "```\n",
    "\n",
    "In this case, student_heights would be a list that looks like: [156, 178, 165, 171, 187]\n",
    "\n",
    "__Example Output __\n",
    "\n",
    "```\n",
    "171\n",
    "```"
   ]
  },
  {
   "cell_type": "markdown",
   "id": "da248244",
   "metadata": {},
   "source": [
    "#### __<span class=\"girk\">Logic__</span>\n",
    "- to find the sum and average of list \n",
    "- to find calculate the sum and average of height without using the sum() or len() function"
   ]
  },
  {
   "cell_type": "code",
   "execution_count": 10,
   "id": "0ae91776",
   "metadata": {
    "ExecuteTime": {
     "end_time": "2021-08-10T04:56:47.458417Z",
     "start_time": "2021-08-10T04:56:45.395210Z"
    }
   },
   "outputs": [
    {
     "name": "stdout",
     "output_type": "stream",
     "text": [
      "Input a list of student heights 156 178 165 171 187\n",
      "[156, 178, 165, 171, 187]\n",
      "Total height of all students: 857\n",
      "Number of students: 5\n",
      "Average height: 171\n"
     ]
    },
    {
     "data": {
      "text/plain": [
       "'\\nprint(f\"Sum of student height: {sum(student_heights)},\\nlength of students {len(student_heights)},\\nand average of student height {sum(student_heights)//len(student_heights)}\")\\n'"
      ]
     },
     "execution_count": 10,
     "metadata": {},
     "output_type": "execute_result"
    }
   ],
   "source": [
    "# Given\n",
    "student_heights = input(\"Input a list of student heights \").split()\n",
    "for n in range(0, len(student_heights)):\n",
    "    student_heights[n] = int(student_heights[n])    \n",
    "print(student_heights)\n",
    "\n",
    "\n",
    "# #####################################################[code done]##############################################################\n",
    "# calculating the sum of total height of all students \n",
    "total_height = 0\n",
    "for height in student_heights:\n",
    "    total_height = total_height + height\n",
    "print(\"Total height of all students:\",total_height)\n",
    "\n",
    "# len of students\n",
    "no_of_students = 0\n",
    "for students in student_heights:\n",
    "    no_of_students = no_of_students + 1\n",
    "print(\"Number of students:\",no_of_students)\n",
    "\n",
    "# avg of students height \n",
    "print(\"Average height:\",total_height // no_of_students)\n",
    "\n",
    "\n",
    "# we can also do it in one line of code like below\n",
    "'''\n",
    "print(f\"Sum of student height: {sum(student_heights)},\n",
    "length of students {len(student_heights)},\n",
    "and average of student height {sum(student_heights)//len(student_heights)}\")\n",
    "'''"
   ]
  },
  {
   "cell_type": "markdown",
   "id": "da0a3863",
   "metadata": {},
   "source": [
    "### <span class=\"mark\">__Highest Score__</span>\n",
    "\n",
    "__Instructions__\n",
    "\n",
    "You are going to write a program that calculates the highest score from a List of scores. \n",
    "\n",
    "e.g. `student_scores = [78, 65, 89, 86, 55, 91, 64, 89]`\n",
    "\n",
    "**Important** you are not allowed to use the max or min functions. The output words must match the example. i.e \n",
    "\n",
    "`The highest score in the class is: x`\n",
    "\n",
    "__Example Input__ \n",
    "\n",
    "```\n",
    "78 65 89 86 55 91 64 89\n",
    "```\n",
    "\n",
    "In this case, student_scores would be a list that looks like: `[78, 65, 89, 86, 55, 91, 64, 89]`\n",
    "\n",
    "__Example Output__ \n",
    "\n",
    "```\n",
    "The highest score in the class is: 91\n",
    "```\n",
    "\n",
    "e.g. When you hit **run**, this is what should happen: \n",
    "\n",
    "\n",
    "__Hint__\n",
    "\n",
    "1. Think about the logic before writing code. How can you compare numbers against each other to see which one is larger?"
   ]
  },
  {
   "cell_type": "markdown",
   "id": "33e8b891",
   "metadata": {},
   "source": [
    "#### <span class=\"girk\">__Logic__</span> \n",
    "- finding the largest element from the list"
   ]
  },
  {
   "cell_type": "code",
   "execution_count": 74,
   "id": "c449b168",
   "metadata": {
    "ExecuteTime": {
     "end_time": "2021-08-10T02:53:37.116375Z",
     "start_time": "2021-08-10T02:53:35.670448Z"
    }
   },
   "outputs": [
    {
     "name": "stdout",
     "output_type": "stream",
     "text": [
      "Input a list of student scores 78 65 89 86 55 91 64 89\n",
      "[78, 65, 89, 86, 55, 91, 64, 89]\n",
      "The highest score in the class is: 91\n"
     ]
    }
   ],
   "source": [
    "# Given\n",
    "student_scores = input(\"Input a list of student scores \").split()\n",
    "for n in range(0, len(student_scores)):\n",
    "    student_scores[n] = int(student_scores[n])\n",
    "print(student_scores)\n",
    "\n",
    "# code\n",
    "highest_score = 0\n",
    "for score in student_scores:\n",
    "    if score > highest_score:\n",
    "        highest_score = score   \n",
    "print(f\"The highest score in the class is: {highest_score}\")\n"
   ]
  },
  {
   "cell_type": "code",
   "execution_count": 29,
   "id": "75e6db01",
   "metadata": {
    "ExecuteTime": {
     "end_time": "2021-08-10T05:33:12.899506Z",
     "start_time": "2021-08-10T05:33:03.533640Z"
    }
   },
   "outputs": [
    {
     "name": "stdout",
     "output_type": "stream",
     "text": [
      "Input a list of student scores 78 65 89 86 55 91 64 89\n",
      "List of percentages of class: [78, 65, 89, 86, 55, 91, 64, 89]\n",
      "The highest percentage in the class is: 91%\n",
      "The least score in the class is: 55%\n",
      "The total percentage of class is 77%\n"
     ]
    }
   ],
   "source": [
    "# Given\n",
    "student_scores = input(\"Input a list of student scores \").split()\n",
    "for n in range(0, len(student_scores)):\n",
    "    student_scores[n] = int(student_scores[n])\n",
    "print(\"List of percentages of class:\",student_scores)  # [78, 65, 89, 86, 55, 91, 64, 89]\n",
    "\n",
    "# finding the highest score\n",
    "highest_score = 0\n",
    "for score in student_scores:\n",
    "    if score > highest_score:\n",
    "        highest_score = score\n",
    "print(f\"The highest percentage in the class is: {highest_score}%\")\n",
    "\n",
    "# finding the least score\n",
    "least_score = student_scores[0]\n",
    "for score in student_scores:\n",
    "    if score < least_score:\n",
    "        least_score = score\n",
    "print(f\"The least score in the class is: {least_score}%\")\n",
    "\n",
    "# average percentage of the class\n",
    "total_percentage = 0\n",
    "len_people = 0\n",
    "for avg_per in student_scores:\n",
    "    total_percentage += avg_per\n",
    "    len_people += 1\n",
    "print(\n",
    "    f\"The total percentage of class is {total_percentage // len_people}%\")"
   ]
  },
  {
   "cell_type": "markdown",
   "id": "3114dacf",
   "metadata": {},
   "source": [
    "### forloop and range() "
   ]
  },
  {
   "cell_type": "markdown",
   "id": "f4ed468d",
   "metadata": {},
   "source": [
    "#### Sum of n natural numbers"
   ]
  },
  {
   "cell_type": "code",
   "execution_count": 7,
   "id": "ec6c8bfd",
   "metadata": {
    "ExecuteTime": {
     "end_time": "2021-08-11T05:08:12.518035Z",
     "start_time": "2021-08-11T05:08:12.510045Z"
    },
    "code_folding": []
   },
   "outputs": [
    {
     "name": "stdout",
     "output_type": "stream",
     "text": [
      "The sum of 100 natural numbers is 5050\n"
     ]
    }
   ],
   "source": [
    "# sum of n natural numbers \n",
    "sum=0\n",
    "for num in range(0,101):\n",
    "    sum = sum + num\n",
    "print(f\"The sum of {num} natural numbers is {sum}\")"
   ]
  },
  {
   "cell_type": "markdown",
   "id": "ea23b9d3",
   "metadata": {},
   "source": [
    "#### <span class=\"mark\">__adding evens__</span>\n",
    "\n",
    "__Instruction:__You are going to write a program that calculates the sum of all the even numbers from 1 to 100."
   ]
  },
  {
   "cell_type": "markdown",
   "id": "6aa5d9f4",
   "metadata": {},
   "source": [
    "##### way 1"
   ]
  },
  {
   "cell_type": "code",
   "execution_count": 10,
   "id": "c8e694c5",
   "metadata": {
    "ExecuteTime": {
     "end_time": "2021-08-11T05:15:34.292616Z",
     "start_time": "2021-08-11T05:15:34.276620Z"
    }
   },
   "outputs": [
    {
     "name": "stdout",
     "output_type": "stream",
     "text": [
      "The of even number is 2550\n"
     ]
    }
   ],
   "source": [
    "total = 0\n",
    "for even_num_sum in range (2,100 + 1,2):\n",
    "    total = total +even_num_sum\n",
    "print(f\"The of even number is {total}\")"
   ]
  },
  {
   "cell_type": "markdown",
   "id": "ece8f006",
   "metadata": {},
   "source": [
    "##### way 2"
   ]
  },
  {
   "cell_type": "code",
   "execution_count": 14,
   "id": "a64b3f9a",
   "metadata": {
    "ExecuteTime": {
     "end_time": "2021-08-11T05:21:25.322084Z",
     "start_time": "2021-08-11T05:21:25.302104Z"
    }
   },
   "outputs": [
    {
     "name": "stdout",
     "output_type": "stream",
     "text": [
      "The of even number is 2550\n"
     ]
    }
   ],
   "source": [
    "sum = 0\n",
    "for num in range(0,101):\n",
    "    if num % 2 == 0:\n",
    "        sum = sum + num \n",
    "print(f\"The of even number is {sum}\")"
   ]
  },
  {
   "cell_type": "markdown",
   "id": "f6ed5495",
   "metadata": {},
   "source": [
    "#### Fizz Buzz Game \n",
    "<span class=\"girk\">__Important Interview Coding Exercise__</span>\n",
    "\n",
    "__Instructions__\n",
    "- Your program should print each number from 1 to 100 in turn.\n",
    "- When the number is divisible by 3 then instead of printing the number it should print \"Fizz\"\n",
    "- When the number is divisible by 5, then instead of printing the number it should print \"Buzz\".\n",
    "- And if the number is divisible by both 3 and 5 e.g. 15 then instead of the number it should print \"FizzBuzz\""
   ]
  },
  {
   "cell_type": "code",
   "execution_count": 45,
   "id": "78e31e26",
   "metadata": {
    "ExecuteTime": {
     "end_time": "2021-08-11T05:50:15.268356Z",
     "start_time": "2021-08-11T05:50:15.251359Z"
    }
   },
   "outputs": [
    {
     "name": "stdout",
     "output_type": "stream",
     "text": [
      "1\n",
      "2\n",
      "Fizz\n",
      "4\n",
      "Buzz\n",
      "Fizz\n",
      "7\n",
      "8\n",
      "Fizz\n",
      "Buzz\n",
      "11\n",
      "Fizz\n",
      "13\n",
      "14\n",
      "FizzBuzz\n",
      "16\n",
      "17\n",
      "Fizz\n",
      "19\n",
      "Buzz\n",
      "Fizz\n",
      "22\n",
      "23\n",
      "Fizz\n",
      "Buzz\n",
      "26\n",
      "Fizz\n",
      "28\n",
      "29\n",
      "FizzBuzz\n",
      "31\n",
      "32\n",
      "Fizz\n",
      "34\n",
      "Buzz\n",
      "Fizz\n",
      "37\n",
      "38\n",
      "Fizz\n",
      "Buzz\n",
      "41\n",
      "Fizz\n",
      "43\n",
      "44\n",
      "FizzBuzz\n",
      "46\n",
      "47\n",
      "Fizz\n",
      "49\n",
      "Buzz\n",
      "Fizz\n",
      "52\n",
      "53\n",
      "Fizz\n",
      "Buzz\n",
      "56\n",
      "Fizz\n",
      "58\n",
      "59\n",
      "FizzBuzz\n",
      "61\n",
      "62\n",
      "Fizz\n",
      "64\n",
      "Buzz\n",
      "Fizz\n",
      "67\n",
      "68\n",
      "Fizz\n",
      "Buzz\n",
      "71\n",
      "Fizz\n",
      "73\n",
      "74\n",
      "FizzBuzz\n",
      "76\n",
      "77\n",
      "Fizz\n",
      "79\n",
      "Buzz\n",
      "Fizz\n",
      "82\n",
      "83\n",
      "Fizz\n",
      "Buzz\n",
      "86\n",
      "Fizz\n",
      "88\n",
      "89\n",
      "FizzBuzz\n",
      "91\n",
      "92\n",
      "Fizz\n",
      "94\n",
      "Buzz\n",
      "Fizz\n",
      "97\n",
      "98\n",
      "Fizz\n",
      "Buzz\n"
     ]
    }
   ],
   "source": [
    " for num in range(1,101):\n",
    "    if num % 3 == 0 and num % 5 == 0:\n",
    "        print(\"FizzBuzz\")\n",
    "    elif num % 3 == 0: \n",
    "        print(\"Fizz\")\n",
    "    elif num % 5 == 0:\n",
    "        print(\"Buzz\")\n",
    "    else:\n",
    "        print(num)        "
   ]
  }
 ],
 "metadata": {
  "interpreter": {
   "hash": "ee5cc6fef2d70a7e71ee3826687cbd150f18158e0b1eef11d4f4f92bb920e304"
  },
  "kernelspec": {
   "display_name": "Python 3",
   "language": "python",
   "name": "python3"
  },
  "language_info": {
   "codemirror_mode": {
    "name": "ipython",
    "version": 3
   },
   "file_extension": ".py",
   "mimetype": "text/x-python",
   "name": "python",
   "nbconvert_exporter": "python",
   "pygments_lexer": "ipython3",
   "version": "3.8.10"
  },
  "toc": {
   "base_numbering": 1,
   "nav_menu": {},
   "number_sections": true,
   "sideBar": true,
   "skip_h1_title": false,
   "title_cell": "Table of Contents",
   "title_sidebar": "Contents",
   "toc_cell": false,
   "toc_position": {
    "height": "calc(100% - 180px)",
    "left": "10px",
    "top": "150px",
    "width": "250px"
   },
   "toc_section_display": true,
   "toc_window_display": true
  },
  "varInspector": {
   "cols": {
    "lenName": 16,
    "lenType": 16,
    "lenVar": 40
   },
   "kernels_config": {
    "python": {
     "delete_cmd_postfix": "",
     "delete_cmd_prefix": "del ",
     "library": "var_list.py",
     "varRefreshCmd": "print(var_dic_list())"
    },
    "r": {
     "delete_cmd_postfix": ") ",
     "delete_cmd_prefix": "rm(",
     "library": "var_list.r",
     "varRefreshCmd": "cat(var_dic_list()) "
    }
   },
   "position": {
    "height": "295.667px",
    "left": "911px",
    "right": "20px",
    "top": "120px",
    "width": "350px"
   },
   "types_to_exclude": [
    "module",
    "function",
    "builtin_function_or_method",
    "instance",
    "_Feature"
   ],
   "window_display": false
  }
 },
 "nbformat": 4,
 "nbformat_minor": 5
}
