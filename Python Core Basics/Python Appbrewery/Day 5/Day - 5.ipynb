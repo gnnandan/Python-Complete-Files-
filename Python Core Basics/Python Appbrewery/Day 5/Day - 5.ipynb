{
 "cells": [
  {
   "cell_type": "markdown",
   "source": [
    "## Loops"
   ],
   "metadata": {}
  },
  {
   "cell_type": "markdown",
   "source": [
    "### for loop\r\n",
    "\r\n",
    "```for item in list_of_items:```"
   ],
   "metadata": {}
  },
  {
   "cell_type": "markdown",
   "source": [
    "#### For loop iteration"
   ],
   "metadata": {}
  },
  {
   "cell_type": "code",
   "execution_count": 4,
   "source": [
    "fruits = ['Apple', 'Orange', 'Watermelon']\r\n",
    "for fruit in fruits:\r\n",
    "    print(fruit)\r\n",
    "#     adding the element \r\n",
    "    print(fruit + \" Mango\")"
   ],
   "outputs": [
    {
     "output_type": "stream",
     "name": "stdout",
     "text": [
      "Apple\n",
      "Apple Mango\n",
      "Orange\n",
      "Orange Mango\n",
      "Watermelon\n",
      "Watermelon Mango\n"
     ]
    }
   ],
   "metadata": {
    "ExecuteTime": {
     "end_time": "2021-08-10T04:49:39.979136Z",
     "start_time": "2021-08-10T04:49:39.967134Z"
    },
    "code_folding": []
   }
  },
  {
   "cell_type": "markdown",
   "source": [
    "#### inside and outside forloop\r\n",
    "- __inside_forloop__: the operation will run as many times as we specified.\r\n",
    "- __outside_forloop__:the operation will only run one time where we specified."
   ],
   "metadata": {}
  },
  {
   "cell_type": "code",
   "execution_count": 1,
   "source": [
    "fruits = ['Apple', 'Orange', 'Watermelon']\r\n",
    "for fruit in fruits:\r\n",
    "    print(fruit)\r\n",
    "#     adding the element \r\n",
    "    print(fruit + \" Mango\")\r\n",
    "    print(\">>> Inside forloop <<<\")"
   ],
   "outputs": [
    {
     "output_type": "stream",
     "name": "stdout",
     "text": [
      "Apple\n",
      "Apple Mango\n",
      ">>> Inside forloop <<<\n",
      "Orange\n",
      "Orange Mango\n",
      ">>> Inside forloop <<<\n",
      "Watermelon\n",
      "Watermelon Mango\n",
      ">>> Inside forloop <<<\n"
     ]
    }
   ],
   "metadata": {
    "ExecuteTime": {
     "end_time": "2021-08-10T04:49:41.337878Z",
     "start_time": "2021-08-10T04:49:41.323881Z"
    }
   }
  },
  {
   "cell_type": "code",
   "execution_count": 3,
   "source": [
    "fruits = ['Apple', 'Orange', 'Watermelon']\r\n",
    "for fruit in fruits:\r\n",
    "    print(fruit)\r\n",
    "#     adding the element \r\n",
    "    print(fruit + \" Mango\")\r\n",
    "print(\">>> Outside forloop <<<\")"
   ],
   "outputs": [
    {
     "output_type": "stream",
     "name": "stdout",
     "text": [
      "Apple\n",
      "Apple Mango\n",
      "Orange\n",
      "Orange Mango\n",
      "Watermelon\n",
      "Watermelon Mango\n",
      ">>> Outside forloop <<<\n"
     ]
    }
   ],
   "metadata": {
    "ExecuteTime": {
     "end_time": "2021-08-10T04:49:41.901519Z",
     "start_time": "2021-08-10T04:49:41.891527Z"
    }
   }
  },
  {
   "cell_type": "markdown",
   "source": [
    "### <span class=\"mark\">__Average Height__</span>\n",
    "\n",
    "__Instructions__\n",
    "You are going to write a program that calculates the average student height from a List of heights. \n",
    "\n",
    "e.g. `student_heights = [180, 124, 165, 173, 189, 169, 146]`\n",
    "\n",
    "The average height can be calculated by adding all the heights together and dividing by the total number of heights.\n",
    "\n",
    "e.g.\n",
    "\n",
    "180 + 124 + 165 + 173 + 189 + 169 + 146 = **1146**\n",
    "\n",
    "There are a total of **7** heights in `student_heights`\n",
    "\n",
    "1146 ÷ 7 = **163.71428571428572**\n",
    "\n",
    "Average height rounded to the nearest whole number = **164**\n",
    "\n",
    "__Example Input __\n",
    "\n",
    "```\n",
    "156 178 165 171 187\n",
    "```\n",
    "\n",
    "In this case, student_heights would be a list that looks like: [156, 178, 165, 171, 187]\n",
    "\n",
    "__Example Output __\n",
    "\n",
    "```\n",
    "171\n",
    "```"
   ],
   "metadata": {}
  },
  {
   "cell_type": "markdown",
   "source": [
    "#### __<span class=\"girk\">Logic__</span>\n",
    "- to find the sum and average of list \n",
    "- to find calculate the sum and average of height without using the sum() or len() function"
   ],
   "metadata": {}
  },
  {
   "cell_type": "code",
   "execution_count": 10,
   "source": [
    "# Given\r\n",
    "student_heights = input(\"Input a list of student heights \").split()\r\n",
    "for n in range(0, len(student_heights)):\r\n",
    "    student_heights[n] = int(student_heights[n])    \r\n",
    "print(student_heights)\r\n",
    "\r\n",
    "\r\n",
    "# #####################################################[code done]##############################################################\r\n",
    "# calculating the sum of total height of all students \r\n",
    "total_height = 0\r\n",
    "for height in student_heights:\r\n",
    "    total_height = total_height + height\r\n",
    "print(\"Total height of all students:\",total_height)\r\n",
    "\r\n",
    "# len of students\r\n",
    "no_of_students = 0\r\n",
    "for students in student_heights:\r\n",
    "    no_of_students = no_of_students + 1\r\n",
    "print(\"Number of students:\",no_of_students)\r\n",
    "\r\n",
    "# avg of students height \r\n",
    "print(\"Average height:\",total_height // no_of_students)\r\n",
    "\r\n",
    "\r\n",
    "# we can also do it in one line of code like below\r\n",
    "'''\r\n",
    "print(f\"Sum of student height: {sum(student_heights)},\r\n",
    "length of students {len(student_heights)},\r\n",
    "and average of student height {sum(student_heights)//len(student_heights)}\")\r\n",
    "'''"
   ],
   "outputs": [
    {
     "output_type": "stream",
     "name": "stdout",
     "text": [
      "Input a list of student heights 156 178 165 171 187\n",
      "[156, 178, 165, 171, 187]\n",
      "Total height of all students: 857\n",
      "Number of students: 5\n",
      "Average height: 171\n"
     ]
    },
    {
     "output_type": "execute_result",
     "data": {
      "text/plain": [
       "'\\nprint(f\"Sum of student height: {sum(student_heights)},\\nlength of students {len(student_heights)},\\nand average of student height {sum(student_heights)//len(student_heights)}\")\\n'"
      ]
     },
     "metadata": {},
     "execution_count": 10
    }
   ],
   "metadata": {
    "ExecuteTime": {
     "end_time": "2021-08-10T04:56:47.458417Z",
     "start_time": "2021-08-10T04:56:45.395210Z"
    }
   }
  },
  {
   "cell_type": "markdown",
   "source": [
    "### <span class=\"mark\">__Highest Score__</span>\n",
    "\n",
    "__Instructions__\n",
    "\n",
    "You are going to write a program that calculates the highest score from a List of scores. \n",
    "\n",
    "e.g. `student_scores = [78, 65, 89, 86, 55, 91, 64, 89]`\n",
    "\n",
    "**Important** you are not allowed to use the max or min functions. The output words must match the example. i.e \n",
    "\n",
    "`The highest score in the class is: x`\n",
    "\n",
    "__Example Input__ \n",
    "\n",
    "```\n",
    "78 65 89 86 55 91 64 89\n",
    "```\n",
    "\n",
    "In this case, student_scores would be a list that looks like: `[78, 65, 89, 86, 55, 91, 64, 89]`\n",
    "\n",
    "__Example Output__ \n",
    "\n",
    "```\n",
    "The highest score in the class is: 91\n",
    "```\n",
    "\n",
    "e.g. When you hit **run**, this is what should happen: \n",
    "\n",
    "\n",
    "__Hint__\n",
    "\n",
    "1. Think about the logic before writing code. How can you compare numbers against each other to see which one is larger?"
   ],
   "metadata": {}
  },
  {
   "cell_type": "markdown",
   "source": [
    "#### <span class=\"girk\">__Logic__</span> \n",
    "- finding the largest element from the list"
   ],
   "metadata": {}
  },
  {
   "cell_type": "code",
   "execution_count": 74,
   "source": [
    "# Given\r\n",
    "student_scores = input(\"Input a list of student scores \").split()\r\n",
    "for n in range(0, len(student_scores)):\r\n",
    "    student_scores[n] = int(student_scores[n])\r\n",
    "print(student_scores)\r\n",
    "\r\n",
    "# code\r\n",
    "highest_score = 0\r\n",
    "for score in student_scores:\r\n",
    "    if score > highest_score:\r\n",
    "        highest_score = score   \r\n",
    "print(f\"The highest score in the class is: {highest_score}\")\r\n"
   ],
   "outputs": [
    {
     "output_type": "stream",
     "name": "stdout",
     "text": [
      "Input a list of student scores 78 65 89 86 55 91 64 89\n",
      "[78, 65, 89, 86, 55, 91, 64, 89]\n",
      "The highest score in the class is: 91\n"
     ]
    }
   ],
   "metadata": {
    "ExecuteTime": {
     "end_time": "2021-08-10T02:53:37.116375Z",
     "start_time": "2021-08-10T02:53:35.670448Z"
    }
   }
  },
  {
   "cell_type": "code",
   "execution_count": 3,
   "source": [
    "# Given\r\n",
    "student_scores = input(\"Input a list of student scores \").split()\r\n",
    "for n in range(0, len(student_scores)):\r\n",
    "    student_scores[n] = int(student_scores[n])\r\n",
    "print(\"List of percentages of class:\",student_scores)  # [78, 65, 89, 86, 55, 91, 64, 89]\r\n",
    "\r\n",
    "# finding the highest score\r\n",
    "highest_score = 0\r\n",
    "for score in student_scores:\r\n",
    "    if score > highest_score:\r\n",
    "        highest_score = score\r\n",
    "print(f\"The highest percentage in the class is: {highest_score}%\")\r\n",
    "\r\n",
    "# finding the least score\r\n",
    "least_score = student_scores[0]\r\n",
    "for score in student_scores:\r\n",
    "    if score < least_score:\r\n",
    "        least_score = score\r\n",
    "print(f\"The least score in the class is: {least_score}%\")\r\n",
    "\r\n",
    "# average percentage of the class\r\n",
    "total_percentage = 0\r\n",
    "len_people = 0\r\n",
    "for avg_per in student_scores:\r\n",
    "    total_percentage += avg_per\r\n",
    "    len_people += 1\r\n",
    "print(\r\n",
    "    f\"The total percentage of class is {total_percentage // len_people}%\")"
   ],
   "outputs": [
    {
     "output_type": "error",
     "ename": "IndentationError",
     "evalue": "unexpected indent (<ipython-input-3-a5a5c4639d8f>, line 11)",
     "traceback": [
      "\u001b[1;36m  File \u001b[1;32m\"<ipython-input-3-a5a5c4639d8f>\"\u001b[1;36m, line \u001b[1;32m11\u001b[0m\n\u001b[1;33m    highest_score = score\u001b[0m\n\u001b[1;37m    ^\u001b[0m\n\u001b[1;31mIndentationError\u001b[0m\u001b[1;31m:\u001b[0m unexpected indent\n"
     ]
    }
   ],
   "metadata": {
    "ExecuteTime": {
     "end_time": "2021-08-10T05:33:12.899506Z",
     "start_time": "2021-08-10T05:33:03.533640Z"
    }
   }
  },
  {
   "cell_type": "markdown",
   "source": [
    "### forloop and range() "
   ],
   "metadata": {}
  },
  {
   "cell_type": "markdown",
   "source": [
    "#### Sum of n natural numbers"
   ],
   "metadata": {}
  },
  {
   "cell_type": "code",
   "execution_count": 7,
   "source": [
    "# sum of n natural numbers \r\n",
    "sum=0\r\n",
    "for num in range(0,101):\r\n",
    "    sum = sum + num\r\n",
    "print(f\"The sum of {num} natural numbers is {sum}\")"
   ],
   "outputs": [
    {
     "output_type": "stream",
     "name": "stdout",
     "text": [
      "The sum of 100 natural numbers is 5050\n"
     ]
    }
   ],
   "metadata": {
    "ExecuteTime": {
     "end_time": "2021-08-11T05:08:12.518035Z",
     "start_time": "2021-08-11T05:08:12.510045Z"
    },
    "code_folding": []
   }
  },
  {
   "cell_type": "markdown",
   "source": [
    "#### <span class=\"mark\">__adding evens__</span>\n",
    "\n",
    "__Instruction:__You are going to write a program that calculates the sum of all the even numbers from 1 to 100."
   ],
   "metadata": {}
  },
  {
   "cell_type": "markdown",
   "source": [
    "##### way 1"
   ],
   "metadata": {}
  },
  {
   "cell_type": "code",
   "execution_count": 10,
   "source": [
    "total = 0\r\n",
    "for even_num_sum in range (2,100 + 1,2):\r\n",
    "    total = total +even_num_sum\r\n",
    "print(f\"The of even number is {total}\")"
   ],
   "outputs": [
    {
     "output_type": "stream",
     "name": "stdout",
     "text": [
      "The of even number is 2550\n"
     ]
    }
   ],
   "metadata": {
    "ExecuteTime": {
     "end_time": "2021-08-11T05:15:34.292616Z",
     "start_time": "2021-08-11T05:15:34.276620Z"
    }
   }
  },
  {
   "cell_type": "markdown",
   "source": [
    "##### way 2"
   ],
   "metadata": {}
  },
  {
   "cell_type": "code",
   "execution_count": 14,
   "source": [
    "sum = 0\r\n",
    "for num in range(0,101):\r\n",
    "    if num % 2 == 0:\r\n",
    "        sum = sum + num \r\n",
    "print(f\"The of even number is {sum}\")"
   ],
   "outputs": [
    {
     "output_type": "stream",
     "name": "stdout",
     "text": [
      "The of even number is 2550\n"
     ]
    }
   ],
   "metadata": {
    "ExecuteTime": {
     "end_time": "2021-08-11T05:21:25.322084Z",
     "start_time": "2021-08-11T05:21:25.302104Z"
    }
   }
  },
  {
   "cell_type": "markdown",
   "source": [
    "#### Fizz Buzz Game \n",
    "<span class=\"girk\">__Important Interview Coding Exercise__</span>\n",
    "\n",
    "__Instructions__\n",
    "- Your program should print each number from 1 to 100 in turn.\n",
    "- When the number is divisible by 3 then instead of printing the number it should print \"Fizz\"\n",
    "- When the number is divisible by 5, then instead of printing the number it should print \"Buzz\".\n",
    "- And if the number is divisible by both 3 and 5 e.g. 15 then instead of the number it should print \"FizzBuzz\""
   ],
   "metadata": {}
  },
  {
   "cell_type": "code",
   "execution_count": 45,
   "source": [
    "for num in range(1,101):\r\n",
    "    if num % 3 == 0 and num % 5 == 0:\r\n",
    "        print(\"FizzBuzz\")\r\n",
    "    elif num % 3 == 0: \r\n",
    "        print(\"Fizz\")\r\n",
    "    elif num % 5 == 0:\r\n",
    "        print(\"Buzz\")\r\n",
    "    else:\r\n",
    "        print(num)        "
   ],
   "outputs": [
    {
     "output_type": "stream",
     "name": "stdout",
     "text": [
      "1\n",
      "2\n",
      "Fizz\n",
      "4\n",
      "Buzz\n",
      "Fizz\n",
      "7\n",
      "8\n",
      "Fizz\n",
      "Buzz\n",
      "11\n",
      "Fizz\n",
      "13\n",
      "14\n",
      "FizzBuzz\n",
      "16\n",
      "17\n",
      "Fizz\n",
      "19\n",
      "Buzz\n",
      "Fizz\n",
      "22\n",
      "23\n",
      "Fizz\n",
      "Buzz\n",
      "26\n",
      "Fizz\n",
      "28\n",
      "29\n",
      "FizzBuzz\n",
      "31\n",
      "32\n",
      "Fizz\n",
      "34\n",
      "Buzz\n",
      "Fizz\n",
      "37\n",
      "38\n",
      "Fizz\n",
      "Buzz\n",
      "41\n",
      "Fizz\n",
      "43\n",
      "44\n",
      "FizzBuzz\n",
      "46\n",
      "47\n",
      "Fizz\n",
      "49\n",
      "Buzz\n",
      "Fizz\n",
      "52\n",
      "53\n",
      "Fizz\n",
      "Buzz\n",
      "56\n",
      "Fizz\n",
      "58\n",
      "59\n",
      "FizzBuzz\n",
      "61\n",
      "62\n",
      "Fizz\n",
      "64\n",
      "Buzz\n",
      "Fizz\n",
      "67\n",
      "68\n",
      "Fizz\n",
      "Buzz\n",
      "71\n",
      "Fizz\n",
      "73\n",
      "74\n",
      "FizzBuzz\n",
      "76\n",
      "77\n",
      "Fizz\n",
      "79\n",
      "Buzz\n",
      "Fizz\n",
      "82\n",
      "83\n",
      "Fizz\n",
      "Buzz\n",
      "86\n",
      "Fizz\n",
      "88\n",
      "89\n",
      "FizzBuzz\n",
      "91\n",
      "92\n",
      "Fizz\n",
      "94\n",
      "Buzz\n",
      "Fizz\n",
      "97\n",
      "98\n",
      "Fizz\n",
      "Buzz\n"
     ]
    }
   ],
   "metadata": {
    "ExecuteTime": {
     "end_time": "2021-08-11T05:50:15.268356Z",
     "start_time": "2021-08-11T05:50:15.251359Z"
    }
   }
  }
 ],
 "metadata": {
  "interpreter": {
   "hash": "ed225720166559e7176d3793db16a2fd8d295f725007103b21ac3099d2a89ee8"
  },
  "kernelspec": {
   "name": "python3",
   "display_name": "Python 3.8.10 64-bit ('base': conda)"
  },
  "language_info": {
   "codemirror_mode": {
    "name": "ipython",
    "version": 3
   },
   "file_extension": ".py",
   "mimetype": "text/x-python",
   "name": "python",
   "nbconvert_exporter": "python",
   "pygments_lexer": "ipython3",
   "version": "3.8.10"
  },
  "toc": {
   "base_numbering": 1,
   "nav_menu": {},
   "number_sections": true,
   "sideBar": true,
   "skip_h1_title": false,
   "title_cell": "Table of Contents",
   "title_sidebar": "Contents",
   "toc_cell": false,
   "toc_position": {
    "height": "calc(100% - 180px)",
    "left": "10px",
    "top": "150px",
    "width": "250px"
   },
   "toc_section_display": true,
   "toc_window_display": true
  },
  "varInspector": {
   "cols": {
    "lenName": 16,
    "lenType": 16,
    "lenVar": 40
   },
   "kernels_config": {
    "python": {
     "delete_cmd_postfix": "",
     "delete_cmd_prefix": "del ",
     "library": "var_list.py",
     "varRefreshCmd": "print(var_dic_list())"
    },
    "r": {
     "delete_cmd_postfix": ") ",
     "delete_cmd_prefix": "rm(",
     "library": "var_list.r",
     "varRefreshCmd": "cat(var_dic_list()) "
    }
   },
   "position": {
    "height": "295.667px",
    "left": "911px",
    "right": "20px",
    "top": "120px",
    "width": "350px"
   },
   "types_to_exclude": [
    "module",
    "function",
    "builtin_function_or_method",
    "instance",
    "_Feature"
   ],
   "window_display": false
  }
 },
 "nbformat": 4,
 "nbformat_minor": 5
}