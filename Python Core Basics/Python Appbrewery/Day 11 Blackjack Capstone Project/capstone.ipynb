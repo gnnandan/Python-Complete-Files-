{
 "cells": [
  {
   "cell_type": "code",
   "execution_count": 17,
   "source": [
    "import random\r\n",
    "def deal_card():\r\n",
    "    \"\"\"returns a random card form a deck\"\"\"\r\n",
    "    cards = [11, 2, 3, 4, 5, 6, 7, 8, 9, 10, 10, 10, 10]\r\n",
    "    card = random.choice(cards)\r\n",
    "    return card\r\n",
    "\r\n",
    "\"\"\"creadted a new variables to store the cards\"\"\"\r\n",
    "user_cards = []\r\n",
    "computer_cards = []\r\n",
    "for _ in range(2):\r\n",
    "    # new_card = deal_card()\r\n",
    "    user_cards.append(deal_card())\r\n",
    "    computer_cards.append(deal_card())\r\n",
    "# print(user_cards)\r\n",
    "# print(computer_cards)\r\n",
    "\r\n",
    "def calculate_score(cards):\r\n",
    "    return sum(cards)"
   ],
   "outputs": [],
   "metadata": {}
  }
 ],
 "metadata": {
  "orig_nbformat": 4,
  "language_info": {
   "name": "python",
   "version": "3.8.10",
   "mimetype": "text/x-python",
   "codemirror_mode": {
    "name": "ipython",
    "version": 3
   },
   "pygments_lexer": "ipython3",
   "nbconvert_exporter": "python",
   "file_extension": ".py"
  },
  "kernelspec": {
   "name": "python3",
   "display_name": "Python 3.8.10 64-bit ('base': conda)"
  },
  "interpreter": {
   "hash": "ed225720166559e7176d3793db16a2fd8d295f725007103b21ac3099d2a89ee8"
  }
 },
 "nbformat": 4,
 "nbformat_minor": 2
}