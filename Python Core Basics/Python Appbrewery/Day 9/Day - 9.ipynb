{
 "cells": [
  {
   "cell_type": "markdown",
   "source": [
    "# Day 9 \r\n",
    "- Dictionary \r\n",
    "    - Dictionaries are __used to store data__ values in key:value pairs.\r\n",
    "    - A dictionary is a collection which is ordered*, changeable and does not allow duplicates.\r\n",
    "\r\n",
    "- Nesting"
   ],
   "metadata": {}
  },
  {
   "cell_type": "code",
   "execution_count": 13,
   "source": [
    "programming_dictionary = {\r\n",
    "    \"Bug\": \"An error in a program that prevents the program from running as expected.\",\r\n",
    "    \"Function\": \"A piece of code that you can easily call over and over again.\",\r\n",
    "    }\r\n",
    "\r\n",
    "print(f\"The type is {type(programming_dictionary)} and data is {programming_dictionary}\")"
   ],
   "outputs": [
    {
     "output_type": "stream",
     "name": "stdout",
     "text": [
      "The type is <class 'dict'> and data is {'Bug': 'An error in a program that prevents the program from running as expected.', 'Function': 'A piece of code that you can easily call over and over again.'}\n"
     ]
    }
   ],
   "metadata": {}
  },
  {
   "cell_type": "markdown",
   "source": [
    "## Retriving Items from dictionary\r\n",
    "- retriving the item form the dictionary\r\n",
    "    - retriving item using keyitems \r\n"
   ],
   "metadata": {}
  },
  {
   "cell_type": "code",
   "execution_count": 11,
   "source": [
    "print(programming_dictionary[\"Bug\"],\"\\n\" +\r\n",
    "    programming_dictionary['Function'])"
   ],
   "outputs": [
    {
     "output_type": "stream",
     "name": "stdout",
     "text": [
      "An error in a program that prevents the program from running as expected. \n",
      "A piece of code that you can easily call over and over again.\n"
     ]
    }
   ],
   "metadata": {}
  },
  {
   "cell_type": "markdown",
   "source": [
    "## Adding element to dictionary\r\n",
    "dict_name[key] = value"
   ],
   "metadata": {}
  },
  {
   "cell_type": "code",
   "execution_count": 15,
   "source": [
    "programming_dictionary[\"Loops\"] = \"It is an action of doing something over and over again\"\r\n",
    "programming_dictionary"
   ],
   "outputs": [
    {
     "output_type": "execute_result",
     "data": {
      "text/plain": [
       "{'Bug': 'An error in a program that prevents the program from running as expected.',\n",
       " 'Function': 'A piece of code that you can easily call over and over again.',\n",
       " 'Loops': 'It is an action of doing something over and over again'}"
      ]
     },
     "metadata": {},
     "execution_count": 15
    }
   ],
   "metadata": {}
  },
  {
   "cell_type": "markdown",
   "source": [
    "## Creating an empty dictionary and adding elements dynamically"
   ],
   "metadata": {}
  },
  {
   "cell_type": "code",
   "execution_count": 20,
   "source": [
    "programming_dictionary = {}\r\n",
    "programming_dictionary[\"Loops\"] = \"It is an action of doing something over and over again\"\r\n",
    "programming_dictionary"
   ],
   "outputs": [
    {
     "output_type": "execute_result",
     "data": {
      "text/plain": [
       "{'Loops': 'It is an action of doing something over and over again'}"
      ]
     },
     "metadata": {},
     "execution_count": 20
    }
   ],
   "metadata": {}
  },
  {
   "cell_type": "markdown",
   "source": [
    "## Wiping an existence Dictionary"
   ],
   "metadata": {}
  },
  {
   "cell_type": "code",
   "execution_count": 21,
   "source": [
    "programming_dictionary\r\n",
    "print(f\"Before wiping the dictionary {programming_dictionary}, {len(programming_dictionary)}\")\r\n",
    "programming_dictionary = {}\r\n",
    "print(f\"after wiping the dictionary {programming_dictionary}, {len(programming_dictionary)}\")"
   ],
   "outputs": [
    {
     "output_type": "stream",
     "name": "stdout",
     "text": [
      "Before wiping the dictionary {'Loops': 'It is an action of doing something over and over again'}, 1\n",
      "after wiping the dictionary {}, 0\n"
     ]
    }
   ],
   "metadata": {}
  },
  {
   "cell_type": "markdown",
   "source": [
    "## editing an existing dictionary"
   ],
   "metadata": {}
  },
  {
   "cell_type": "code",
   "execution_count": 22,
   "source": [
    "programming_dictionary = {\r\n",
    "    \"Bug\": \"An error in a program that prevents the program from running as expected.\",\r\n",
    "    \"Function\": \"A piece of code that you can easily call over and over again.\",\r\n",
    "    }\r\n",
    "programming_dictionary['Bug'] = \"It\\'s is unappropriate thing that cause fault of executing code\"\r\n",
    "programming_dictionary"
   ],
   "outputs": [
    {
     "output_type": "execute_result",
     "data": {
      "text/plain": [
       "{'Bug': \"It's is unappropriate thing that cause fault of executing code\",\n",
       " 'Function': 'A piece of code that you can easily call over and over again.'}"
      ]
     },
     "metadata": {},
     "execution_count": 22
    }
   ],
   "metadata": {}
  },
  {
   "cell_type": "markdown",
   "source": [
    "## Loop through the dictionary"
   ],
   "metadata": {}
  },
  {
   "cell_type": "code",
   "execution_count": 12,
   "source": [
    "programming_dictionary = {\r\n",
    "    \"Bug\": \"An error in a program that prevents the program from running as expected.\",\r\n",
    "    \"Function\": \"A piece of code that you can easily call over and over again.\",\r\n",
    "    'Loops': 'It is an action of doing something over and over again'\r\n",
    "    }\r\n",
    "\r\n",
    "print(\"Looping over dictionary with key and value\")\r\n",
    "for keys in programming_dictionary.keys():\r\n",
    "    print(keys,programming_dictionary[keys])\r\n",
    "    \r\n",
    "print(\"-----------------\")\r\n",
    "\r\n",
    "\r\n",
    "print(\"looping dictionary with only key\")\r\n",
    "for key in programming_dictionary:\r\n",
    "    print(key)\r\n",
    "    \r\n",
    "\r\n",
    "print(\"-----------------\")\r\n",
    "\r\n",
    "print(\"looping dictionary for only values\")\r\n",
    "for value in programming_dictionary:\r\n",
    "    print(programming_dictionary[value])\r\n",
    "\r\n",
    "\r\n"
   ],
   "outputs": [
    {
     "output_type": "stream",
     "name": "stdout",
     "text": [
      "Looping over dictionary with key and value\n",
      "Bug An error in a program that prevents the program from running as expected.\n",
      "Function A piece of code that you can easily call over and over again.\n",
      "Loops It is an action of doing something over and over again\n",
      "-----------------\n",
      "looping dictionary with only key\n",
      "Bug\n",
      "Function\n",
      "Loops\n",
      "-----------------\n",
      "looping dictionary for only values\n",
      "An error in a program that prevents the program from running as expected.\n",
      "A piece of code that you can easily call over and over again.\n",
      "It is an action of doing something over and over again\n"
     ]
    }
   ],
   "metadata": {}
  },
  {
   "cell_type": "markdown",
   "source": [
    "# __TODO__ - Grading Program"
   ],
   "metadata": {}
  },
  {
   "cell_type": "markdown",
   "source": [
    "#Given\r\n",
    "<br>\r\n",
    "student_scores = {\r\n",
    "  \"Harry\": 81,\r\n",
    "  \"Ron\": 78,\r\n",
    "  \"Hermione\": 99, \r\n",
    "  \"Draco\": 74,\r\n",
    "  \"Neville\": 62,\r\n",
    "}\r\n",
    "<br>\r\n",
    "#🚨 Don't change the code above 👆\r\n",
    "<br>\r\n",
    "__#TODO-1:__ Create an empty dictionary called student_grades.\r\n",
    "<br>\r\n",
    "__#TODO-2:__ Write your code below to add the grades to student_grades.👇\r\n",
    "\r\n",
    "<br>\r\n",
    "#🚨 Don't change the code below 👇\r\n",
    "<br>\r\n",
    "print(student_grades)\r\n",
    "\r\n",
    "\r\n",
    "#__Expected Output__\r\n",
    "\r\n",
    "```\r\n",
    "{'Harry': 'Exceeds Expectations', 'Ron': 'Acceptable', 'Hermione': 'Outstanding', 'Draco': 'Acceptable', 'Neville': 'Fail'}\r\n",
    "```"
   ],
   "metadata": {}
  },
  {
   "cell_type": "code",
   "execution_count": 10,
   "source": [
    "student_scores = {\r\n",
    "  \"Harry\": 81,\r\n",
    "  \"Ron\": 78,\r\n",
    "  \"Hermione\": 99, \r\n",
    "  \"Draco\": 74,\r\n",
    "  \"Neville\": 62,\r\n",
    "}\r\n",
    "# __#TODO-1:__ Create an empty dictionary called student_grades.\r\n",
    "student_grade = {}\r\n",
    "\r\n",
    "# __#TODO-2:__ Write your code below to add the grades to student_grades.\r\n",
    "for score in student_scores:\r\n",
    "  if student_scores[score] >= 91 and student_scores[score] <= 100:\r\n",
    "    student_grade[score] = \"Outstanding\"\r\n",
    "  elif student_scores[score] >= 81 and student_scores[score] <= 90:\r\n",
    "    student_grade[score] = \"Exceeds Expectations\"\r\n",
    "  elif student_scores[score] >= 71 and student_scores[score] <= 80:\r\n",
    "    student_grade[score] = \"Acceptable\"\r\n",
    "  else:\r\n",
    "    student_grade[score] = \"Fail\"\r\n",
    "      \r\n",
    "print(student_grade)"
   ],
   "outputs": [
    {
     "output_type": "stream",
     "name": "stdout",
     "text": [
      "{'Harry': 'Exceeds Expectations', 'Ron': 'Acceptable', 'Hermione': 'Outstanding', 'Draco': 'Acceptable', 'Neville': 'Fail'}\n"
     ]
    }
   ],
   "metadata": {}
  },
  {
   "cell_type": "markdown",
   "source": [
    "## Nesting in List and Dictionary"
   ],
   "metadata": {}
  },
  {
   "cell_type": "code",
   "execution_count": 19,
   "source": [
    "capitals = {\r\n",
    "    \"france\" : \"paris\",\r\n",
    "    \"germany\" : \"berlin\",\r\n",
    "}\r\n",
    "\r\n",
    "travel_log = {\r\n",
    "    \"france\" : [\"paris\", \"lille\",\"dijon\"],\r\n",
    "    \"germany\": [\"berlin\", \"hamburg\", \"stuttgart\"]\r\n",
    "}\r\n",
    "\r\n",
    "# nesting dictionary to dictionary\r\n",
    "nested_log = {\r\n",
    "    \"karnataka\" :{\"city_visited\":[\"Bangalore\", \"Tumkur\",\"mysore\"],\"total_visit\" :2}\r\n",
    "}\r\n",
    "\r\n",
    "print(nested_log)\r\n",
    "\r\n",
    "# nesting dictionary inside the list\r\n",
    "data = [{\"friends\": {\"Nandan G N\", \"Yashas K P\", \"Pavan\", \"Ganesh\"},\r\n",
    "        \"Branch\":{\"CSE\", \"ME\", \"ME\", \"CSE\", \"ME\"}}]\r\n",
    "print(data)"
   ],
   "outputs": [
    {
     "output_type": "stream",
     "name": "stdout",
     "text": [
      "{'karnataka': {'city_visited': ['Bangalore', 'Tumkur', 'mysore'], 'total_visit': 2}}\n",
      "[{'friends': {'Yashas K P', 'Nandan G N', 'Pavan', 'Ganesh'}, 'Branch': {'ME', 'CSE'}}]\n"
     ]
    }
   ],
   "metadata": {}
  },
  {
   "cell_type": "markdown",
   "source": [
    "# __TODO - Important__ Dictionary in the List\r\n",
    "```\r\n",
    "travel_log = [\r\n",
    "{\r\n",
    "  \"country\": \"France\",\r\n",
    "  \"visits\": 12,\r\n",
    "  \"cities\": [\"Paris\", \"Lille\", \"Dijon\"]\r\n",
    "},\r\n",
    "{\r\n",
    "  \"country\": \"Germany\",\r\n",
    "  \"visits\": 5,\r\n",
    "  \"cities\": [\"Berlin\", \"Hamburg\", \"Stuttgart\"]\r\n",
    "},\r\n",
    "]\r\n",
    "```\r\n",
    "<br>\r\n",
    "#🚨 Do NOT change the code above\r\n",
    "<br>\r\n",
    "#TODO: Write the function that will allow new countries\r\n",
    "<br>\r\n",
    "#to be added to the travel_log. 👇\r\n",
    "<br>\r\n",
    "\r\n",
    "#🚨 Do not change the code below\r\n",
    "<br>\r\n",
    "\r\n",
    "```add_new_country(\"Russia\", 2, [\"Moscow\", \"Saint Petersburg\"])```\r\n",
    "<br>\r\n",
    "```print(travel_log)```\r\n",
    "\r\n",
    "\r\n",
    "\r\n"
   ],
   "metadata": {}
  },
  {
   "cell_type": "code",
   "execution_count": 65,
   "source": [
    "# NOTE Given Code\r\n",
    "travel_log = [\r\n",
    "{\r\n",
    "  \"country\": \"France\",\r\n",
    "  \"visits\": 12,\r\n",
    "  \"cities\": [\"Paris\", \"Lille\", \"Dijon\"]\r\n",
    "},\r\n",
    "{\r\n",
    "  \"country\": \"Germany\",\r\n",
    "  \"visits\": 5,\r\n",
    "  \"cities\": [\"Berlin\", \"Hamburg\", \"Stuttgart\"]\r\n",
    "},\r\n",
    "]\r\n",
    "\r\n",
    "def add_new_country(country, visits, cities):\r\n",
    "  new_country = {}\r\n",
    "  new_country['country'] = country\r\n",
    "  new_country['visits'] = visits\r\n",
    "  new_country['cities'] = cities\r\n",
    "  print(\"This new country we need to add to travel_log\",new_country)\r\n",
    "  travel_log.append(new_country)\r\n",
    "\r\n",
    "add_new_country(\"Russia\",2,[\"Moscow\", \"Saint Petersburg\"])\r\n",
    "print(travel_log)"
   ],
   "outputs": [
    {
     "output_type": "stream",
     "name": "stdout",
     "text": [
      "This new country we need to add to travel_log {'country': 'Russia', 'visits': 2, 'cities': ['Moscow', 'Saint Petersburg']}\n",
      "[{'country': 'France', 'visits': 12, 'cities': ['Paris', 'Lille', 'Dijon']}, {'country': 'Germany', 'visits': 5, 'cities': ['Berlin', 'Hamburg', 'Stuttgart']}, {'country': 'Russia', 'visits': 2, 'cities': ['Moscow', 'Saint Petersburg']}]\n"
     ]
    }
   ],
   "metadata": {}
  }
 ],
 "metadata": {
  "orig_nbformat": 4,
  "language_info": {
   "name": "python",
   "version": "3.8.10",
   "mimetype": "text/x-python",
   "codemirror_mode": {
    "name": "ipython",
    "version": 3
   },
   "pygments_lexer": "ipython3",
   "nbconvert_exporter": "python",
   "file_extension": ".py"
  },
  "kernelspec": {
   "name": "python3",
   "display_name": "Python 3.8.10 64-bit ('base': conda)"
  },
  "interpreter": {
   "hash": "ed225720166559e7176d3793db16a2fd8d295f725007103b21ac3099d2a89ee8"
  }
 },
 "nbformat": 4,
 "nbformat_minor": 2
}