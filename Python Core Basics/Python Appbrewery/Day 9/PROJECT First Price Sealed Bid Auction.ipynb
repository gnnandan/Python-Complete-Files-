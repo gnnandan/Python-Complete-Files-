{
 "cells": [
  {
   "cell_type": "code",
   "execution_count": 14,
   "source": [
    "import data\r\n",
    "print(data.logo)\r\n",
    "\r\n",
    "\r\n",
    "bid_finished = False\r\n",
    "bids = {}\r\n",
    "\r\n",
    "while not bid_finished:\r\n",
    "    name = input(\"Please enter your name\\n\")\r\n",
    "    bid_price = int(input(\"Please specify your bid price\\n\"))\r\n",
    "    bids[name] = bid_price\r\n",
    "    other = input(f\"Any one else rathe than {name} please say 'yes' or 'no'\\n\")\r\n",
    "    if other == 'no':\r\n",
    "        bid_finished = True\r\n",
    "        \r\n",
    "# i need to know who is the highest bidder\r\n",
    "def bid_recored(bids_recored):\r\n",
    "    # NOTE The Logic\r\n",
    "    highest_bid = 0\r\n",
    "    for bid in bids:\r\n",
    "        bid_amount = bids[bid]\r\n",
    "        if bid_amount > highest_bid:\r\n",
    "            highest_bid = bid_amount\r\n",
    "    print(f\"The Highest bid is {highest_bid}rs and goes to {name}\")\r\n",
    "        \r\n",
    "bid_recored(bids_recored = bids)\r\n",
    "\r\n",
    "\r\n",
    "\r\n",
    "# print(\"Testing line to cross check the highest bid:\", bids)\r\n"
   ],
   "outputs": [
    {
     "output_type": "stream",
     "name": "stdout",
     "text": [
      "\n",
      "                         ___________\n",
      "                         \\         /\n",
      "                          )_______(\n",
      "                          |\"\"\"\"\"\"\"|_.-._,.---------.,_.-._\n",
      "                          |       | | |               | | ''-.\n",
      "                          |       |_| |_             _| |_..-'\n",
      "                          |_______| '-' `'---------'` '-'\n",
      "                          )\"\"\"\"\"\"\"(\n",
      "                         /_________\\\n",
      "                       .-------------.\n",
      "                      /_______________\\\n",
      "\n",
      "The Highest bid is 10000rs and goes to Nandan\n",
      "{'Nandan': 10000}\n"
     ]
    }
   ],
   "metadata": {}
  }
 ],
 "metadata": {
  "orig_nbformat": 4,
  "language_info": {
   "name": "python",
   "version": "3.8.10",
   "mimetype": "text/x-python",
   "codemirror_mode": {
    "name": "ipython",
    "version": 3
   },
   "pygments_lexer": "ipython3",
   "nbconvert_exporter": "python",
   "file_extension": ".py"
  },
  "kernelspec": {
   "name": "python3",
   "display_name": "Python 3.8.10 64-bit ('base': conda)"
  },
  "interpreter": {
   "hash": "ed225720166559e7176d3793db16a2fd8d295f725007103b21ac3099d2a89ee8"
  }
 },
 "nbformat": 4,
 "nbformat_minor": 2
}