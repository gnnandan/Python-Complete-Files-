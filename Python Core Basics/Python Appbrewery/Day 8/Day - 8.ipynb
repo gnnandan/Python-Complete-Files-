{
 "cells": [
  {
   "cell_type": "markdown",
   "source": [
    "# Day 8\r\n",
    "- functions with inputs \r\n",
    "- arguments and parameters \r\n"
   ],
   "metadata": {}
  },
  {
   "cell_type": "markdown",
   "source": [
    "## functions without inputs"
   ],
   "metadata": {}
  },
  {
   "cell_type": "code",
   "execution_count": 2,
   "source": [
    "def greet():\r\n",
    "    print(\"Hello\")\r\n",
    "    print(\"This is Nandan G N\")\r\n",
    "    print(\"All The Best\")\r\n",
    "    \r\n",
    "\r\n",
    "greet()"
   ],
   "outputs": [
    {
     "output_type": "stream",
     "name": "stdout",
     "text": [
      "Hello\n",
      "This is Nandan G N\n",
      "All The Best\n"
     ]
    }
   ],
   "metadata": {}
  },
  {
   "cell_type": "markdown",
   "source": [
    "## function with inputs"
   ],
   "metadata": {}
  },
  {
   "cell_type": "code",
   "execution_count": 9,
   "source": [
    "\"\"\"\r\n",
    "[Note]\r\n",
    "here \r\n",
    "name is >>> paramenter\r\n",
    "the value which we give is >>> argument     \r\n",
    "\"\"\"\r\n",
    "def greet(name):\r\n",
    "    print(f\"Hello {name}\")\r\n",
    "\r\n",
    "name=input(\"Enter the name:\")\r\n",
    "greet(name)"
   ],
   "outputs": [
    {
     "output_type": "stream",
     "name": "stdout",
     "text": [
      "Hello a\n"
     ]
    }
   ],
   "metadata": {}
  },
  {
   "cell_type": "markdown",
   "source": [
    "## function with more inputs"
   ],
   "metadata": {}
  },
  {
   "cell_type": "code",
   "execution_count": 17,
   "source": [
    "def data(name, age):\r\n",
    "    print(f\"Hello,{name}\")\r\n",
    "    print(f\"age is {age}\")\r\n",
    "\r\n",
    "name = input(\"Enter your name:\")\r\n",
    "age = int(input(\"Enter your age:\"))\r\n",
    "data(name,age)"
   ],
   "outputs": [
    {
     "output_type": "stream",
     "name": "stdout",
     "text": [
      "Hello,a\n",
      "age is a\n"
     ]
    }
   ],
   "metadata": {}
  },
  {
   "cell_type": "markdown",
   "source": [
    "### Function with Keyword arguments "
   ],
   "metadata": {}
  },
  {
   "cell_type": "code",
   "execution_count": 16,
   "source": [
    "def data(name, location):\r\n",
    "    print(f\"Hello,this is {name}\")\r\n",
    "    print(f\"location is {location}\")\r\n",
    "    \r\n",
    "data(name = \"Nandan\",location=\"Bangalore\")"
   ],
   "outputs": [
    {
     "output_type": "stream",
     "name": "stdout",
     "text": [
      "Hello,this is Nandan\n",
      "location is Bangalore\n"
     ]
    }
   ],
   "metadata": {}
  },
  {
   "cell_type": "markdown",
   "source": [
    "## **_TODO CODING CHALLENGE: \"Paint Area Calculator\"_**\r\n",
    "\r\n",
    "#Example Input\r\n",
    "\r\n",
    "```\r\n",
    "test_h = 3\r\n",
    "```\r\n",
    "\r\n",
    "```\r\n",
    "test_w = 9\r\n",
    "```\r\n",
    "\r\n",
    "#Example Output\r\n",
    "\r\n",
    "```\r\n",
    "You'll need 6 cans of paint.\r\n",
    "```"
   ],
   "metadata": {}
  },
  {
   "cell_type": "code",
   "execution_count": 35,
   "source": [
    "import math\r\n",
    "def paint_calc(height, width, cover):\r\n",
    "    area = height * width\r\n",
    "    no_of_cans = math.ceil(area / cover)\r\n",
    "    print(f\"we will needed {no_of_cans} cans of paint\")\r\n",
    "\r\n",
    "\r\n",
    "# given\r\n",
    "test_h = int(input(\"Height of wall: \"))\r\n",
    "test_w = int(input(\"Width of wall: \"))\r\n",
    "coverage = 5\r\n",
    "paint_calc(height=test_h, width=test_w, cover=coverage)"
   ],
   "outputs": [
    {
     "output_type": "stream",
     "name": "stdout",
     "text": [
      "we will needed 3 cans of paint\n"
     ]
    }
   ],
   "metadata": {}
  },
  {
   "cell_type": "markdown",
   "source": [
    "## **_TODO CODING CHALLENGE: \"Prime number checker\"_**\r\n",
    "#Example Input 1\r\n",
    "\r\n",
    "```\r\n",
    "73\r\n",
    "```\r\n",
    "\r\n",
    "#Example Output 1\r\n",
    "\r\n",
    "```\r\n",
    "It's a prime number.\r\n",
    "```\r\n",
    "\r\n",
    "#Example Input 2\r\n",
    "\r\n",
    "```\r\n",
    "75\r\n",
    "```\r\n",
    "\r\n",
    "#Example Output 2\r\n",
    "\r\n",
    "```\r\n",
    "It's not a prime number.\r\n",
    "```"
   ],
   "metadata": {}
  },
  {
   "cell_type": "code",
   "execution_count": 43,
   "source": [
    "def prime_checker(number):\r\n",
    "    isprime=True\r\n",
    "    for i in range(2,number):\r\n",
    "        if number % i == 0:\r\n",
    "            isprime=False\r\n",
    "    if isprime == True:\r\n",
    "        print(f\"The {number} is prime number\")\r\n",
    "    else:\r\n",
    "        print(f\"The {number} is not a prime number\")\r\n",
    "    \r\n",
    "n = int(input(\"Check this number: \"))\r\n",
    "prime_checker(number=n)\r\n"
   ],
   "outputs": [
    {
     "output_type": "stream",
     "name": "stdout",
     "text": [
      "The 4 is not a prime number\n"
     ]
    }
   ],
   "metadata": {}
  }
 ],
 "metadata": {
  "orig_nbformat": 4,
  "language_info": {
   "name": "python",
   "version": "3.8.10",
   "mimetype": "text/x-python",
   "codemirror_mode": {
    "name": "ipython",
    "version": 3
   },
   "pygments_lexer": "ipython3",
   "nbconvert_exporter": "python",
   "file_extension": ".py"
  },
  "kernelspec": {
   "name": "python3",
   "display_name": "Python 3.8.10 64-bit ('base': conda)"
  },
  "interpreter": {
   "hash": "ed225720166559e7176d3793db16a2fd8d295f725007103b21ac3099d2a89ee8"
  }
 },
 "nbformat": 4,
 "nbformat_minor": 2
}