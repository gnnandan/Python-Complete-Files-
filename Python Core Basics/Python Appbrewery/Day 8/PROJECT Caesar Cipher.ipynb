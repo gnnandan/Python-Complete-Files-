{
 "cells": [
  {
   "cell_type": "code",
   "execution_count": null,
   "source": [
    "alphabet = ['a', 'b', 'c', 'd', 'e', 'f', 'g', 'h', 'i', 'j', 'k', 'l', 'm', 'n', 'o', 'p', 'q', 'r', 's', 't', 'u', 'v', 'w', 'x', 'y', 'z']\r\n",
    "\r\n",
    "# direction = input(\"Type 'encode' to encrypt, type 'decode' to decrypt:\\n\")\r\n",
    "text = input(\"Type your message:\\n\").lower()\r\n",
    "shift = int(input(\"Type the shift number:\\n\"))\r\n",
    "\r\n",
    "#TODO-1: Create a function called 'encrypt' that takes the 'text' and 'shift' as inputs.\r\n",
    "\r\n",
    "def encrypt(plain_text, shift_amount):\r\n",
    "    \r\n",
    "    #TODO-2: Inside the 'encrypt' function, shift each letter of the 'text' forwards in the alphabet by the shift amount and print the encrypted text. \r\n",
    "    cipher = \"\"\r\n",
    "    for letter in plain_text:\r\n",
    "        position = alphabet.index(letter)\r\n",
    "        new_position = position + shift_amount\r\n",
    "        new_letter = alphabet[new_position]\r\n",
    "        print(new_letter)\r\n",
    "encrypt(plain_text = text, shift_amount = shift)\r\n",
    "#TODO-3: Call the encrypt function and pass in the user inputs. You should be able to test the code and encrypt a message. "
   ],
   "outputs": [
    {
     "output_type": "stream",
     "name": "stdout",
     "text": [
      "o\n",
      "b\n",
      "o\n",
      "e\n",
      "b\n",
      "o\n"
     ]
    }
   ],
   "metadata": {}
  },
  {
   "cell_type": "code",
   "execution_count": 22,
   "source": [
    "# Task\r\n",
    "#TODO-1: Create a function called 'encrypt' that takes the 'text' and 'shift' as inputs.\r\n",
    "#TODO-2: Inside the 'encrypt' function, shift each letter of the 'text' forwards in the alphabet by the shift amount and print the encrypted text. \r\n",
    "alphabet = ['a', 'b', 'c', 'd', 'e', 'f', 'g', 'h', 'i', 'j', 'k', 'l', 'm', 'n', 'o', 'p', 'q', 'r', 's', 't', 'u', 'v', 'w', 'x', 'y', 'z',\r\n",
    "            'a', 'b', 'c', 'd', 'e', 'f', 'g', 'h', 'i', 'j', 'k', 'l', 'm', 'n', 'o', 'p', 'q', 'r', 's', 't', 'u', 'v', 'w', 'x', 'y', 'z']\r\n",
    "\r\n",
    "direction = input(\"Type 'encode' to encrypt, type 'decode' to decrypt:\\n\")\r\n",
    "text = input(\"Type your message:\\n\").lower()\r\n",
    "shift = int(input(\"Type the shift number:\\n\"))\r\n",
    "\r\n",
    "\r\n",
    "def encrypt(plain_text, no_shift):\r\n",
    "    # use for loop to loop the letters\r\n",
    "    encrypted_message = \"\"\r\n",
    "    for message in plain_text:\r\n",
    "        # NOTE finding the position of the message\r\n",
    "        position = alphabet.index(message)\r\n",
    "        # NOTE adding the no_shift to position then stored in shift_position\r\n",
    "        shift_position = position + no_shift\r\n",
    "        # NOTE based on shift_position getting the letter from the alphabet\r\n",
    "        shiffted_message = alphabet[shift_position]\r\n",
    "        encrypted_message += shiffted_message\r\n",
    "    print(\"The encrypted message is:\",encrypted_message)\r\n",
    "# encrypt(plain_text = text, no_shift = shift)\r\n",
    "\r\n",
    "def decrypt(cipher_test, no_shifts):\r\n",
    "    decrypt_message = \"\"\r\n",
    "    for message in cipher_test:\r\n",
    "        position = alphabet.index(message)\r\n",
    "        shifted_position = position - no_shifts\r\n",
    "        shifted_letter = alphabet[shifted_position]\r\n",
    "        decrypt_message += shifted_letter\r\n",
    "    print(\"The decrypted message is:\",decrypt_message)      \r\n",
    "# decrypt(plain_text = text, no_shifts = shift)\r\n",
    "        \r\n",
    "        \r\n",
    "if direction == 'encode':\r\n",
    "    encrypt(plain_text = text, no_shift = shift)\r\n",
    "else:\r\n",
    "    decrypt(cipher_test = text, no_shifts = shift)"
   ],
   "outputs": [
    {
     "output_type": "stream",
     "name": "stdout",
     "text": [
      "The decrypted message is: hello\n"
     ]
    }
   ],
   "metadata": {}
  },
  {
   "cell_type": "markdown",
   "source": [
    "# Organizing the Caesar Cipher Project "
   ],
   "metadata": {}
  },
  {
   "cell_type": "code",
   "execution_count": 12,
   "source": [
    "\r\n",
    "alphabet = ['a', 'b', 'c', 'd', 'e', 'f', 'g', 'h', 'i', 'j', 'k', 'l', 'm', 'n', 'o', 'p', 'q', 'r', 's', 't', 'u', 'v', 'w', 'x', 'y', 'z',\r\n",
    "            'a', 'b', 'c', 'd', 'e', 'f', 'g', 'h', 'i', 'j', 'k', 'l', 'm', 'n', 'o', 'p', 'q', 'r', 's', 't', 'u', 'v', 'w', 'x', 'y', 'z']\r\n",
    "\r\n",
    "direction = input(\"Type 'encode' to encrypt, type 'decode' to decrypt:\\n\")\r\n",
    "text = input(\"Type your message:\\n\").lower()\r\n",
    "shift = int(input(\"Type the shift number:\\n\"))\r\n",
    "\r\n",
    "def caesar_cipher(start_text, shift_amount, direction):\r\n",
    "    end_text = \"\"\r\n",
    "    for message in start_text:\r\n",
    "        position = alphabet.index(message)\r\n",
    "        if direction == 'encode':\r\n",
    "            shift_position = position + shift_amount\r\n",
    "            shifted_letter = alphabet[shift_position]\r\n",
    "            end_text += shifted_letter\r\n",
    "        else:\r\n",
    "            shift_position = position - shift_amount\r\n",
    "            shifted_letter = alphabet[shift_position]\r\n",
    "            end_text += shifted_letter\r\n",
    "    print(f\"The {direction}d string is {end_text}\")\r\n",
    "        \r\n",
    "        \r\n",
    "caesar_cipher(start_text = text, shift_amount = shift, direction = direction)        \r\n",
    "    \r\n",
    "    "
   ],
   "outputs": [
    {
     "output_type": "stream",
     "name": "stdout",
     "text": [
      "The decoded string is hello\n"
     ]
    }
   ],
   "metadata": {}
  },
  {
   "cell_type": "markdown",
   "source": [
    "# Caesar Cipher Improving User Experience "
   ],
   "metadata": {}
  },
  {
   "cell_type": "code",
   "execution_count": 2,
   "source": [
    "alphabet = ['a', 'b', 'c', 'd', 'e', 'f', 'g', 'h', 'i', 'j', 'k', 'l', 'm', 'n', 'o', 'p', 'q', 'r', 's', 't', 'u', 'v', 'w', 'x', 'y', 'z',\r\n",
    "            'a', 'b', 'c', 'd', 'e', 'f', 'g', 'h', 'i', 'j', 'k', 'l', 'm', 'n', 'o', 'p', 'q', 'r', 's', 't', 'u', 'v', 'w', 'x', 'y', 'z']\r\n",
    "\r\n",
    "def caesar(start_text, shift_amount, cipher_direction):\r\n",
    "  end_text = \"\"\r\n",
    "  for message in start_text:\r\n",
    "      position = alphabet.index(message)\r\n",
    "      if direction == 'encode':\r\n",
    "          shift_position = position + shift_amount\r\n",
    "          shifted_letter = alphabet[shift_position]\r\n",
    "          end_text += shifted_letter\r\n",
    "      else:\r\n",
    "          shift_position = position - shift_amount\r\n",
    "          shifted_letter = alphabet[shift_position]\r\n",
    "          end_text += shifted_letter\r\n",
    "  print(f\"The {direction}d string is {end_text}\")\r\n",
    "\r\n",
    "#TODO-1: Import and print the logo from art.py when the program starts.\r\n",
    "from data import logo\r\n",
    "print(logo)\r\n",
    "\r\n",
    "#TODO-4: Can you figure out a way to ask the user if they want to restart the cipher program?\r\n",
    "should_continue = True\r\n",
    "while should_continue:\r\n",
    "  direction = input(\"Type 'encode' to encrypt, type 'decode' to decrypt:\\n\")\r\n",
    "  text = input(\"Type your message:\\n\").lower()\r\n",
    "  shift = int(input(\"Type the shift number:\\n\"))\r\n",
    "  \r\n",
    "  #TODO-2: What if the user enters a shift that is greater than the number of letters in the alphabet?\r\n",
    "  shift = shift % 26  #Hint: Think about how you can use the modulus (%)\r\n",
    "  caesar(start_text=text, shift_amount=shift, cipher_direction=direction)\r\n",
    "  user_input = input(\"Type 'yes' if you want to go again. Otherwise type 'no'.\")\r\n",
    "  if user_input == \"no\":\r\n",
    "    should_continue = False\r\n",
    "    print(\"Thanks for using a cipher encryption and decryption\")"
   ],
   "outputs": [
    {
     "output_type": "stream",
     "name": "stdout",
     "text": [
      "           \n",
      " ,adPPYba, ,adPPYYba,  ,adPPYba, ,adPPYba, ,adPPYYba, 8b,dPPYba,  \n",
      "a8\"     \"\" \"\"     `Y8 a8P_____88 I8[    \"\" \"\"     `Y8 88P'   \"Y8  \n",
      "8b         ,adPPPPP88 8PP\"  `\"Y8ba,  ,adPPPPP88 88          \n",
      "\"8a,   ,aa 88,    ,88 \"8b,   ,aa aa    ]8I 88,    ,88 88          \n",
      " `\"Ybbd8\"' `\"8bbdP\"Y8  `\"Ybbd8\"' `\"YbbdP\"' `\"8bbdP\"Y8 88   \n",
      "            88             88                                 \n",
      "           \"\"             88                                 \n",
      "                          88                                 \n",
      " ,adPPYba, 88 8b,dPPYba,  88,dPPYba,   ,adPPYba, 8b,dPPYba,  \n",
      "a8\"     \"\" 88 88P'    \"8a 88P'    \"8a a8P_____88 88P'   \"Y8  \n",
      "8b         88 88       d8 88       88 8PP\" 88          \n",
      "\"8a,   ,aa 88 88b,   ,a8\" 88       88 \"8b,   ,aa 88          \n",
      " `\"Ybbd8\"' 88 88`YbbdP\"'  88       88  `\"Ybbd8\"' 88          \n",
      "              88                                             \n",
      "              88           \n",
      "\n",
      "The encoded string is mjqqt\n",
      "Thanks for using a cipher encryption and decryption\n"
     ]
    }
   ],
   "metadata": {}
  },
  {
   "cell_type": "markdown",
   "source": [
    "## Simplified Version"
   ],
   "metadata": {}
  },
  {
   "cell_type": "code",
   "execution_count": 22,
   "source": [
    "import data as d\r\n",
    "print(d.logo)\r\n",
    "def cipher_app(standard_text, shift_amount, operation):\r\n",
    "    message = \"\"\r\n",
    "    for char in standard_text:\r\n",
    "        if char in d.alphabet:\r\n",
    "            position = d.alphabet.index(char)\r\n",
    "            if operation =='encode':\r\n",
    "                shifted_position = position + shift_amount\r\n",
    "                shifted_letter = d.alphabet[shifted_position]\r\n",
    "                message = message + shifted_letter\r\n",
    "            else:\r\n",
    "                shifted_position = position - shift_amount\r\n",
    "                shifted_letter = d.alphabet[shifted_position]\r\n",
    "                message = message + shifted_letter\r\n",
    "        else:\r\n",
    "            message = message + char\r\n",
    "    print(f\"The {operation}d string is {message}\")\r\n",
    "            \r\n",
    "should_continue = True\r\n",
    "while should_continue:\r\n",
    "    direction = input(\"Type 'encode' to encrypt, type 'decode' to decrypt:\\n\")\r\n",
    "    text = input(\"Type your message:\\n\").lower()\r\n",
    "    shift = int(input(\"Type the shift number:\\n\"))\r\n",
    "    shift = shift % 26\r\n",
    "    cipher_app(standard_text = text, shift_amount = shift, operation = direction)\r\n",
    "    user_input = input(\"Type 'yes' if you want to go again. Otherwise type 'no'.\")\r\n",
    "    if user_input == 'no':\r\n",
    "        should_continue = False\r\n",
    "        print(\"Thank you\")"
   ],
   "outputs": [
    {
     "output_type": "stream",
     "name": "stdout",
     "text": [
      "           \n",
      " ,adPPYba, ,adPPYYba,  ,adPPYba, ,adPPYba, ,adPPYYba, 8b,dPPYba,  \n",
      "a8\"     \"\" \"\"     `Y8 a8P_____88 I8[    \"\" \"\"     `Y8 88P'   \"Y8  \n",
      "8b         ,adPPPPP88 8PP\"  `\"Y8ba,  ,adPPPPP88 88          \n",
      "\"8a,   ,aa 88,    ,88 \"8b,   ,aa aa    ]8I 88,    ,88 88          \n",
      " `\"Ybbd8\"' `\"8bbdP\"Y8  `\"Ybbd8\"' `\"YbbdP\"' `\"8bbdP\"Y8 88   \n",
      "            88             88                                 \n",
      "           \"\"             88                                 \n",
      "                          88                                 \n",
      " ,adPPYba, 88 8b,dPPYba,  88,dPPYba,   ,adPPYba, 8b,dPPYba,  \n",
      "a8\"     \"\" 88 88P'    \"8a 88P'    \"8a a8P_____88 88P'   \"Y8  \n",
      "8b         88 88       d8 88       88 8PP\" 88          \n",
      "\"8a,   ,aa 88 88b,   ,a8\" 88       88 \"8b,   ,aa 88          \n",
      " `\"Ybbd8\"' 88 88`YbbdP\"'  88       88  `\"Ybbd8\"' 88          \n",
      "              88                                             \n",
      "              88           \n",
      "\n",
      "The decoded string is hello\n",
      "Thank you\n"
     ]
    }
   ],
   "metadata": {}
  },
  {
   "cell_type": "markdown",
   "source": [
    "## Simplified Version Of Caesar Cipher"
   ],
   "metadata": {}
  },
  {
   "cell_type": "code",
   "execution_count": 38,
   "source": [
    "import data as d \r\n",
    "print(d.logo)\r\n",
    "\r\n",
    "def cipher_app(standard_text, shift_amount, operation):\r\n",
    "    message = \"\"\r\n",
    "    for char in standard_text:\r\n",
    "        if char in d.alphabet:\r\n",
    "            position = d.alphabet.index(char)\r\n",
    "            # print(position)\r\n",
    "            if operation == 'encode':\r\n",
    "                shifted_position = position + shift_amount\r\n",
    "                shifted_letter = d.alphabet[shifted_position]\r\n",
    "                message = message + shifted_letter\r\n",
    "            else:                \r\n",
    "                shifted_position = position - shift_amount\r\n",
    "                shifted_letter = d.alphabet[shifted_position]\r\n",
    "                message = message + shifted_letter\r\n",
    "        else:\r\n",
    "            message += char\r\n",
    "    print(f\"The {operation} of the string {message}\")\r\n",
    "    \r\n",
    "continue_operation = True\r\n",
    "while continue_operation:\r\n",
    "    direction = input(\"Type 'encode' to encrypt, type 'decode' to decrypt:\\n\")\r\n",
    "    text = input(\"Type your message:\\n\").lower()\r\n",
    "    shift = int(input(\"Type the shift number:\\n\"))\r\n",
    "    shift = shift % 26\r\n",
    "    cipher_app(standard_text = text  , shift_amount = shift , operation = direction)\r\n",
    "    user_input = input(\"Type 'yes' if you want to go again. Otherwise type 'no'.\")\r\n",
    "    if user_input == 'no':\r\n",
    "        continue_operation = False\r\n",
    "        print(\"Thanks for using Cipher Encryption anf Decryption Technique\")"
   ],
   "outputs": [
    {
     "output_type": "stream",
     "name": "stdout",
     "text": [
      "           \n",
      " ,adPPYba, ,adPPYYba,  ,adPPYba, ,adPPYba, ,adPPYYba, 8b,dPPYba,  \n",
      "a8\"     \"\" \"\"     `Y8 a8P_____88 I8[    \"\" \"\"     `Y8 88P'   \"Y8  \n",
      "8b         ,adPPPPP88 8PP\"  `\"Y8ba,  ,adPPPPP88 88          \n",
      "\"8a,   ,aa 88,    ,88 \"8b,   ,aa aa    ]8I 88,    ,88 88          \n",
      " `\"Ybbd8\"' `\"8bbdP\"Y8  `\"Ybbd8\"' `\"YbbdP\"' `\"8bbdP\"Y8 88   \n",
      "            88             88                                 \n",
      "           \"\"             88                                 \n",
      "                          88                                 \n",
      " ,adPPYba, 88 8b,dPPYba,  88,dPPYba,   ,adPPYba, 8b,dPPYba,  \n",
      "a8\"     \"\" 88 88P'    \"8a 88P'    \"8a a8P_____88 88P'   \"Y8  \n",
      "8b         88 88       d8 88       88 8PP\" 88          \n",
      "\"8a,   ,aa 88 88b,   ,a8\" 88       88 \"8b,   ,aa 88          \n",
      " `\"Ybbd8\"' 88 88`YbbdP\"'  88       88  `\"Ybbd8\"' 88          \n",
      "              88                                             \n",
      "              88           \n",
      "\n",
      "The encode of the string ifmmp\n",
      "The decode of the string hello\n",
      "Thans for using Cipher Encryption anf Decryption Technique\n"
     ]
    }
   ],
   "metadata": {}
  },
  {
   "cell_type": "code",
   "execution_count": 36,
   "source": [
    "50000 % 26"
   ],
   "outputs": [
    {
     "output_type": "execute_result",
     "data": {
      "text/plain": [
       "2"
      ]
     },
     "metadata": {},
     "execution_count": 36
    }
   ],
   "metadata": {}
  }
 ],
 "metadata": {
  "orig_nbformat": 4,
  "language_info": {
   "name": "python",
   "version": "3.8.10",
   "mimetype": "text/x-python",
   "codemirror_mode": {
    "name": "ipython",
    "version": 3
   },
   "pygments_lexer": "ipython3",
   "nbconvert_exporter": "python",
   "file_extension": ".py"
  },
  "kernelspec": {
   "name": "python3",
   "display_name": "Python 3.8.10 64-bit ('base': conda)"
  },
  "interpreter": {
   "hash": "ed225720166559e7176d3793db16a2fd8d295f725007103b21ac3099d2a89ee8"
  }
 },
 "nbformat": 4,
 "nbformat_minor": 2
}