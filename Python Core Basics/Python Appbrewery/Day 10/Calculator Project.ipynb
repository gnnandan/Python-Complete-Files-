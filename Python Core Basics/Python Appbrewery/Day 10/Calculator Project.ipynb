{
 "cells": [
  {
   "cell_type": "code",
   "execution_count": 1,
   "source": [
    "# calculator\r\n",
    "from art import logo\r\n",
    "def add(n1,n2):\r\n",
    "    return n1 + n2\r\n",
    "\r\n",
    "def sub(n1,n2):\r\n",
    "    return n1 - n2\r\n",
    "\r\n",
    "def mul(n1,n2):\r\n",
    "    return n1 * n2\r\n",
    "\r\n",
    "def div(n1,n2):\r\n",
    "    return n1 / n2\r\n",
    "\r\n",
    "\r\n",
    "\"\"\" here key is \"symbol\" and value is \"name of function\" \"\"\"\r\n",
    "operations = {\r\n",
    "    '+' : add,\r\n",
    "    '-' : sub,\r\n",
    "    '*' : mul,\r\n",
    "    '/' : div\r\n",
    "}\r\n",
    "\r\n",
    "def calculator():\r\n",
    "    print(logo)\r\n",
    "    num1  = float(input(\"Enter the first number: \"))\r\n",
    "    for op in operations:\r\n",
    "        print(op)\r\n",
    "    continue_calc = True\r\n",
    "    while continue_calc:\r\n",
    "        operation_symbol = input(\"pic an operation from above\")\r\n",
    "        num2 = float(input(\"Enter the next number:\"))\r\n",
    "        \"\"\"below we are using operations[operation_symbol] where we perform the perticular operation based on the input operation\"\"\"\r\n",
    "        calculation_func = operations[operation_symbol]\r\n",
    "        \"\"\"then we call the functions add or sub or mul or div\"\"\"\r\n",
    "        answer = calculation_func(num1,num2)\r\n",
    "        print(f\"{num1} {operation_symbol} {num2} = {answer}\")\r\n",
    "        \r\n",
    "        \r\n",
    "        \"\"\"pic another operation\"\"\"\r\n",
    "        user_input = input(f\"Type 'y' to continue calculating with answer = {answer}, or type 'n' to start a new calcluation\")\r\n",
    "        if user_input == 'n':\r\n",
    "            continue_calc = False\r\n",
    "            calculator()\r\n",
    "        else:\r\n",
    "            num1 = answer\r\n",
    "            \r\n",
    "calculator()"
   ],
   "outputs": [
    {
     "output_type": "stream",
     "name": "stdout",
     "text": [
      "\n",
      " _____________________\n",
      "|  _________________  |\n",
      "| | Pythonista   0. | |  .----------------.  .----------------.  .----------------.  .----------------. \n",
      "| |_________________| | | .--------------. || .--------------. || .--------------. || .--------------. |\n",
      "|  ___ ___ ___   ___  | | |     ______   | || |      __      | || |   _____      | || |     ______   | |\n",
      "| | 7 | 8 | 9 | | + | | | |   .' ___  |  | || |     /  \\     | || |  |_   _|     | || |   .' ___  |  | |\n",
      "| |___|___|___| |___| | | |  / .'   \\_|  | || |    / /\\ \\    | || |    | |       | || |  / .'   \\_|  | |\n",
      "| | 4 | 5 | 6 | | - | | | |  | |         | || |   / ____ \\   | || |    | |   _   | || |  | |         | |\n",
      "| |___|___|___| |___| | | |  \\ `.___.'\\  | || | _/ /    \\ \\_ | || |   _| |__/ |  | || |  \\ `.___.'\\  | |\n",
      "| | 1 | 2 | 3 | | x | | | |   `._____.'  | || ||____|  |____|| || |  |________|  | || |   `._____.'  | |\n",
      "| |___|___|___| |___| | | |              | || |              | || |              | || |              | |\n",
      "| | . | 0 | = | | / | | | '--------------' || '--------------' || '--------------' || '--------------' |\n",
      "| |___|___|___| |___| |  '----------------'  '----------------'  '----------------'  '----------------' \n",
      "|_____________________|\n",
      "\n"
     ]
    }
   ],
   "metadata": {}
  }
 ],
 "metadata": {
  "orig_nbformat": 4,
  "language_info": {
   "name": "python",
   "version": "3.8.11",
   "mimetype": "text/x-python",
   "codemirror_mode": {
    "name": "ipython",
    "version": 3
   },
   "pygments_lexer": "ipython3",
   "nbconvert_exporter": "python",
   "file_extension": ".py"
  },
  "kernelspec": {
   "name": "python3",
   "display_name": "Python 3.8.10 64-bit ('base': conda)"
  },
  "interpreter": {
   "hash": "ed225720166559e7176d3793db16a2fd8d295f725007103b21ac3099d2a89ee8"
  }
 },
 "nbformat": 4,
 "nbformat_minor": 2
}