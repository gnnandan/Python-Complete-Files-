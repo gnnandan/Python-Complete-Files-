{
 "cells": [
  {
   "cell_type": "markdown",
   "source": [
    "# Day 10\r\n",
    "## Functions __with__ outputs (return)"
   ],
   "metadata": {}
  },
  {
   "cell_type": "code",
   "execution_count": 1,
   "source": [
    "# Logic\r\n",
    "def fuc():\r\n",
    "    result = 2 + 3\r\n",
    "    # function with return values \r\n",
    "    return result\r\n",
    "\r\n",
    "output = fuc()\r\n",
    "print(output)"
   ],
   "outputs": [
    {
     "output_type": "stream",
     "name": "stdout",
     "text": [
      "5\n"
     ]
    }
   ],
   "metadata": {}
  },
  {
   "cell_type": "code",
   "execution_count": 3,
   "source": [
    "def format_name():\r\n",
    "    f_name = input(\"Enter the first name:\")\r\n",
    "    l_name = input(\"Enter the last name\")\r\n",
    "    full_name = f_name  + \" \" + l_name\r\n",
    "    return full_name\r\n",
    "\r\n",
    "name = format_name()\r\n",
    "print(name)"
   ],
   "outputs": [
    {
     "output_type": "stream",
     "name": "stdout",
     "text": [
      "Nandan G N\n"
     ]
    }
   ],
   "metadata": {}
  },
  {
   "cell_type": "markdown",
   "source": [
    "## function with one return value"
   ],
   "metadata": {}
  },
  {
   "cell_type": "code",
   "execution_count": 11,
   "source": [
    "def format_name(f_name, l_name):\r\n",
    "    full_name = (f_name+\" \"+l_name).title() #LOGIC\r\n",
    "    return full_name\r\n",
    "#  what ever we print below the return it won't execute\r\n",
    "\r\n",
    "f_name = input(\"Enter the first name:\")\r\n",
    "l_name = input(\"Enter the last name\")\r\n",
    "name = format_name(f_name, l_name)\r\n",
    "print(\"Formatted name is\",name)"
   ],
   "outputs": [
    {
     "output_type": "stream",
     "name": "stdout",
     "text": [
      "Formatted name is Nandan G N\n"
     ]
    }
   ],
   "metadata": {}
  },
  {
   "cell_type": "markdown",
   "source": [
    "## function with more return values"
   ],
   "metadata": {}
  },
  {
   "cell_type": "code",
   "execution_count": 13,
   "source": [
    "def format_name(f_name, l_name):\r\n",
    "    full_name = (f_name+\" \"+l_name).title() #LOGIC\r\n",
    "    return f\"{full_name}\"\r\n",
    "\r\n",
    "print(format_name(input(\"What is your first name\"), input(\"What is your last name\"))) #LOGIC we can use input inside the print function when we calling the function"
   ],
   "outputs": [
    {
     "output_type": "stream",
     "name": "stdout",
     "text": [
      "Nandan G N\n"
     ]
    }
   ],
   "metadata": {}
  },
  {
   "cell_type": "markdown",
   "source": [
    "# __TODO:__ DAYS IN MONTH \r\n",
    "\r\n",
    "```def is_leap(year):\r\n",
    "  if year % 4 == 0:\r\n",
    "    if year % 100 == 0:\r\n",
    "      if year % 400 == 0:\r\n",
    "        print(\"Leap year.\")\r\n",
    "      else:\r\n",
    "        print(\"Not leap year.\")\r\n",
    "    else:\r\n",
    "      print(\"Leap year.\")\r\n",
    "  else:\r\n",
    "    print(\"Not leap year.\")\r\n",
    "\r\n",
    "def days_in_month():\r\n",
    "  month_days = [31, 28, 31, 30, 31, 30, 31, 31, 30, 31, 30, 31]  \r\n",
    "  \r\n",
    "  \r\n",
    "#🚨 Do NOT change any of the code below \r\n",
    "year = int(input(\"Enter a year: \"))\r\n",
    "month = int(input(\"Enter a month: \"))\r\n",
    "days = days_in_month(year, month)\r\n",
    "print(days)\r\n",
    "```"
   ],
   "metadata": {}
  },
  {
   "cell_type": "code",
   "execution_count": 18,
   "source": [
    "def is_leap(year):\r\n",
    "  if year % 4 == 0:\r\n",
    "    if year % 100 == 0:\r\n",
    "      if year % 400 == 0:\r\n",
    "        return True \r\n",
    "      else:\r\n",
    "        return False \r\n",
    "    else:\r\n",
    "      return True \r\n",
    "  else:\r\n",
    "    return False \r\n",
    "\r\n",
    "def days_in_month(year, month):\r\n",
    "  \"\"\"DOCSTRING here we are checking how many days we have in a month below we have checked the sorted the invalid parameters\"\"\"\r\n",
    "  if month > 12 or month < 1:\r\n",
    "      return \"invalid\"   \r\n",
    "  \"\"\"We have take list of days form each month and stroed it in a string called the month_days\"\"\"\r\n",
    "  month_days = [31, 28, 31, 30, 31, 30, 31, 31, 30, 31, 30, 31]  \r\n",
    "  if month == 2 and is_leap(year) :\r\n",
    "      return 29\r\n",
    "  \"\"\"below we have used indexing to check the no of days for specified month\"\"\"\r\n",
    "  return month_days[month - 1]\r\n",
    "\r\n",
    "  \r\n",
    "#🚨 Do NOT change any of the code below \r\n",
    "year = int(input(\"Enter a year: \"))\r\n",
    "month = int(input(\"Enter a month: \"))\r\n",
    "days = days_in_month(year, month)\r\n",
    "print(f\"The year:{year} of month:{month} has {days}:days\")"
   ],
   "outputs": [
    {
     "output_type": "stream",
     "name": "stdout",
     "text": [
      "The year:2020 of month:3 has 31:days\n"
     ]
    }
   ],
   "metadata": {}
  },
  {
   "cell_type": "code",
   "execution_count": null,
   "source": [],
   "outputs": [],
   "metadata": {}
  }
 ],
 "metadata": {
  "orig_nbformat": 4,
  "language_info": {
   "name": "python",
   "version": "3.8.11",
   "mimetype": "text/x-python",
   "codemirror_mode": {
    "name": "ipython",
    "version": 3
   },
   "pygments_lexer": "ipython3",
   "nbconvert_exporter": "python",
   "file_extension": ".py"
  },
  "kernelspec": {
   "name": "python3",
   "display_name": "Python 3.8.10 64-bit ('base': conda)"
  },
  "interpreter": {
   "hash": "ed225720166559e7176d3793db16a2fd8d295f725007103b21ac3099d2a89ee8"
  }
 },
 "nbformat": 4,
 "nbformat_minor": 2
}