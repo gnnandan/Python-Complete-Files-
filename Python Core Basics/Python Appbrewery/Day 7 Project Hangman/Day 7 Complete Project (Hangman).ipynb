{
 "cells": [
  {
   "cell_type": "markdown",
   "source": [
    "# Project on Covered Concepts\r\n",
    "\r\n",
    "- for and while loop\r\n",
    "- if and else statement \r\n",
    "- list\r\n",
    "- string "
   ],
   "metadata": {}
  },
  {
   "cell_type": "markdown",
   "source": [
    "## Project Breakdown into steps \r\n",
    "word_list = [\"aardvark\", \"baboon\", \"camel\"]"
   ],
   "metadata": {}
  },
  {
   "cell_type": "markdown",
   "source": [
    "### Step - 1\r\n",
    "#TODO-1 - Randomly choose a word from the word_list and assign it to a variable called chosen_word.\r\n",
    "\r\n",
    "#TODO-2 - Ask the user to guess a letter and assign their answer to a variable called guess. Make guess lowercase.\r\n",
    "\r\n",
    "#TODO-3 - Check if the letter the user guessed (guess) is one of the letters in the chosen_word."
   ],
   "metadata": {}
  },
  {
   "cell_type": "code",
   "execution_count": 5,
   "source": [
    "import random\r\n",
    "word_list = [\"aardvark\", \"baboon\", \"camel\"]\r\n",
    "\r\n",
    "#TODO-1 - Randomly choose a word from the word_list and assign it to a variable called chosen_word.\r\n",
    "chosen_word = random.choice(word_list)\r\n",
    "print(\"Testing:\",chosen_word)\r\n",
    "\r\n",
    "#TODO-2 - Ask the user to guess a letter and assign their answer to a variable called guess. Make guess lowercase.\r\n",
    "guess = input(\"Guess a letter one by one: \").lower()\r\n",
    "\r\n",
    "#TODO-3 - Check if the letter the user guessed (guess) is one of the letters in the chosen_word.\r\n",
    "for letter in chosen_word:\r\n",
    "    if letter == guess:\r\n",
    "        print(\"Yes\")\r\n",
    "    print(\"No\")\r\n"
   ],
   "outputs": [
    {
     "output_type": "stream",
     "name": "stdout",
     "text": [
      "Testing: baboon\n",
      "No\n",
      "Yes\n",
      "No\n",
      "No\n",
      "No\n",
      "No\n",
      "No\n"
     ]
    }
   ],
   "metadata": {
    "ExecuteTime": {
     "end_time": "2021-08-12T06:22:15.187451Z",
     "start_time": "2021-08-12T06:22:13.900940Z"
    }
   }
  },
  {
   "cell_type": "markdown",
   "source": [
    "    \r\n",
    "### Step - 2\r\n",
    "- __#TODO-1:__ - Randomly choose a word from the word_list and assign it to a variable called chosen_word.\r\n",
    "- __#TODO-2:__ - Ask the user to guess a letter and assign their answer to a variable called guess. Make guess lowercase.\r\n",
    "- __#TODO-3:__ - Check if the letter the user guessed (guess) is one of the letters in the chosen_word.\r\n",
    "- __#TODO-4:__ - Cn empty reate aList called display.\r\n",
    "    - #For each letter in the chosen_word, add a \"_\" to 'display'.\r\n",
    "    - #So if the chosen_word was \"apple\", display should be [\"_\", \"_\", \"_\", \"_\", \"_\"] with 5 \"_\" representing each letter to guess."
   ],
   "metadata": {}
  },
  {
   "cell_type": "code",
   "execution_count": 29,
   "source": [
    "import random\r\n",
    "word_list = [\"aardvark\", \"baboon\", \"camel\"]\r\n",
    "chosen_word = random.choice(word_list)\r\n",
    "print(\"Testing:\",chosen_word)\r\n",
    "\r\n",
    "__#TODO-4:__ - Create an empty List called display.\r\n",
    "display = [] \r\n",
    "\r\n",
    "#For each letter in the chosen_word, add a \"_\" to 'display'.\r\n",
    "#So if the chosen_word was \"apple\", display should be [\"_\", \"_\", \"_\", \"_\", \"_\"] with 5 \"_\" representing each letter to guess.\r\n",
    "for letter in range(0,len(chosen_word)):\r\n",
    "    display += \"_\"\r\n",
    "    \r\n",
    "guess = input(\"Guess a letter one by one: \").lower()\r\n",
    "for letter in chosen_word:\r\n",
    "    if letter == guess:\r\n",
    "        print(\"Yes\")\r\n",
    "    print(\"No\")   \r\n",
    "print(\"final display:\",display)"
   ],
   "outputs": [
    {
     "output_type": "stream",
     "name": "stdout",
     "text": [
      "Testing: aardvark\n",
      "Yes\n",
      "No\n",
      "Yes\n",
      "No\n",
      "No\n",
      "No\n",
      "No\n",
      "Yes\n",
      "No\n",
      "No\n",
      "No\n",
      "final display: ['_', '_', '_', '_', '_', '_', '_', '_']\n"
     ]
    }
   ],
   "metadata": {}
  },
  {
   "cell_type": "markdown",
   "source": [
    "### Step - 3\r\n",
    "- __#TODO-1:__ - Randomly choose a word from the word_list and assign it to a variable called chosen_word.\r\n",
    "- __#TODO-2:__ - Ask the user to guess a letter and assign their answer to a variable called guess. Make guess lowercase.\r\n",
    "___________________________________________________________________________________________________________\r\n",
    "- __#TODO-3:__ - Check if the letter the user guessed (guess) is one of the letters in the chosen_word.\r\n",
    "- __#TODO-4:__ - Cn empty reate aList called display.\r\n",
    "    - #For each letter in the chosen_word, add a \"_\" to 'display'.\r\n",
    "    - #So if the chosen_word was \"apple\", display should be [\"_\", \"_\", \"_\", \"_\", \"_\"] with 5 \"_\" representing each letter to guess.\r\n",
    "___________________________________________________________________________________________________________\r\n",
    "- __#TODO-5:__ - Loop through each position in the chosen_word;\r\n",
    "    - #If the letter at that position matches 'guess' then reveal that letter in the display at that position.\r\n",
    "    - #e.g. If the user guessed \"p\" and the chosen word was \"apple\", then display should be [\"_\", \"p\", \"p\", \"_\", \"_\"].\r\n",
    "- __#TODO-6:__ - Print 'display' and you should see the guessed letter in the correct position and every other letter replace with \"_\".\r\n",
    "\r\n",
    "__#Hint__ - Don't worry about getting the user to guess the next letter. We'll tackle that in step 3.\r\n"
   ],
   "metadata": {}
  },
  {
   "cell_type": "code",
   "execution_count": 12,
   "source": [
    "import random\r\n",
    "word_list = [\"aardvark\", \"baboon\", \"camel\"]\r\n",
    "chosen_word = random.choice(word_list)\r\n",
    "print(\"Testing:\",chosen_word)\r\n",
    "\r\n",
    "display = [] \r\n",
    "for letter in range(0,len(chosen_word)):\r\n",
    "    display += \"_\"\r\n",
    "\r\n",
    "endOfGame = False\r\n",
    "\r\n",
    "# Note  while endOfGame == False is same as below\r\n",
    "\r\n",
    "while not endOfGame:\r\n",
    "    guess = input(\"Guess a letter one by one: \").lower()\r\n",
    "    # __#TODO-5:__ - Loop through each position in the chosen_word;\r\n",
    "    for position in range(0,len(chosen_word)):\r\n",
    "        #If the letter at that position matches 'guess' then reveal that letter in the display at that position.\r\n",
    "        # example: \"apple\", then display should be [\"_\", \"p\", \"p\", \"_\", \"_\"].\r\n",
    "        letter = chosen_word[position]\r\n",
    "        if letter == guess:\r\n",
    "            display[position] = letter\r\n",
    "        \r\n",
    "    if \"_\" not in display:\r\n",
    "        endOfGame = True\r\n",
    "    print(\"You Win\")\r\n",
    "    \r\n",
    "    # - __#TODO-6:__ - Print 'display' and you should see the guessed letter in the correct position and every other letter replace with \"_\".\r\n",
    "    print(\"final display:\",display)"
   ],
   "outputs": [
    {
     "output_type": "stream",
     "name": "stdout",
     "text": [
      "Testing: aardvark\n",
      "You Win\n",
      "final display: ['a', 'a', '_', '_', '_', 'a', '_', '_']\n",
      "You Win\n",
      "final display: ['a', 'a', '_', '_', '_', 'a', '_', '_']\n",
      "You Win\n",
      "final display: ['a', 'a', '_', '_', 'v', 'a', '_', '_']\n",
      "You Win\n",
      "final display: ['a', 'a', 'r', '_', 'v', 'a', 'r', '_']\n",
      "You Win\n",
      "final display: ['a', 'a', 'r', '_', 'v', 'a', 'r', '_']\n",
      "You Win\n",
      "final display: ['a', 'a', 'r', '_', 'v', 'a', 'r', '_']\n",
      "You Win\n",
      "final display: ['a', 'a', 'r', 'd', 'v', 'a', 'r', '_']\n",
      "You Win\n",
      "final display: ['a', 'a', 'r', 'd', 'v', 'a', 'r', 'k']\n"
     ]
    }
   ],
   "metadata": {}
  },
  {
   "cell_type": "markdown",
   "source": [
    "### Step - 4\r\n",
    "- __#TODO-1:__ - Randomly choose a word from the word_list and assign it to a variable called chosen_word.\r\n",
    "- __#TODO-2:__ - Ask the user to guess a letter and assign their answer to a variable called guess. Make guess lowercase.\r\n",
    "___________________________________________________________________________________________________________\r\n",
    "- __#TODO-3:__ - Check if the letter the user guessed (guess) is one of the letters in the chosen_word.\r\n",
    "- __#TODO-4:__ - Cn empty reate aList called display.\r\n",
    "    - #For each letter in the chosen_word, add a \"_\" to 'display'.\r\n",
    "    - #So if the chosen_word was \"apple\", display should be [\"_\", \"_\", \"_\", \"_\", \"_\"] with 5 \"_\" representing each letter to guess.\r\n",
    "___________________________________________________________________________________________________________\r\n",
    "- __#TODO-5:__ - Loop through each position in the chosen_word;\r\n",
    "    - #If the letter at that position matches 'guess' then reveal that letter in the display at that position.\r\n",
    "    - #e.g. If the user guessed \"p\" and the chosen word was \"apple\", then display should be [\"_\", \"p\", \"p\", \"_\", \"_\"].\r\n",
    "- __#TODO-6:__ - Print 'display' and you should see the guessed letter in the correct position and every other letter replace with \"_\".\r\n",
    "\r\n",
    "__#Hint__ - Don't worry about getting the user to guess the next letter. We'll tackle that in step 3.\r\n",
    "____________________________________________________________________________________________________________\r\n",
    "\r\n",
    "- __#TODO-7:__ - Create a variable called 'lives' to keep track of the number of lives left. \r\n",
    "\r\n",
    "    - #Set 'lives' to equal 6.\r\n",
    "- __#TODO-8:__ - If guess is not a letter in the chosen_word,\r\n",
    "    - #Then reduce 'lives' by 1. \r\n",
    "    - #If lives goes down to 0 then the game should stop and it should print \"You lose.\"\r\n",
    "    - #Join all the elements in the list and turn it into a String.\r\n",
    "- __#TODO-9:__ - print the ASCII art from 'stages' that corresponds to the current number of 'lives' the user has remaining."
   ],
   "metadata": {}
  },
  {
   "cell_type": "code",
   "execution_count": 65,
   "source": [
    "import random\r\n",
    "import hangmanAscii as hAscii\r\n",
    "import hangmanwords as hw\r\n",
    "word_list = hw\r\n",
    "\r\n",
    "print(hAscii.logo)\r\n",
    "chosen_word = random.choice(hw.word_list)\r\n",
    "print(\"Testing:\",chosen_word)\r\n",
    "\r\n",
    "display = []\r\n",
    "for _ in range(0, len(chosen_word)):\r\n",
    "    display+=\"_\"\r\n",
    "lives = 6\r\n",
    "endofgame = False\r\n",
    "while not endofgame:\r\n",
    "    guess = input(\"Guess a letter: \").lower()\r\n",
    "    for position in range(0,len(chosen_word)):\r\n",
    "        letter = chosen_word[position]\r\n",
    "        if letter == guess:\r\n",
    "            display[position] = letter          \r\n",
    "    if guess not in chosen_word:\r\n",
    "        lives -= 1\r\n",
    "        if lives == 0:\r\n",
    "            endofgame = True\r\n",
    "            print(\"You Loose\")        \r\n",
    "    print(f\"{' '.join(display)}\",end=' ')\r\n",
    "    \r\n",
    "    if \"_\" not in display:\r\n",
    "        endofgame = True\r\n",
    "        print(\"You win\")\r\n",
    "    print(hAscii.stages[lives])"
   ],
   "outputs": [
    {
     "output_type": "stream",
     "name": "stdout",
     "text": [
      " \n",
      " _                                             \n",
      "| |                                            \n",
      "| |__   __ _ _ __   __ _ _ __ ___   __ _ _ __  \n",
      "| '_ \\ / _` | '_ \\ / _` | '_ ` _ \\ / _` | '_ \\ \n",
      "| | | | (_| | | | | (_| | | | | | | (_| | | | |\n",
      "|_| |_|\\__,_|_| |_|\\__, |_| |_| |_|\\__,_|_| |_|\n",
      "                    __/ |                      \n",
      "                   |___/    \n",
      "Testing: bagpipes\n",
      "_ a _ _ _ _ _ _ \n",
      "  +---+\n",
      "  |   |\n",
      "      |\n",
      "      |\n",
      "      |\n",
      "      |\n",
      "=========\n",
      "\n",
      "b a _ _ _ _ _ _ \n",
      "  +---+\n",
      "  |   |\n",
      "      |\n",
      "      |\n",
      "      |\n",
      "      |\n",
      "=========\n",
      "\n",
      "b a g _ _ _ _ _ \n",
      "  +---+\n",
      "  |   |\n",
      "      |\n",
      "      |\n",
      "      |\n",
      "      |\n",
      "=========\n",
      "\n"
     ]
    },
    {
     "output_type": "error",
     "ename": "KeyboardInterrupt",
     "evalue": "Interrupted by user",
     "traceback": [
      "\u001b[1;31m---------------------------------------------------------------------------\u001b[0m",
      "\u001b[1;31mKeyboardInterrupt\u001b[0m                         Traceback (most recent call last)",
      "\u001b[1;32m<ipython-input-65-58416e8103b7>\u001b[0m in \u001b[0;36m<module>\u001b[1;34m\u001b[0m\n\u001b[0;32m     14\u001b[0m \u001b[0mendofgame\u001b[0m \u001b[1;33m=\u001b[0m \u001b[1;32mFalse\u001b[0m\u001b[1;33m\u001b[0m\u001b[1;33m\u001b[0m\u001b[0m\n\u001b[0;32m     15\u001b[0m \u001b[1;32mwhile\u001b[0m \u001b[1;32mnot\u001b[0m \u001b[0mendofgame\u001b[0m\u001b[1;33m:\u001b[0m\u001b[1;33m\u001b[0m\u001b[1;33m\u001b[0m\u001b[0m\n\u001b[1;32m---> 16\u001b[1;33m     \u001b[0mguess\u001b[0m \u001b[1;33m=\u001b[0m \u001b[0minput\u001b[0m\u001b[1;33m(\u001b[0m\u001b[1;34m\"Guess a letter: \"\u001b[0m\u001b[1;33m)\u001b[0m\u001b[1;33m.\u001b[0m\u001b[0mlower\u001b[0m\u001b[1;33m(\u001b[0m\u001b[1;33m)\u001b[0m\u001b[1;33m\u001b[0m\u001b[1;33m\u001b[0m\u001b[0m\n\u001b[0m\u001b[0;32m     17\u001b[0m     \u001b[1;32mfor\u001b[0m \u001b[0mposition\u001b[0m \u001b[1;32min\u001b[0m \u001b[0mrange\u001b[0m\u001b[1;33m(\u001b[0m\u001b[1;36m0\u001b[0m\u001b[1;33m,\u001b[0m\u001b[0mlen\u001b[0m\u001b[1;33m(\u001b[0m\u001b[0mchosen_word\u001b[0m\u001b[1;33m)\u001b[0m\u001b[1;33m)\u001b[0m\u001b[1;33m:\u001b[0m\u001b[1;33m\u001b[0m\u001b[1;33m\u001b[0m\u001b[0m\n\u001b[0;32m     18\u001b[0m         \u001b[0mletter\u001b[0m \u001b[1;33m=\u001b[0m \u001b[0mchosen_word\u001b[0m\u001b[1;33m[\u001b[0m\u001b[0mposition\u001b[0m\u001b[1;33m]\u001b[0m\u001b[1;33m\u001b[0m\u001b[1;33m\u001b[0m\u001b[0m\n",
      "\u001b[1;32mC:\\Anaconda\\lib\\site-packages\\ipykernel\\kernelbase.py\u001b[0m in \u001b[0;36mraw_input\u001b[1;34m(self, prompt)\u001b[0m\n\u001b[0;32m    858\u001b[0m                 \u001b[1;34m\"raw_input was called, but this frontend does not support input requests.\"\u001b[0m\u001b[1;33m\u001b[0m\u001b[1;33m\u001b[0m\u001b[0m\n\u001b[0;32m    859\u001b[0m             )\n\u001b[1;32m--> 860\u001b[1;33m         return self._input_request(str(prompt),\n\u001b[0m\u001b[0;32m    861\u001b[0m             \u001b[0mself\u001b[0m\u001b[1;33m.\u001b[0m\u001b[0m_parent_ident\u001b[0m\u001b[1;33m,\u001b[0m\u001b[1;33m\u001b[0m\u001b[1;33m\u001b[0m\u001b[0m\n\u001b[0;32m    862\u001b[0m             \u001b[0mself\u001b[0m\u001b[1;33m.\u001b[0m\u001b[0m_parent_header\u001b[0m\u001b[1;33m,\u001b[0m\u001b[1;33m\u001b[0m\u001b[1;33m\u001b[0m\u001b[0m\n",
      "\u001b[1;32mC:\\Anaconda\\lib\\site-packages\\ipykernel\\kernelbase.py\u001b[0m in \u001b[0;36m_input_request\u001b[1;34m(self, prompt, ident, parent, password)\u001b[0m\n\u001b[0;32m    902\u001b[0m             \u001b[1;32mexcept\u001b[0m \u001b[0mKeyboardInterrupt\u001b[0m\u001b[1;33m:\u001b[0m\u001b[1;33m\u001b[0m\u001b[1;33m\u001b[0m\u001b[0m\n\u001b[0;32m    903\u001b[0m                 \u001b[1;31m# re-raise KeyboardInterrupt, to truncate traceback\u001b[0m\u001b[1;33m\u001b[0m\u001b[1;33m\u001b[0m\u001b[1;33m\u001b[0m\u001b[0m\n\u001b[1;32m--> 904\u001b[1;33m                 \u001b[1;32mraise\u001b[0m \u001b[0mKeyboardInterrupt\u001b[0m\u001b[1;33m(\u001b[0m\u001b[1;34m\"Interrupted by user\"\u001b[0m\u001b[1;33m)\u001b[0m \u001b[1;32mfrom\u001b[0m \u001b[1;32mNone\u001b[0m\u001b[1;33m\u001b[0m\u001b[1;33m\u001b[0m\u001b[0m\n\u001b[0m\u001b[0;32m    905\u001b[0m             \u001b[1;32mexcept\u001b[0m \u001b[0mException\u001b[0m \u001b[1;32mas\u001b[0m \u001b[0me\u001b[0m\u001b[1;33m:\u001b[0m\u001b[1;33m\u001b[0m\u001b[1;33m\u001b[0m\u001b[0m\n\u001b[0;32m    906\u001b[0m                 \u001b[0mself\u001b[0m\u001b[1;33m.\u001b[0m\u001b[0mlog\u001b[0m\u001b[1;33m.\u001b[0m\u001b[0mwarning\u001b[0m\u001b[1;33m(\u001b[0m\u001b[1;34m\"Invalid Message:\"\u001b[0m\u001b[1;33m,\u001b[0m \u001b[0mexc_info\u001b[0m\u001b[1;33m=\u001b[0m\u001b[1;32mTrue\u001b[0m\u001b[1;33m)\u001b[0m\u001b[1;33m\u001b[0m\u001b[1;33m\u001b[0m\u001b[0m\n",
      "\u001b[1;31mKeyboardInterrupt\u001b[0m: Interrupted by user"
     ]
    }
   ],
   "metadata": {}
  }
 ],
 "metadata": {
  "kernelspec": {
   "name": "python3",
   "display_name": "Python 3.8.10 64-bit ('base': conda)"
  },
  "language_info": {
   "codemirror_mode": {
    "name": "ipython",
    "version": 3
   },
   "file_extension": ".py",
   "mimetype": "text/x-python",
   "name": "python",
   "nbconvert_exporter": "python",
   "pygments_lexer": "ipython3",
   "version": "3.8.10"
  },
  "toc": {
   "base_numbering": 1,
   "nav_menu": {},
   "number_sections": true,
   "sideBar": true,
   "skip_h1_title": false,
   "title_cell": "Table of Contents",
   "title_sidebar": "Contents",
   "toc_cell": false,
   "toc_position": {},
   "toc_section_display": true,
   "toc_window_display": false
  },
  "varInspector": {
   "cols": {
    "lenName": 16,
    "lenType": 16,
    "lenVar": 40
   },
   "kernels_config": {
    "python": {
     "delete_cmd_postfix": "",
     "delete_cmd_prefix": "del ",
     "library": "var_list.py",
     "varRefreshCmd": "print(var_dic_list())"
    },
    "r": {
     "delete_cmd_postfix": ") ",
     "delete_cmd_prefix": "rm(",
     "library": "var_list.r",
     "varRefreshCmd": "cat(var_dic_list()) "
    }
   },
   "types_to_exclude": [
    "module",
    "function",
    "builtin_function_or_method",
    "instance",
    "_Feature"
   ],
   "window_display": false
  },
  "interpreter": {
   "hash": "ed225720166559e7176d3793db16a2fd8d295f725007103b21ac3099d2a89ee8"
  }
 },
 "nbformat": 4,
 "nbformat_minor": 5
}