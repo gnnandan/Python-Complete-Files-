{
 "cells": [
  {
   "cell_type": "markdown",
   "id": "6d9798f3",
   "metadata": {},
   "source": [
    "### Day 2 Project Tip Calculator \n",
    "\n",
    "- #If the bill was $150.00, split between 5 people, with 12% tip. \n",
    "- #Each person should pay (150.00 / 5) * 1.12 = 33.6\n",
    "- #Format the result to 2 decimal places = 33.60\n",
    "- #Tip: There are 2 ways to round a number. You might have to do some Googling to solve this.💪\n",
    "- #HINT 1: https://www.google.com/search?q=how+to+round+number+to+2+decimal+places+python&oq=how+to+round+number+to+2+decimal\n",
    "- #HINT 2: https://www.kite.com/python/answers/how-to-limit-a-float-to-two-decimal-places-in-python"
   ]
  },
  {
   "cell_type": "markdown",
   "id": "4c12d48b",
   "metadata": {},
   "source": [
    "__actual output__\n",
    "\n",
    "- input\n",
    "    - What was the total bill? $150\n",
    "    - What percentage tip you will give? 10 , 12 or 15: 12\n",
    "    - How many peoples are there? 5\n",
    "    \n",
    "- output \n",
    "    - Each person should pay: $33.60"
   ]
  },
  {
   "cell_type": "code",
   "execution_count": 8,
   "id": "e82ba3c2",
   "metadata": {},
   "outputs": [
    {
     "name": "stdout",
     "output_type": "stream",
     "text": [
      "Welcome to tip calculator\n",
      "What was the total bill? $150\n",
      "What percentage tip you will give? 10 , 12 or 15:12\n",
      "How many peoples are there?5\n",
      "Each person should pay: $33.60\n"
     ]
    }
   ],
   "source": [
    "print(\"Welcome to tip calculator\")\n",
    "\n",
    "# taking bill as input\n",
    "bill = float(input(\"What was the total bill? $\"))\n",
    "\n",
    "# taking percentage tip  as input\n",
    "tip = int(input(\"What percentage tip you will give? 10 , 12 or 15:\"))\n",
    "\n",
    "# taking number of people  as input to share money\n",
    "people = int(input(\"How many peoples are there?\"))\n",
    "\n",
    "# taking tip and adding to actual bill\n",
    "money_pay = (tip / 100 * bill) + bill \n",
    "\n",
    "# dividing the money pay with total number of people \n",
    "money_pay = money_pay / people \n",
    "\n",
    "# now formatting the total bill to 2 decimal places \n",
    "money_pay = \"{:.2f}\".format(money_pay) #--------------------------->Important new feature \n",
    "\n",
    "# each one should pay\n",
    "print(f\"Each person should pay: ${money_pay}\")"
   ]
  }
 ],
 "metadata": {
  "kernelspec": {
   "display_name": "Python 3",
   "language": "python",
   "name": "python3"
  },
  "language_info": {
   "codemirror_mode": {
    "name": "ipython",
    "version": 3
   },
   "file_extension": ".py",
   "mimetype": "text/x-python",
   "name": "python",
   "nbconvert_exporter": "python",
   "pygments_lexer": "ipython3",
   "version": "3.8.10"
  },
  "toc": {
   "base_numbering": 1,
   "nav_menu": {},
   "number_sections": true,
   "sideBar": true,
   "skip_h1_title": false,
   "title_cell": "Table of Contents",
   "title_sidebar": "Contents",
   "toc_cell": false,
   "toc_position": {},
   "toc_section_display": true,
   "toc_window_display": false
  }
 },
 "nbformat": 4,
 "nbformat_minor": 5
}
