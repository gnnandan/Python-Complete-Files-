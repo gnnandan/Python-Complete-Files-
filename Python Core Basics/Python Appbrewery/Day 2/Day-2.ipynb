{
 "cells": [
  {
   "cell_type": "markdown",
   "id": "bac1f2ee",
   "metadata": {},
   "source": [
    "## Day 2"
   ]
  },
  {
   "cell_type": "markdown",
   "id": "c5713bad",
   "metadata": {},
   "source": [
    "### Data Types \n",
    "- string\n",
    "- int\n",
    "- float\n",
    "- boolean "
   ]
  },
  {
   "cell_type": "code",
   "execution_count": 9,
   "id": "5f1d2065",
   "metadata": {},
   "outputs": [
    {
     "name": "stdout",
     "output_type": "stream",
     "text": [
      "String are: This is string This is string 1 1.1\n",
      "A\n"
     ]
    }
   ],
   "source": [
    "ex0=\"This is string\"\n",
    "ex1='This is string'\n",
    "ex2='1'\n",
    "ex3='1.1'\n",
    "print(\"String are:\",ex0,ex1,ex2,ex3)\n",
    "print(\"Accessing\"[0])"
   ]
  },
  {
   "cell_type": "code",
   "execution_count": 11,
   "id": "d6454dea",
   "metadata": {},
   "outputs": [
    {
     "name": "stdout",
     "output_type": "stream",
     "text": [
      "<class 'float'>\n"
     ]
    }
   ],
   "source": [
    "a=734_529.678\n",
    "print(type(a))"
   ]
  },
  {
   "cell_type": "markdown",
   "id": "f6c2247f",
   "metadata": {},
   "source": [
    "### Type Conversion"
   ]
  },
  {
   "cell_type": "code",
   "execution_count": 22,
   "id": "d2c4a078",
   "metadata": {},
   "outputs": [
    {
     "name": "stdout",
     "output_type": "stream",
     "text": [
      "Enter your name: Nandan\n",
      "<class 'int'>\n",
      "Your name has 6 of characters.\n"
     ]
    }
   ],
   "source": [
    "num_char = (len(input(\"Enter your name: \")))\n",
    "print(type(num_char))\n",
    "\n",
    "# num_char = type(len(input(\"Enter your name: \"))) # check with this\n",
    "# print(\"Your name has \" + num_char + \" of characters.\") # check for this and analyze the output\n",
    "\n",
    "print(\"Your name has \" + str(num_char) +\n",
    "      \" of characters.\")  # this is type conversion"
   ]
  },
  {
   "cell_type": "code",
   "execution_count": 33,
   "id": "c450ff5e",
   "metadata": {},
   "outputs": [
    {
     "name": "stdout",
     "output_type": "stream",
     "text": [
      "Type check of a <class 'int'>\n",
      "<->\n",
      "Type check of a <class 'str'>\n",
      "<->\n",
      "Type check of a <class 'float'>\n",
      "------------\n",
      "10100.0\n",
      "1001000\n"
     ]
    }
   ],
   "source": [
    "a = 123\n",
    "print(f\"Type check of a {type(a)}\")\n",
    "print(\"<->\")\n",
    "\n",
    "a = str(a)\n",
    "print(f\"Type check of a {type(a)}\")\n",
    "print(\"<->\")\n",
    "\n",
    "a = float(a)\n",
    "print(f\"Type check of a {type(a)}\")\n",
    "print(\"------------\")\n",
    "print(100 + float(\"10000\"))\n",
    "print(\"100\" + str(1000))"
   ]
  },
  {
   "cell_type": "markdown",
   "id": "de3acfda",
   "metadata": {},
   "source": [
    "#### Interactive coding challenge Datatype and type conversions"
   ]
  },
  {
   "cell_type": "markdown",
   "id": "b6e5d28f",
   "metadata": {},
   "source": [
    "<code>\n",
    "# Example Input\n",
    "```\n",
    "39\n",
    "```\n",
    "# Example Output\n",
    "3 + 9 = 12\n",
    "```\n",
    "12\n",
    "</code>\n",
    "\n",
    "<span class=\"mark\">__Hint__</span>\n",
    "1. Try to find out the data type of two_digit_number.\n",
    "2. Think about what you learnt about subscripting.\n",
    "3. Think about type conversion."
   ]
  },
  {
   "cell_type": "markdown",
   "id": "59ff8042",
   "metadata": {},
   "source": [
    "##### My Method"
   ]
  },
  {
   "cell_type": "code",
   "execution_count": 39,
   "id": "fbaa7265",
   "metadata": {},
   "outputs": [
    {
     "name": "stdout",
     "output_type": "stream",
     "text": [
      "Type a two digit number: 123\n",
      "<class 'str'>\n",
      "3 <class 'int'>\n"
     ]
    }
   ],
   "source": [
    "num=input(\"Type a two digit number: \")\n",
    "print(type(num))\n",
    "one=int(num[0])\n",
    "two=int(num[1])\n",
    "print(one+two,type(one+two))"
   ]
  },
  {
   "cell_type": "markdown",
   "id": "0bd64d6a",
   "metadata": {},
   "source": [
    "### Mathematical Operator\n",
    "\n",
    "__order of priority__\n",
    "\n",
    "Shortcut: <span class=\"mark\">__PEMDAS__</span>\n",
    "- Parentheses >> ()\n",
    "- Exponential >> **\n",
    "- Multiplication >> *\n",
    "- Division >> /\n",
    "- Addition >> +\n",
    "- Subtraction >> -"
   ]
  },
  {
   "cell_type": "raw",
   "id": "f66101ec",
   "metadata": {},
   "source": [
    "  order   operation flow\n",
    "- ()    | left to right \n",
    "- **    | right to left \n",
    "- * /   | left to right \n",
    "- + -   | leleft to right "
   ]
  },
  {
   "cell_type": "raw",
   "id": "db8d5880",
   "metadata": {},
   "source": [
    "- + : add\n",
    "- - : sub\n",
    "- * : mul\n",
    "- / : div\n",
    "- % : mod\n",
    "- ** : exponential\n",
    "- // : floor division"
   ]
  },
  {
   "cell_type": "code",
   "execution_count": 40,
   "id": "dc72caa5",
   "metadata": {},
   "outputs": [
    {
     "name": "stdout",
     "output_type": "stream",
     "text": [
      "Enter a:10\n",
      "Enter b:20\n",
      "30\n",
      "-10\n",
      "200\n",
      "0.5\n",
      "10\n",
      "100000000000000000000\n",
      "0\n"
     ]
    }
   ],
   "source": [
    "a = int(input(\"Enter a:\"))\n",
    "b = int(input(\"Enter b:\"))\n",
    "print(a + b)\n",
    "print(a - b)\n",
    "print(a * b)\n",
    "print(a / b)\n",
    "print(a % b)\n",
    "print(a ** b)\n",
    "print(a // b)"
   ]
  },
  {
   "cell_type": "markdown",
   "id": "9a3c5a65",
   "metadata": {},
   "source": [
    "#### <span class=\"mark\">BMI Calculator</span> \n",
    "\n",
    "__Hint__\n",
    "- Check the data type of the inputs.\n",
    "- Try to use the exponent operator in your code.\n",
    "- Remember PEMDAS.\n",
    "- Remember to convert your result to a whole number (int)."
   ]
  },
  {
   "cell_type": "markdown",
   "id": "11d992f4",
   "metadata": {},
   "source": [
    "<span class=\"mark\">__actual output__</span>\n",
    "\n",
    "<code>\n",
    "80 ÷ 1.75 x 1.75 = 26.122448979591837 >> 26\n",
    "    \n",
    "</code>"
   ]
  },
  {
   "cell_type": "code",
   "execution_count": 4,
   "id": "6f5c93de",
   "metadata": {
    "scrolled": true
   },
   "outputs": [
    {
     "name": "stdout",
     "output_type": "stream",
     "text": [
      "enter your height in m: 1.75\n",
      "enter your weight in kg: 80\n",
      "26\n"
     ]
    }
   ],
   "source": [
    "height = input(\"enter your height in m: \")\n",
    "weight = input(\"enter your weight in kg: \")\n",
    "height = float(height)\n",
    "weight = float(weight)\n",
    "bmi = weight / (height ** 2)\n",
    "bmi = int(bmi)\n",
    "print(bmi)"
   ]
  },
  {
   "cell_type": "markdown",
   "id": "57f4644f",
   "metadata": {},
   "source": [
    "### Number Manipulation and F Strings\n"
   ]
  },
  {
   "cell_type": "markdown",
   "id": "02a56155",
   "metadata": {},
   "source": [
    "#### Number Manipulation "
   ]
  },
  {
   "cell_type": "code",
   "execution_count": 10,
   "id": "136d7fa0",
   "metadata": {},
   "outputs": [
    {
     "name": "stdout",
     "output_type": "stream",
     "text": [
      "2.6666666666666665\n",
      "Rounding the decimal place: 3\n",
      "Rounding the decimal place by specifying the number of decimal points: 2.67\n",
      "--------\n",
      "2\n"
     ]
    }
   ],
   "source": [
    "print(8 / 3)\n",
    "\n",
    "# rounding the numbers\n",
    "print(\"Rounding the decimal place:\",round(8 / 3))\n",
    "print(\"Rounding the decimal place by specifying the number of decimal points:\",round(8 / 3 , 2))\n",
    "\n",
    "print(\"--------\")\n",
    "# rounding using the float\n",
    "print(8 // 3)"
   ]
  },
  {
   "cell_type": "markdown",
   "id": "78826ef0",
   "metadata": {},
   "source": [
    "#### F- String\n",
    "- __use like this__ \n",
    "f\"statement {datatype}\""
   ]
  },
  {
   "cell_type": "code",
   "execution_count": 13,
   "id": "f0be1f94",
   "metadata": {},
   "outputs": [
    {
     "name": "stdout",
     "output_type": "stream",
     "text": [
      "Enter the Name:Nandan\n",
      "Enter the age:21\n",
      "Enter the score:67\n",
      "My name is Nandan and age is 21 and score is 67.0 ALL The Best!\n"
     ]
    }
   ],
   "source": [
    "# F String \n",
    "name=str(input(\"Enter the Name:\"))\n",
    "age=int(input(\"Enter the age:\"))\n",
    "score=float(input(\"Enter the score:\"))\n",
    "\n",
    "# format is used to integrate the diffrent datatype in a single sentence use \n",
    "print(f\"My name is {name} and age is {age} and score is {score} ALL The Best!\")"
   ]
  },
  {
   "cell_type": "markdown",
   "id": "8083c41c",
   "metadata": {},
   "source": [
    "#### <span class=\"mark\"> Life in Weeks</span> \n",
    "\n",
    "__actual output__\n",
    "\n",
    "- <span class=\"mark\">__input__</span>\n",
    "   - 56\n",
    "- <span class=\"mark\">__output__</span>\n",
    "   - You have 16060 days, 2288 weeks, and 528 months left. So leave in *Humanity*"
   ]
  },
  {
   "cell_type": "code",
   "execution_count": 6,
   "id": "b0d78f0a",
   "metadata": {},
   "outputs": [
    {
     "name": "stdout",
     "output_type": "stream",
     "text": [
      "Please enter your age: 56\n",
      "You have 16060 days, 2288 weeks, and 528 months left. So leave in *Humanity*\n"
     ]
    }
   ],
   "source": [
    "age = input(\"Please enter your age: \")\n",
    "age = int(age)\n",
    "\n",
    "# differentiating the remaining age \n",
    "years_remaining = 100 - age\n",
    "\n",
    "# calculating the remaining days \n",
    "days_remaining = years_remaining * 365\n",
    "\n",
    "# calculating the remaining weeks\n",
    "weeks_remaining = years_remaining * 52\n",
    "\n",
    "# calculating the remaining months\n",
    "months_remaining = years_remaining * 12\n",
    "\n",
    "prompt= f\"You have {days_remaining} days, {weeks_remaining} weeks, and {months_remaining} months left. So leave in *Humanity*\"\n",
    "\n",
    "print(prompt)"
   ]
  }
 ],
 "metadata": {
  "kernelspec": {
   "display_name": "Python 3",
   "language": "python",
   "name": "python3"
  },
  "language_info": {
   "codemirror_mode": {
    "name": "ipython",
    "version": 3
   },
   "file_extension": ".py",
   "mimetype": "text/x-python",
   "name": "python",
   "nbconvert_exporter": "python",
   "pygments_lexer": "ipython3",
   "version": "3.8.10"
  },
  "toc": {
   "base_numbering": 1,
   "nav_menu": {},
   "number_sections": true,
   "sideBar": true,
   "skip_h1_title": false,
   "title_cell": "Table of Contents",
   "title_sidebar": "Contents",
   "toc_cell": false,
   "toc_position": {
    "height": "calc(100% - 180px)",
    "left": "10px",
    "top": "150px",
    "width": "256px"
   },
   "toc_section_display": true,
   "toc_window_display": true
  }
 },
 "nbformat": 4,
 "nbformat_minor": 5
}
