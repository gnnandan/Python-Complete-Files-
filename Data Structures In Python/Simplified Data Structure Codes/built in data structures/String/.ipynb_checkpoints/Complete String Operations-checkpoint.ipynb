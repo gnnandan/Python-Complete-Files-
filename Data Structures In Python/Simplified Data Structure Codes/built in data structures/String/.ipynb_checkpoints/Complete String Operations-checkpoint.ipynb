{
 "cells": [
  {
   "cell_type": "markdown",
   "id": "2fbad1a3",
   "metadata": {},
   "source": [
    "## String"
   ]
  },
  {
   "cell_type": "raw",
   "id": "6ff314de",
   "metadata": {},
   "source": [
    "checking the built in methods for string in python"
   ]
  },
  {
   "cell_type": "markdown",
   "id": "c264b8a8",
   "metadata": {},
   "source": [
    "### checking built in methods"
   ]
  },
  {
   "cell_type": "code",
   "execution_count": 1,
   "id": "74724e67",
   "metadata": {},
   "outputs": [
    {
     "name": "stdout",
     "output_type": "stream",
     "text": [
      "['__add__', '__class__', '__contains__', '__delattr__', '__dir__', '__doc__', '__eq__', '__format__', '__ge__', '__getattribute__', '__getitem__', '__getnewargs__', '__gt__', '__hash__', '__init__', '__init_subclass__', '__iter__', '__le__', '__len__', '__lt__', '__mod__', '__mul__', '__ne__', '__new__', '__reduce__', '__reduce_ex__', '__repr__', '__rmod__', '__rmul__', '__setattr__', '__sizeof__', '__str__', '__subclasshook__', 'capitalize', 'casefold', 'center', 'count', 'encode', 'endswith', 'expandtabs', 'find', 'format', 'format_map', 'index', 'isalnum', 'isalpha', 'isascii', 'isdecimal', 'isdigit', 'isidentifier', 'islower', 'isnumeric', 'isprintable', 'isspace', 'istitle', 'isupper', 'join', 'ljust', 'lower', 'lstrip', 'maketrans', 'partition', 'replace', 'rfind', 'rindex', 'rjust', 'rpartition', 'rsplit', 'rstrip', 'split', 'splitlines', 'startswith', 'strip', 'swapcase', 'title', 'translate', 'upper', 'zfill']\n"
     ]
    }
   ],
   "source": [
    "print(dir(str))"
   ]
  },
  {
   "cell_type": "markdown",
   "id": "3725fe0f",
   "metadata": {},
   "source": [
    "### Creating a string"
   ]
  },
  {
   "cell_type": "code",
   "execution_count": 2,
   "id": "616ea042",
   "metadata": {},
   "outputs": [],
   "source": [
    "str=\"Humanity should be the reloigion of humans\""
   ]
  },
  {
   "cell_type": "markdown",
   "id": "cfcf7495",
   "metadata": {},
   "source": [
    "### String methods "
   ]
  },
  {
   "cell_type": "markdown",
   "id": "b3c83c48",
   "metadata": {},
   "source": [
    "#### capitalize()\n",
    "1. description: Converts the __first character to upper case__\n",
    "2. syntax: __string.capitalize()__"
   ]
  },
  {
   "cell_type": "code",
   "execution_count": 3,
   "id": "a9c32305",
   "metadata": {},
   "outputs": [
    {
     "name": "stdout",
     "output_type": "stream",
     "text": [
      "Humanity should be the reloigion of humans\n"
     ]
    }
   ],
   "source": [
    "print(str.capitalize())"
   ]
  },
  {
   "cell_type": "markdown",
   "id": "920d7065",
   "metadata": {},
   "source": [
    "#### casefold()\n",
    "1. description: Converts __string into lower case__\n",
    "2. syntax: __string.casefold()__"
   ]
  },
  {
   "cell_type": "code",
   "execution_count": 4,
   "id": "e7bf0f93",
   "metadata": {
    "scrolled": true
   },
   "outputs": [
    {
     "name": "stdout",
     "output_type": "stream",
     "text": [
      "humanity should be the reloigion of humans\n"
     ]
    }
   ],
   "source": [
    "str=\"Humanity should be the reloigion of humans\"\n",
    "print(str.casefold())"
   ]
  },
  {
   "cell_type": "markdown",
   "id": "6b62abc5",
   "metadata": {},
   "source": [
    "#### center()\n",
    "1. description: Returns a __centered string__\n",
    "2. syntax: __string.center(length, character)__"
   ]
  },
  {
   "cell_type": "code",
   "execution_count": 7,
   "id": "73f32093",
   "metadata": {},
   "outputs": [
    {
     "name": "stdout",
     "output_type": "stream",
     "text": [
      "#############################Humanity should be the reloigion of humans#############################\n"
     ]
    }
   ],
   "source": [
    "str=\"Humanity should be the reloigion of humans\"\n",
    "print(str.center(100,\"#\"))"
   ]
  },
  {
   "cell_type": "markdown",
   "id": "22472a3e",
   "metadata": {},
   "source": [
    "#### count()\n",
    "1. description: __Returns the number of times a specified value__ occurs in a string\n",
    "2. syntax: __string.count(value, start, end)__"
   ]
  },
  {
   "cell_type": "code",
   "execution_count": 10,
   "id": "703d76a5",
   "metadata": {},
   "outputs": [
    {
     "name": "stdout",
     "output_type": "stream",
     "text": [
      "counting the character 2\n",
      "counting the character from the range 1\n"
     ]
    }
   ],
   "source": [
    "str=\"Humanity should be the reloigion of humans\"\n",
    "print(\"counting the character\",str.count('a'))\n",
    "print(\"counting the character from the range\",str.count('a',0,10))"
   ]
  },
  {
   "cell_type": "markdown",
   "id": "d101e6eb",
   "metadata": {},
   "source": [
    "#### encode()\n",
    "1. description: Returns an __encoded version__ of the string\n",
    "2. syntax: __string.encode(encoding=encoding, errors=errors)__\n",
    "3. table \n",
    "|errors|description|\n",
    "|---|---|\n",
    "|__'backslashreplace'__|uses a backslash instead of the characterthat could not be encoded|\n",
    "|__'ignore'__|ignores the characters that cannot be encoded|\n",
    "|__namereplace__|replaces the character with a text explaining the character|\n",
    "|__strict__|Default, raises an error on failure|\n",
    "|__replace__|replaces the character with a questionmark|\n",
    "|__xmlcharrefreplace__|replaces the character with an xml character|"
   ]
  },
  {
   "cell_type": "code",
   "execution_count": 18,
   "id": "f8db60af",
   "metadata": {},
   "outputs": [
    {
     "name": "stdout",
     "output_type": "stream",
     "text": [
      "encoding character\n",
      "b'My name is St\\\\xe5le123'\n",
      "b'My name is Stle123'\n",
      "b'My name is St\\\\N{LATIN SMALL LETTER A WITH RING ABOVE}le123'\n",
      "b'My name is St?le123'\n",
      "b'My name is St&#229;le123'\n"
     ]
    }
   ],
   "source": [
    "str=\"My name is Ståle123\"\n",
    "print(\"encoding character\")\n",
    "print(str.encode(encoding=\"ascii\",errors=\"backslashreplace\"))\n",
    "print(str.encode(encoding=\"ascii\",errors=\"ignore\"))\n",
    "print(str.encode(encoding=\"ascii\",errors=\"namereplace\"))\n",
    "print(str.encode(encoding=\"ascii\",errors=\"replace\"))\n",
    "print(str.encode(encoding=\"ascii\",errors=\"xmlcharrefreplace\"))"
   ]
  },
  {
   "cell_type": "markdown",
   "id": "1f9ddd1a",
   "metadata": {},
   "source": [
    "#### endswidth()\n",
    "1. description: Returns __true__ if the string ends with the specified value\n",
    "2. syntax: __string.endswith(value, start, end)__"
   ]
  },
  {
   "cell_type": "code",
   "execution_count": 22,
   "id": "6c02aa22",
   "metadata": {},
   "outputs": [
    {
     "name": "stdout",
     "output_type": "stream",
     "text": [
      "check endswith for one character: False\n",
      "check endswith for word: True\n",
      "check endswith for in range: False\n"
     ]
    }
   ],
   "source": [
    "str=\"Humanity should be the reloigion of humans\"\n",
    "print(\"check endswith for one character:\",str.endswith('a'))\n",
    "print(\"check endswith for word:\",str.endswith('humans'))\n",
    "print(\"check endswith for in range:\",str.endswith('humans',0,10))"
   ]
  },
  {
   "cell_type": "markdown",
   "id": "455a9b54",
   "metadata": {},
   "source": [
    "#### startswidth()\n",
    "1. description: Returns __true__ if the string starts with the specified value\n",
    "2. syntax: __string.startswith(value, start, end)__"
   ]
  },
  {
   "cell_type": "code",
   "execution_count": 25,
   "id": "f60f55b8",
   "metadata": {},
   "outputs": [
    {
     "name": "stdout",
     "output_type": "stream",
     "text": [
      "check startswith for one character: False\n",
      "check startswith for word: True\n",
      "check startswith for in range: True\n"
     ]
    }
   ],
   "source": [
    "str=\"Humanity should be the reloigion of humans\"\n",
    "print(\"check startswith for one character:\",str.startswith('a'))\n",
    "print(\"check startswith for word:\",str.startswith('Humanity'))\n",
    "print(\"check startswith for in range:\",str.startswith('Humanity',0,10))"
   ]
  },
  {
   "cell_type": "markdown",
   "id": "5329083b",
   "metadata": {},
   "source": [
    "#### boolean methods\n",
    "##### isalnum()\n",
    "description: Returns True if all characters in the string are alphanumeric\n",
    "\n",
    "##### isalpha()\n",
    "description: Returns True if all characters in the string are in the alphabet\n",
    "\n",
    "##### isdecimal()\n",
    "description: Returns True if all characters in the string are in the decimal\n",
    "\n",
    "##### isdigit()\n",
    "description:Returns True if all characters in the string are digits\n",
    "\n",
    "##### isidentifier()\n",
    "description: Returns True if the string is an identifier\n",
    "\n",
    "##### islower()\n",
    "description: Returns True if all characters in the string are lower case\n",
    "\n",
    "##### isnumeric()\n",
    "description: Returns True if all characters in the string are numeric\n",
    "\n",
    "##### isprintable()\n",
    "description: Returns True if all characters in the string are printable\n",
    "\n",
    "##### isspace()\n",
    "description: Returns True if all characters in the string are whitespaces\n",
    "\n",
    "##### istitle()\n",
    "description: Returns True if the string follows the rules of a title\n",
    "\n",
    "##### isupper()\n",
    "description: Returns True if all characters in the string are upper case"
   ]
  },
  {
   "cell_type": "code",
   "execution_count": 49,
   "id": "046dfc98",
   "metadata": {
    "collapsed": true
   },
   "outputs": [
    {
     "name": "stdout",
     "output_type": "stream",
     "text": [
      "check if the string has only alphanumeric: 'True'\n",
      "\n",
      "check if the string has only alphabet: 'True'||'False'\n",
      "\n",
      "check if the string has only deciaml: 'False'||'True'\n",
      "\n",
      "check if the string has only digit: 'False'||'True'\n",
      "\n",
      "check if the string is identifier: 'True'||'False'\n",
      "\n",
      "check if the string is in lowercase: 'False'||'False'\n",
      "\n",
      "check if the string is in uppercase: 'False'||'False'\n",
      "\n",
      "check if the string are numeric: 'False'||'True'\n",
      "\n",
      "check if the string follows title format: 'True'||'False'\n",
      "\n",
      "check if the string are printable: 'True'||'True'\n",
      "\n",
      "check if the string are having whitespace: 'False'||'False'\n",
      "\n"
     ]
    }
   ],
   "source": [
    "str1=\"Humanityshouldbethereloigionofhumans\"\n",
    "str2=\"Humanity shouldbethereloigionofhumans\"\n",
    "str3=\"123456\"\n",
    "print(f\"check if the string has only alphanumeric: '{str1.isalnum()}'\")\n",
    "print()\n",
    "\n",
    "print(f\"check if the string has only alphabet: '{str1.isalpha()}'||'{str2.isalpha()}'\")\n",
    "print()\n",
    "\n",
    "print(f\"check if the string has only deciaml: '{str1.isdecimal()}'||'{str3.isdecimal()}'\")\n",
    "print()\n",
    "\n",
    "print(f\"check if the string has only digit: '{str1.isdigit()}'||'{str3.isdigit()}'\")\n",
    "print()\n",
    "\n",
    "print(f\"check if the string is identifier: '{str1.isidentifier()}'||'{str3.isidentifier()}'\")\n",
    "print()\n",
    "\n",
    "print(f\"check if the string is in lowercase: '{str1.islower()}'||'{str3.islower()}'\")\n",
    "print()\n",
    "\n",
    "print(f\"check if the string is in uppercase: '{str1.isupper()}'||'{str3.isupper()}'\")\n",
    "print()\n",
    "\n",
    "print(f\"check if the string are numeric: '{str1.isnumeric()}'||'{str3.isnumeric()}'\")\n",
    "print()\n",
    "\n",
    "print(f\"check if the string follows title format: '{str1.istitle()}'||'{str3.istitle()}'\")\n",
    "print()\n",
    "\n",
    "print(f\"check if the string are printable: '{str1.isprintable()}'||'{str3.isprintable()}'\")\n",
    "print()\n",
    "\n",
    "print(f\"check if the string are having whitespace: '{str1.isspace()}'||'{str3.isspace()}'\")\n",
    "print()\n"
   ]
  },
  {
   "cell_type": "markdown",
   "id": "0c414954",
   "metadata": {},
   "source": [
    "#### find()\n",
    "1. description: Searches the __string for a specified value and returns the position of where it was found__\n",
    "2. syntax: __string.find(value, start, end)__"
   ]
  },
  {
   "cell_type": "code",
   "execution_count": 7,
   "id": "ce6d0d75",
   "metadata": {},
   "outputs": [
    {
     "name": "stdout",
     "output_type": "stream",
     "text": [
      "find for one character: 3\n",
      "find for word: 36\n",
      "find for word/character in range: 9\n"
     ]
    }
   ],
   "source": [
    "str1=\"Humanity should be the reloigion of humans\"\n",
    "print(\"find for one character:\",str1.find('a'))\n",
    "print(\"find for word:\",str1.find('humans'))\n",
    "print(\"find for word/character in range:\",str1.find('should',5,30))"
   ]
  },
  {
   "cell_type": "markdown",
   "id": "ae25210c",
   "metadata": {},
   "source": [
    "#### format()\n",
    "1. description:formats the specified value(s) and __insert them inside the string's placeholder__\n",
    "2. syntax: __string.format(value1, value2...)__"
   ]
  },
  {
   "cell_type": "code",
   "execution_count": 9,
   "id": "759d809e",
   "metadata": {},
   "outputs": [
    {
     "name": "stdout",
     "output_type": "stream",
     "text": [
      "Enter the name here!Nandan G N\n",
      "My name is Nandan G N\n",
      "My name is Nandan G N\n"
     ]
    }
   ],
   "source": [
    "name=str(input(\"Enter the name here!\"))\n",
    "print(\"My name is {}\".format(name))\n",
    "print(f\"My name is {name}\")"
   ]
  },
  {
   "cell_type": "markdown",
   "id": "dd235f3a",
   "metadata": {},
   "source": [
    "#### join()\n",
    "1. description: takes all items in an __iterable and joins them into one string__.\n",
    "2. syntax: __string.join(iterable)__"
   ]
  },
  {
   "cell_type": "code",
   "execution_count": 13,
   "id": "43ef732b",
   "metadata": {},
   "outputs": [
    {
     "name": "stdout",
     "output_type": "stream",
     "text": [
      "After joining i GaneshNandanpavanNandanyashas\n"
     ]
    }
   ],
   "source": [
    "friends=('Ganesh','pavan','yashas')\n",
    "i=\"Nandan\".join(friends)\n",
    "print(\"After joining i\",i)"
   ]
  }
 ],
 "metadata": {
  "kernelspec": {
   "display_name": "Python 3",
   "language": "python",
   "name": "python3"
  },
  "language_info": {
   "codemirror_mode": {
    "name": "ipython",
    "version": 3
   },
   "file_extension": ".py",
   "mimetype": "text/x-python",
   "name": "python",
   "nbconvert_exporter": "python",
   "pygments_lexer": "ipython3",
   "version": "3.8.10"
  },
  "toc": {
   "base_numbering": 1,
   "nav_menu": {},
   "number_sections": true,
   "sideBar": true,
   "skip_h1_title": false,
   "title_cell": "Table of Contents",
   "title_sidebar": "Contents",
   "toc_cell": false,
   "toc_position": {
    "height": "calc(100% - 180px)",
    "left": "10px",
    "top": "150px",
    "width": "291.792px"
   },
   "toc_section_display": true,
   "toc_window_display": false
  }
 },
 "nbformat": 4,
 "nbformat_minor": 5
}
