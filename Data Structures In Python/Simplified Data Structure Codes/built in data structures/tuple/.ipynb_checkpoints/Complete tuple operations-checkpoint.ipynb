{
 "cells": [
  {
   "cell_type": "markdown",
   "id": "080a19b8",
   "metadata": {},
   "source": [
    "## tuples\n",
    "tuple()\n",
    "- built-in data structure\n",
    "- immutble (not modifiable)\n",
    "- unordered elemets\n",
    "- seperated by comma(,)\n",
    "- Tuples can be thought of as read-only lists.\n"
   ]
  },
  {
   "cell_type": "markdown",
   "id": "0e0cb6e8",
   "metadata": {},
   "source": [
    "### Built-in methods of tuble\n",
    "use dir(tuple)"
   ]
  },
  {
   "cell_type": "code",
   "execution_count": 2,
   "id": "8244e371",
   "metadata": {},
   "outputs": [
    {
     "name": "stdout",
     "output_type": "stream",
     "text": [
      "['__add__', '__class__', '__contains__', '__delattr__', '__dir__', '__doc__', '__eq__', '__format__', '__ge__', '__getattribute__', '__getitem__', '__getnewargs__', '__gt__', '__hash__', '__init__', '__init_subclass__', '__iter__', '__le__', '__len__', '__lt__', '__mul__', '__ne__', '__new__', '__reduce__', '__reduce_ex__', '__repr__', '__rmul__', '__setattr__', '__sizeof__', '__str__', '__subclasshook__', 'count', 'index']\n"
     ]
    }
   ],
   "source": [
    "print(dir(tuple))"
   ]
  },
  {
   "cell_type": "markdown",
   "id": "8c668711",
   "metadata": {},
   "source": [
    "### creating a tuple"
   ]
  },
  {
   "cell_type": "code",
   "execution_count": 8,
   "id": "4a0f9008",
   "metadata": {},
   "outputs": [
    {
     "name": "stdout",
     "output_type": "stream",
     "text": [
      "() and <class 'tuple'> is a empty tuple\n",
      "\n",
      "This is also a tuple (1, 1.1, '2', 'Python') and type is <class 'tuple'>\n",
      "\n",
      "Tuple is ('Hello', 'Welcome', 'To', 'Tuple')\n"
     ]
    }
   ],
   "source": [
    "tup=()\n",
    "print(f\"{tup} and {type(tup)} is a empty tuple\")\n",
    "\n",
    "print()\n",
    "tup=1,1.1,'2',\"Python\" #tuple automatically place paranthesis if not given means\n",
    "print(f\"This is also a tuple {tup} and type is {type(tup)}\")\n",
    "\n",
    "print()\n",
    "tup=(\"Hello\",\"Welcome\",\"To\",\"Tuple\")\n",
    "print(f\"Tuple data is {tup}\")"
   ]
  },
  {
   "cell_type": "markdown",
   "id": "ae2552c0",
   "metadata": {},
   "source": [
    "### accessing a tuple\n",
    "\n",
    "either\n",
    "- tup[index_position]\n",
    "or\n",
    "- tup.index(element)\n",
    "\n",
    "#### index()\n",
    "\n",
    "- __description__: Return first index of value.\n",
    "- __syntax__: tup.index(value, start, stop)"
   ]
  },
  {
   "cell_type": "code",
   "execution_count": 22,
   "id": "fd49c36d",
   "metadata": {},
   "outputs": [
    {
     "name": "stdout",
     "output_type": "stream",
     "text": [
      "accessing 0th element: 'Hello'\n",
      "accessing last element: 'Tuple'\n",
      "we can also find the index of tuple using '2'\n"
     ]
    }
   ],
   "source": [
    "#      0        1       2     3 >> Positive index positions \n",
    "#       -4      -3      -2    -1 >> Negative index positions\n",
    "tup=(\"Hello\",\"Welcome\",\"To\",\"Tuple\")\n",
    "print(f\"accessing 0th element: '{tup[0]}'\")\n",
    "print(f\"accessing last element: '{tup[-1]}'\")\n",
    "\n",
    "indx=tup.index(\"To\")\n",
    "print(f\"we can also find the index of tuple using '{indx}'\")"
   ]
  },
  {
   "cell_type": "markdown",
   "id": "f6490e96",
   "metadata": {},
   "source": [
    "### Counting tuple elements \n",
    "\n",
    "#### count()\n",
    "\n",
    "- __description__: Return first index of value.\n",
    "- __syntax__: tup.index(value, start, stop)"
   ]
  },
  {
   "cell_type": "code",
   "execution_count": 33,
   "id": "87fe931b",
   "metadata": {},
   "outputs": [
    {
     "name": "stdout",
     "output_type": "stream",
     "text": [
      "counting integer 1 so '4' times repeated\n",
      "counting integer 8 so '3' times repeated\n",
      "\n",
      "counting string a so '2' times repeated\n",
      "counting string b so '1' times repeated\n",
      "\n",
      "Counting the element for number of times repeated in sentance\n",
      "counting string a in sentance so '89' times repeated\n"
     ]
    }
   ],
   "source": [
    "tup_int=(1,2,3,1,1,12,1,4,4,5,7,8,8,8,9)\n",
    "\n",
    "tup_str=('a','b','a','c','d','f','g')\n",
    "\n",
    "print(f\"counting integer {1} so '{tup_int.count(1)}' times repeated\")\n",
    "print(f\"counting integer {8} so '{tup_int.count(8)}' times repeated\")\n",
    "\n",
    "print()\n",
    "print(f\"counting string {'a'} so '{tup_str.count('a')}' times repeated\")\n",
    "print(f\"counting string {'b'} so '{tup_str.count('b')}' times repeated\")\n",
    "\n",
    "print()\n",
    "\n",
    "print(\"Counting the element for number of times repeated in sentance\")\n",
    "\n",
    "\n",
    "sentance=(\"\"\"Lorem ipsum dolor sit amet, \n",
    "onsectetur adipiscing elit. Ut a ligula finibus, \n",
    "accumsan urna dictum, vehicula ligula. Maecenas sit amet lacus euismod leo vehicula luctus. \n",
    "Suspendisse id purus in leo sagittis rhoncus. Duis quam ante, auctor ut lacus id, \n",
    "scelerisque vestibulum augue. Aliquam aliquet nec purus non luctus. Morbi pellentesque ut nisi eget pulvinar. \n",
    "Donec non risus tortor. Aliquam et lorem sed nibh facilisis vehicula et sit amet nisl.\n",
    "Quisque at urna non turpis fringilla iaculis vitae et sapien. Aliquam sit amet bibendum sapien. \n",
    "Vestibulum maximus finibus ante, ac vehicula nulla vehicula eget.\n",
    "Etiam auctor est eget augue vulputate tincidunt. Aenean bibendum est ligula, \n",
    "ullamcorper euismod nisi accumsan sed. Donec gravida bibendum urna quis pharetra. \n",
    "Proin ultrices nibh nisi, eu condimentum ante cursus ac. Suspendisse id gravida dolor. \n",
    "Nulla facilisi. Donec pharetra elit erat, eu sollicitudin massa pellentesque ac. \n",
    "Aliquam erat volutpat. Sed ac nisi eu justo gravida sodales et quis dolor. Sed feugiat tincidunt dolor, \n",
    "nec accumsan lorem egestas vel. Aliquam ac ultrices odio, \n",
    "quis lacinia ligula. Aenean diam libero, ornare at tempor nec, blandit sed eros.\"\"\")\n",
    "\n",
    "print(f\"counting string {'a'} in sentance so '{sentance.count('a')}' times repeated\")\n"
   ]
  },
  {
   "cell_type": "markdown",
   "id": "e4e85e0e",
   "metadata": {},
   "source": [
    "### Unpacking the tuple "
   ]
  },
  {
   "cell_type": "code",
   "execution_count": 41,
   "id": "4163b4cc",
   "metadata": {},
   "outputs": [
    {
     "name": "stdout",
     "output_type": "stream",
     "text": [
      "Unpacking tuple when elements are countable\n",
      "apple\n",
      "banana\n",
      "cherry\n",
      "\n",
      "Unpacking tuple when elements are more\n",
      "apple\n",
      "banana\n",
      "['cherry', 'strawberry', 'raspberry']\n"
     ]
    }
   ],
   "source": [
    "fruits = (\"apple\", \"banana\", \"cherry\")\n",
    "(a,b,c)=fruits\n",
    "print(\"Unpacking tuple when elements are countable\")\n",
    "print(a)\n",
    "print(b)\n",
    "print(c)\n",
    "\n",
    "print()\n",
    "\n",
    "fruits = (\"apple\", \"banana\", \"cherry\", \"strawberry\", \"raspberry\")\n",
    "print(\"Unpacking tuple when elements are more\")\n",
    "(a,b,*c)=fruits\n",
    "print(a)\n",
    "print(b)\n",
    "print(c)"
   ]
  },
  {
   "cell_type": "markdown",
   "id": "3f0e3318",
   "metadata": {},
   "source": [
    "### Looping tuples\n",
    "\n",
    "#### looping with out index\n",
    "- no need to take len()\n",
    "\n",
    "#### Print all items by referring to their index number:\n",
    "- need to take range(len())"
   ]
  },
  {
   "cell_type": "code",
   "execution_count": 54,
   "id": "d3fa84fe",
   "metadata": {},
   "outputs": [
    {
     "name": "stdout",
     "output_type": "stream",
     "text": [
      "Looping tuple without index[]\n",
      "fruit >> apple\n",
      "fruit >> banana\n",
      "fruit >> cherry\n",
      "fruit >> strawberry\n",
      "fruit >> raspberry\n",
      "\n",
      "Looping tuple with index[]\n",
      "fruit in 0 position >> apple\n",
      "fruit in 1 position >> banana\n",
      "fruit in 2 position >> cherry\n",
      "fruit in 3 position >> strawberry\n",
      "fruit in 4 position >> raspberry\n"
     ]
    }
   ],
   "source": [
    "fruits = (\"apple\", \"banana\", \"cherry\", \"strawberry\", \"raspberry\")\n",
    "print(\"Looping tuple without index[]\")\n",
    "for fruit in fruits:\n",
    "    print(f\"fruit >> {fruit}\")\n",
    "    \n",
    "print()\n",
    "\n",
    "print(\"Looping tuple with index[]\")\n",
    "for i in range(len(fruits)):\n",
    "    print(f\"fruit in {i} position >> {fruits[i]}\")"
   ]
  },
  {
   "cell_type": "markdown",
   "id": "45cff077",
   "metadata": {},
   "source": [
    "### Joining and Multiplying the tuple\n",
    "\n",
    "#### joining use (+)\n",
    "\n",
    "\n",
    "#### multiplying use (*)"
   ]
  },
  {
   "cell_type": "code",
   "execution_count": 65,
   "id": "9394f176",
   "metadata": {},
   "outputs": [
    {
     "name": "stdout",
     "output_type": "stream",
     "text": [
      "Joining/Concatenating the tuple\n",
      "Tuple after joining 'Hello, World....!'\n",
      "\n",
      "multiplying the tuple..!\n",
      "Hello,Hello,Hello,Hello,Hello,Hello,Hello,\n",
      "\n",
      "concatenating and multiplying the tuple..!\n",
      "Tuple after joining and multiplying 'Hello, World....World....World....World....World....World....World....'\n"
     ]
    }
   ],
   "source": [
    "print(\"Joining/Concatenating the tuple\")\n",
    "t1=(\"Hello,\")\n",
    "t2=(\"World....!\")\n",
    "new_t=t1+' '+t2\n",
    "print(f\"Tuple after joining '{new_t}'\")\n",
    "\n",
    "print()\n",
    "\n",
    "print(\"multiplying the tuple..!\")\n",
    "t1=(\"Hello,\")\n",
    "print(t1*7)\n",
    "\n",
    "\n",
    "print()\n",
    "\n",
    "print(\"concatenating and multiplying the tuple..!\")\n",
    "t1=(\"Hello,\")\n",
    "t2=(\"World....\")\n",
    "new_t=t1+' '+(t2*7)\n",
    "print(f\"Tuple after joining and multiplying '{new_t}'\")"
   ]
  },
  {
   "cell_type": "markdown",
   "id": "59ece044",
   "metadata": {},
   "source": [
    "### updating/ modifying the tuple\n",
    "\n",
    "- since __tuple__ is immutable(not modifiable) so we need to convert it to list and then we can update it/ modify it.\n",
    "- to convery it use explicit type conversion."
   ]
  },
  {
   "cell_type": "code",
   "execution_count": 79,
   "id": "7a078c6d",
   "metadata": {},
   "outputs": [
    {
     "name": "stdout",
     "output_type": "stream",
     "text": [
      "explicitly converting it to list: ['apple', 'banana', 'cherry', 'strawberry', 'raspberry'] <class 'list'>\n",
      "['apple', 'banana', 'cherry', 'strawberry', 'raspberry', 'New Fruit Mango is added']\n",
      "\n",
      "After Updating/Modifying: ('apple', 'banana', 'cherry', 'strawberry', 'raspberry', 'New Fruit Mango is added') <class 'tuple'>\n"
     ]
    }
   ],
   "source": [
    "fruits = (\"apple\", \"banana\", \"cherry\", \"strawberry\", \"raspberry\")\n",
    "\n",
    "# covert the tuple to list\n",
    "lst=list(fruits)\n",
    "print(\"explicitly converting it to list:\",lst,type(lst))\n",
    "\n",
    "\n",
    "# now we can update/add data to list \n",
    "lst.append(\"New Fruit Mango is added\")\n",
    "print(lst)\n",
    "\n",
    "print()\n",
    "\n",
    "# convert the list to tuple\n",
    "# now updated list convert it to tuple\n",
    "new_fruits=tuple(lst)\n",
    "print(\"After Updating/Modifying:\",new_fruits,type(new_fruits))"
   ]
  },
  {
   "cell_type": "markdown",
   "id": "415e8327",
   "metadata": {},
   "source": [
    "### deleting tuple"
   ]
  },
  {
   "cell_type": "code",
   "execution_count": 119,
   "id": "8bc32540",
   "metadata": {},
   "outputs": [
    {
     "name": "stdout",
     "output_type": "stream",
     "text": [
      "before deleting ('apple', 'banana', 'cherry', 'strawberry', 'raspberry')\n"
     ]
    },
    {
     "ename": "NameError",
     "evalue": "name 'fruits' is not defined",
     "output_type": "error",
     "traceback": [
      "\u001b[1;31m---------------------------------------------------------------------------\u001b[0m",
      "\u001b[1;31mNameError\u001b[0m                                 Traceback (most recent call last)",
      "\u001b[1;32m<ipython-input-119-b7fcdb4d7f6d>\u001b[0m in \u001b[0;36m<module>\u001b[1;34m\u001b[0m\n\u001b[0;32m      2\u001b[0m \u001b[0mprint\u001b[0m\u001b[1;33m(\u001b[0m\u001b[1;34m\"before deleting\"\u001b[0m\u001b[1;33m,\u001b[0m\u001b[0mfruits\u001b[0m\u001b[1;33m)\u001b[0m\u001b[1;33m\u001b[0m\u001b[1;33m\u001b[0m\u001b[0m\n\u001b[0;32m      3\u001b[0m \u001b[1;32mdel\u001b[0m\u001b[1;33m(\u001b[0m\u001b[0mfruits\u001b[0m\u001b[1;33m)\u001b[0m\u001b[1;33m\u001b[0m\u001b[1;33m\u001b[0m\u001b[0m\n\u001b[1;32m----> 4\u001b[1;33m \u001b[0mprint\u001b[0m\u001b[1;33m(\u001b[0m\u001b[1;34m\"after deleting the tuple\"\u001b[0m\u001b[1;33m,\u001b[0m\u001b[0mfruits\u001b[0m\u001b[1;33m)\u001b[0m\u001b[1;33m\u001b[0m\u001b[1;33m\u001b[0m\u001b[0m\n\u001b[0m\u001b[0;32m      5\u001b[0m \u001b[1;33m\u001b[0m\u001b[0m\n\u001b[0;32m      6\u001b[0m \u001b[1;31m# error when try to execute the last statement\u001b[0m\u001b[1;33m\u001b[0m\u001b[1;33m\u001b[0m\u001b[1;33m\u001b[0m\u001b[0m\n",
      "\u001b[1;31mNameError\u001b[0m: name 'fruits' is not defined"
     ]
    }
   ],
   "source": [
    "fruits = (\"apple\", \"banana\", \"cherry\", \"strawberry\", \"raspberry\")\n",
    "print(\"before deleting\",fruits)\n",
    "del(fruits)\n",
    "print(\"after deleting the tuple\",fruits)\n",
    "\n",
    "# error when try to execute the last statement\n",
    "\"\"\"\n",
    "---------------------------------------------------------------------------\n",
    "NameError                                 Traceback (most recent call last)\n",
    "<ipython-input-118-b352fcb95482> in <module>\n",
    "      2 print(\"before deleting\",fruits)\n",
    "      3 del(fruits)\n",
    "----> 4 print(\"after deleting the tuple\",fruits)\n",
    "\n",
    "NameError: name 'fruits' is not defined\n",
    "\n",
    "\"\"\""
   ]
  },
  {
   "cell_type": "markdown",
   "id": "6cf9b7e5",
   "metadata": {},
   "source": [
    "## Some other built in methods"
   ]
  },
  {
   "cell_type": "markdown",
   "id": "52fcbd94",
   "metadata": {},
   "source": [
    "### len()\n",
    "returns len() of a tuple"
   ]
  },
  {
   "cell_type": "code",
   "execution_count": 121,
   "id": "eaf9f972",
   "metadata": {},
   "outputs": [
    {
     "name": "stdout",
     "output_type": "stream",
     "text": [
      "after finding length of f1 '5' and f2 '7'\n"
     ]
    }
   ],
   "source": [
    "f1 = (\"apple\", \"banana\", \"cherry\", \"strawberry\", \"raspberry\")\n",
    "f2 = (\"apple\", \"banana\", \"cherry\", \"strawberry\", \"raspberry\",'mango','grapes')\n",
    "print(f\"after finding length of f1 '{len(f1)}' and f2 '{len(f2)}'\")"
   ]
  },
  {
   "cell_type": "markdown",
   "id": "4b1064a2",
   "metadata": {},
   "source": [
    "### min()\n",
    "returns min() of a tuple\n",
    "\n",
    "\n",
    "### max()\n",
    "returns max() of a tuple"
   ]
  },
  {
   "cell_type": "code",
   "execution_count": 107,
   "id": "b8c0c38f",
   "metadata": {},
   "outputs": [
    {
     "name": "stdout",
     "output_type": "stream",
     "text": [
      "The minimum of f1 'apple'\n",
      "The max of f1 'strawberry'\n"
     ]
    }
   ],
   "source": [
    "f1 = (\"apple\", \"banana\", \"cherry\", \"strawberry\", \"raspberry\")\n",
    "print(f\"The minimum of f1 '{min(f1)}'\")\n",
    "print(f\"The maximum of f1 '{max(f1)}'\")"
   ]
  },
  {
   "cell_type": "markdown",
   "id": "289bc267",
   "metadata": {},
   "source": [
    "### in()\n",
    "checks if the element in tuple or not"
   ]
  },
  {
   "cell_type": "code",
   "execution_count": 111,
   "id": "1238e373",
   "metadata": {},
   "outputs": [
    {
     "name": "stdout",
     "output_type": "stream",
     "text": [
      "False\n",
      "True\n"
     ]
    }
   ],
   "source": [
    "f1 = (\"apple\", \"banana\", \"cherry\", \"strawberry\", \"raspberry\")\n",
    "\n",
    "print(\"mango\" in f1)\n",
    "print(\"apple\" in f1)"
   ]
  },
  {
   "cell_type": "markdown",
   "id": "f042ca55",
   "metadata": {},
   "source": [
    "## Tuple conversions to other "
   ]
  },
  {
   "cell_type": "markdown",
   "id": "99c41e1a",
   "metadata": {},
   "source": [
    "### tuple to list"
   ]
  },
  {
   "cell_type": "code",
   "execution_count": 87,
   "id": "10d8f12b",
   "metadata": {},
   "outputs": [
    {
     "name": "stdout",
     "output_type": "stream",
     "text": [
      "Before conversion '<class 'tuple'>'\n",
      "('apple', 'banana', 'cherry', 'strawberry', 'raspberry')\n",
      "\n",
      "After conversion '<class 'list'>'\n",
      "['apple', 'banana', 'cherry', 'strawberry', 'raspberry']\n"
     ]
    }
   ],
   "source": [
    "fruits = (\"apple\", \"banana\", \"cherry\", \"strawberry\", \"raspberry\")\n",
    "print(f\"Before conversion '{type(fruits)}'\")\n",
    "print(fruits)\n",
    "print()\n",
    "\n",
    "fruit=list(fruits)\n",
    "print(f\"After conversion '{type(fruit)}'\")\n",
    "print(fruit)"
   ]
  },
  {
   "cell_type": "markdown",
   "id": "c8e2db36",
   "metadata": {},
   "source": [
    "### tuple to dictionary"
   ]
  },
  {
   "cell_type": "code",
   "execution_count": 89,
   "id": "f2b06869",
   "metadata": {},
   "outputs": [
    {
     "name": "stdout",
     "output_type": "stream",
     "text": [
      "Before conversion '<class 'tuple'>'\n",
      "((0, 'apple'), (1, 'banana'), (2, 'cherry'), (3, 'strawberry'), (4, 'raspberry'))\n",
      "\n",
      "After conversion '<class 'dict'>'\n",
      "{0: 'apple', 1: 'banana', 2: 'cherry', 3: 'strawberry', 4: 'raspberry'}\n"
     ]
    }
   ],
   "source": [
    "fruits = ((0,\"apple\"), (1,\"banana\"), (2,\"cherry\"), (3,\"strawberry\"), (4,\"raspberry\"))\n",
    "print(f\"Before conversion '{type(fruits)}'\")\n",
    "print(fruits)\n",
    "print()\n",
    "\n",
    "\n",
    "fruit=dict(fruits)\n",
    "print(f\"After conversion '{type(fruit)}'\")\n",
    "print(fruit)"
   ]
  },
  {
   "cell_type": "markdown",
   "id": "cb1c74e3",
   "metadata": {},
   "source": [
    "### tuple to set"
   ]
  },
  {
   "cell_type": "code",
   "execution_count": 91,
   "id": "16338c3e",
   "metadata": {},
   "outputs": [
    {
     "name": "stdout",
     "output_type": "stream",
     "text": [
      "Before conversion '<class 'tuple'>'\n",
      "((0, 'apple'), (1, 'banana'), (2, 'cherry'), (3, 'strawberry'), (4, 'raspberry'))\n",
      "\n",
      "After conversion '<class 'set'>'\n",
      "{(2, 'cherry'), (3, 'strawberry'), (0, 'apple'), (1, 'banana'), (4, 'raspberry')}\n"
     ]
    }
   ],
   "source": [
    "fruits = ((0,\"apple\"), (1,\"banana\"), (2,\"cherry\"), (3,\"strawberry\"), (4,\"raspberry\"))\n",
    "print(f\"Before conversion '{type(fruits)}'\")\n",
    "print(fruits)\n",
    "print()\n",
    "\n",
    "\n",
    "fruit=set(fruits)\n",
    "print(f\"After conversion '{type(fruit)}'\")\n",
    "print(fruit)"
   ]
  }
 ],
 "metadata": {
  "kernelspec": {
   "display_name": "Python 3",
   "language": "python",
   "name": "python3"
  },
  "language_info": {
   "codemirror_mode": {
    "name": "ipython",
    "version": 3
   },
   "file_extension": ".py",
   "mimetype": "text/x-python",
   "name": "python",
   "nbconvert_exporter": "python",
   "pygments_lexer": "ipython3",
   "version": "3.8.10"
  },
  "toc": {
   "base_numbering": 1,
   "nav_menu": {},
   "number_sections": true,
   "sideBar": true,
   "skip_h1_title": false,
   "title_cell": "Table of Contents",
   "title_sidebar": "Contents",
   "toc_cell": false,
   "toc_position": {
    "height": "calc(100% - 180px)",
    "left": "10px",
    "top": "150px",
    "width": "256px"
   },
   "toc_section_display": true,
   "toc_window_display": true
  }
 },
 "nbformat": 4,
 "nbformat_minor": 5
}
